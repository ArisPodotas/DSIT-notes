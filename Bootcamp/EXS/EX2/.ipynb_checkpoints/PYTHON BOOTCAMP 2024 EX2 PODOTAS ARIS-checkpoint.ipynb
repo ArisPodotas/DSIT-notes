{
 "cells": [
  {
   "cell_type": "markdown",
   "id": "884d29db-8031-4a31-b27e-2ebb42b8b4cf",
   "metadata": {},
   "source": [
    "# EX2"
   ]
  },
  {
   "cell_type": "markdown",
   "id": "a54b4d34-e6e7-47f0-8a06-85f112240581",
   "metadata": {},
   "source": [
    "\n",
    "# Background\n",
    "\n",
    " The Levenshtein distance is a metric that measures string similarity by counting the minimum number of single-character edits required to transform one string into another. These edits can include insertions, deletions, or substitutions of characters. For example, the Levenshtein distance between \"kitten\" and \"sitting\" is 3 because we need to substitute 'k' with 's', change 'e' to 'i', and insert 'g' at the end.\n",
    " \r\n",
    "Here's how to use the Levenshtein Python library to calculate this distanc\n",
    "* First, install the python library (if you haven't already): pip install python-Levenshtein\r",
    "* Then, use the following code to calculate the distance. \r\n",
    "\r"
   ]
  },
  {
   "cell_type": "code",
   "execution_count": null,
   "id": "329a8de0-889e-4b3f-80b4-5a75968a2894",
   "metadata": {},
   "outputs": [],
   "source": [
    "import Levenshtein\n",
    "\n",
    "# Strings to compare\n",
    "str1 = \"kitten\"\n",
    "str2 = \"sitting\"\n",
    "\n",
    "# Calculate Levenshtein distance\n",
    "distance = Levenshtein.distance(str1, str2)\n",
    "print(f\"The Levenshtein distance between '{str1}' and '{str2}' is {distance}.\")"
   ]
  },
  {
   "cell_type": "markdown",
   "id": "a456818d-3fff-4da7-b0ee-4de18006905a",
   "metadata": {},
   "source": [
    "## What you have to do:"
   ]
  },
  {
   "cell_type": "markdown",
   "id": "f83768bc-4b43-4ba7-b878-1ee9f2838a64",
   "metadata": {},
   "source": [
    "### \tGenerate (see Lab 3)\r\n",
    "1.\t5 random DNA strings of length X, \r\n",
    "2.\t5 random DNA strings of length 5*X, \r\n",
    "3.\t5 random DNA strings of length 10*X, \r\n",
    "4.\t5 random DNA strings of length 50*X, \r\n",
    "5.\t5 random DNA strings of length 100*X, \r\n",
    "6.\t5 random DNA strings of length 500*X, \r\n",
    "7.\t5 random DNA strings of length 1000*X,\r\n",
    "8.\t...etc\r\n",
    "      till N.\r\n",
    "... and write them (see Lab 3) to file file1.txt. You should select N and X, depending on your laptop/RAM setup. If you use large X, say 1000000, you may experience serious delays with the execution of Levenshtein.distance(). We suggest trying with X=100 (or 1000), and N=7 to start with and adjust appropriately,\n",
    "\n",
    "Reapeat previous step (use same X and N as before), and write the strings to file file1.txt. file2.txt. \r"
   ]
  },
  {
   "cell_type": "markdown",
   "id": "d198ccee-12ec-4e08-a701-edd4da28f8d9",
   "metadata": {},
   "source": [
    "# Approach\n",
    "\n",
    "There will be ***code comments*** detailing what the *code* is doing along with the *markdown*.\n",
    "\n",
    "Small *functions* will be implemented for most of the operations in the exercise.\n",
    "\n",
    "Interlocking segments of code and *markdown* will be present throughout the file with explanations of the code and definitions of the requirement it fulfills.\n",
    "\n",
    "### The following cells details the functions used in the requirements thus far:"
   ]
  },
  {
   "cell_type": "code",
   "execution_count": null,
   "id": "85629701-605a-4474-884b-629ca0632af6",
   "metadata": {},
   "outputs": [],
   "source": [
    "# Importing libraries\n",
    "from Levenshtein import distance as dist\n",
    "import matplotlib.pyplot as plt\n",
    "from os import remove\n",
    "import random\n",
    "from time import time\n",
    "\n",
    "def timeit(func):\n",
    "    \"\"\"Wrapper function definition for printing how long a function took to run\"\"\"\n",
    "    def wrapper(*args, **kwargs):\n",
    "        start_time = time()  # Record the start time\n",
    "        result = func(*args, **kwargs)  # Execute the function\n",
    "        end_time = time()  # Record the end time\n",
    "        elapsed_time = end_time - start_time  # Calculate the duration\n",
    "        print(f\"Function '{func.__name__}' executed in {elapsed_time:.4f} seconds\")\n",
    "        return result\n",
    "    return wrapper"
   ]
  },
  {
   "cell_type": "markdown",
   "id": "7372bfb3-32e5-4d83-a82e-588da21a23cb",
   "metadata": {},
   "source": [
    "## The timeit function\n",
    "\n",
    "The timeit *function* has no real impact on the rest of the script but I like using it to make sure that the implementations of the *functions* are sound and dont take too long to `execute`\n",
    "It's meant to be a ***wrapper*** for the other *functions* of the script and it simply contains a `nested` *function* within it, that takes a time snapshot before and after the ran *function*, and `prints` the time elapse to the *terminal*"
   ]
  },
  {
   "cell_type": "code",
   "execution_count": null,
   "id": "455ea5ad-c3f9-4e68-a679-8bdb087a76e5",
   "metadata": {},
   "outputs": [],
   "source": [
    "@timeit\n",
    "def generator(lines, length, filename, mode):\n",
    "    \"\"\"Generates a file that has random contents with defined lines and line lengths\"\"\"\n",
    "    chars = ['A','T','G','C'] # Define files content list\n",
    "    query = open(filename, mode) # Open in order to write\n",
    "    output = '' # Initializing variables\n",
    "    for line in range(lines): # Height of file\n",
    "        for char in range(length): # Width of file\n",
    "            output += random.choice(chars) # Choose randomly form the options\n",
    "        output += '\\n' # formatting\n",
    "    query.write(output) # Writing to file\n",
    "    query.close() # Don't forget to close ;)"
   ]
  },
  {
   "cell_type": "markdown",
   "id": "1b8d7eb5-00ff-4131-950b-bc6fb5e25465",
   "metadata": {},
   "source": [
    "## The generator function\n",
    "\n",
    "The `timeit wrapper` has been applied to the *function*\n",
    "\n",
    "The *function* has four ***positional arguments***, with the explicit purpose of writing a random sting to a file\n",
    "* lines -> The number of lines to be written\n",
    "* length -> The length of each line in characters\n",
    "* filename -> What file to write to\n",
    "* mode -> How it should interact with the file to output the resutls\n",
    "\n",
    "It begins with the initialization of a list that contains the characters to be used in the file.\n",
    "It loads the file and initializes a precursor output *variable*\n",
    "Then, it iterates the file lines and the how many characters we want, adding a random choice from the list of characters for every position\n"
   ]
  },
  {
   "cell_type": "code",
   "execution_count": null,
   "id": "1a1eb336-0ffc-44a8-b1be-97d5b4cd297c",
   "metadata": {},
   "outputs": [],
   "source": [
    "@timeit\n",
    "def caller(times, x, filename, mode):\n",
    "    \"\"\"Calls the generator function with a algorythm for the requirements\"\"\"\n",
    "    for batch in range(times):\n",
    "        if batch == 0: # Base case\n",
    "            factor = 1\n",
    "        elif batch % 2 == 0: # For every even loop number\n",
    "            factor *= 2 # Modify the factor such that the line length is correct\n",
    "        else: # For every odd loop\n",
    "            factor *= 5 # Modify the factor such that the line length is correct\n",
    "        characters = factor * x # Taking the function input and the factor multiplication and defining the line legth\n",
    "        generator(lines = 5, length = characters, filename = filename, mode = mode) # Calling generator with all the new parameters"
   ]
  },
  {
   "cell_type": "markdown",
   "id": "34bc664e-49ac-4ae3-8673-1d849d0c735d",
   "metadata": {},
   "source": [
    "## The caller function\n",
    "\n",
    "The `timeit wrapper` has been applied to the *function*\n",
    "\n",
    "The *function* has four ***positional arguments***, with the explicit purpose of `calling` the `generator` *function*\n",
    "* times -> The number of batches to call the `generator` *function*\n",
    "* x -> The starting amount of characters to use\n",
    "* filename -> What file to write to\n",
    "* mode -> How it should interact with the file to output the resutls\n",
    "\n"
   ]
  },
  {
   "cell_type": "code",
   "execution_count": null,
   "id": "195222df-6501-4535-9989-30f7ccd4e4e7",
   "metadata": {},
   "outputs": [],
   "source": [
    "############################################LEFT HERE LEFT HERE LEFT HERE LEFT HERE LEFT HERE LEFT HERE##############################################"
   ]
  },
  {
   "cell_type": "code",
   "execution_count": null,
   "id": "ab07beee-28aa-4e5a-8e0d-ef2b31021be4",
   "metadata": {},
   "outputs": [],
   "source": [
    "# Initializng files (also to empty them)\n",
    "with open('file1.txt', 'w') as file:\n",
    "    pass\n",
    "with open('file2.txt', 'w') as file:\n",
    "    pass\n",
    "# Making the script a little more interactive\n",
    "inp1 = int(input(f'How many characters should the first line have?'))\n",
    "inp2 = int(input(f'How many batches do you want written?'))\n",
    "caller(x = inp1, times = inp2, filename = \"file1.txt\", mode = 'a')\n",
    "caller(x = inp1, times = inp2, filename = \"file2.txt\", mode = 'a')"
   ]
  },
  {
   "cell_type": "markdown",
   "id": "a80f7857-9d9c-40bd-9af0-577599cd9c4c",
   "metadata": {},
   "source": [
    "# Implementation and output"
   ]
  },
  {
   "cell_type": "code",
   "execution_count": null,
   "id": "39882463-6209-461a-852f-c8a48f5bbb51",
   "metadata": {},
   "outputs": [],
   "source": [
    "# •\tMeasure the execution time of Levenshtein.distance() for string pairs: one string from file1.txt and one from file2.txt as follows: 1st line of file1.txt with 1st line of file2.txt, 2nd line of file1.txt with 2nd line of file2.txt, 3rd line of file1.txt with 3rd line of file2.txt etc...\n",
    "\n",
    "@timeit\n",
    "def measure():\n",
    "    # Reading input\n",
    "    query = open('file1.txt', 'r')\n",
    "    requery = open('file2.txt', 'r')\n",
    "    # Begining calculations\n",
    "    element = requery.readlines()\n",
    "    size = len(element)\n",
    "    table = [0.0]*size # Initialize a data structure that fits the length of the files in lines\n",
    "    # Calculating distances\n",
    "    for index, line in enumerate(query.readlines()):\n",
    "        sequence = element[index]\n",
    "        start = time()\n",
    "        dist(line.strip(), sequence.strip()) # Levenstein distance (look at imports)\n",
    "        stop = time()\n",
    "        table[index] = stop - start\n",
    "    return table"
   ]
  },
  {
   "cell_type": "code",
   "execution_count": null,
   "id": "7d545553-7f57-4bad-a48c-b6240d6c30ab",
   "metadata": {},
   "outputs": [],
   "source": [
    "# •\tCalculate average (AVG) execution time for strings of same length.\n",
    "\n",
    "def average(data):\n",
    "    sum = 0\n",
    "    for thing in data:\n",
    "        sum += thing\n",
    "    return sum / len(data)\n",
    "\n",
    "times = measure()\n",
    "entries = int(len(times)/5)\n",
    "averages = [0.0]*entries\n",
    "for i in range(0, entries, 5):\n",
    "    slice = times[i:i + 5:]\n",
    "    averages[int(i / 5)] = average(slice)"
   ]
  },
  {
   "cell_type": "code",
   "execution_count": null,
   "id": "2392ead3-3408-4c73-8e29-f6a0213c890f",
   "metadata": {},
   "outputs": [],
   "source": [
    "print(averages)"
   ]
  },
  {
   "cell_type": "code",
   "execution_count": null,
   "id": "bb0a9e1b-0e26-4cf6-a27b-bd1efde2e3c0",
   "metadata": {},
   "outputs": [],
   "source": [
    "# •\tPlot a graph (see Lab 3) to show the performance: AVG execution time (Y-axis) vs string length (X-axis). Check here for a nice plot tutorial: https://matplotlib.org/stable/tutorials/pyplot.html"
   ]
  },
  {
   "cell_type": "code",
   "execution_count": null,
   "id": "94bfc2d5-378b-4060-88a3-ba0ada57f528",
   "metadata": {},
   "outputs": [],
   "source": []
  },
  {
   "cell_type": "code",
   "execution_count": null,
   "id": "70ab29ef-b429-4789-821f-3abe1ad1ba4f",
   "metadata": {},
   "outputs": [],
   "source": []
  }
 ],
 "metadata": {
  "kernelspec": {
   "display_name": "Python 3 (ipykernel)",
   "language": "python",
   "name": "python3"
  },
  "language_info": {
   "codemirror_mode": {
    "name": "ipython",
    "version": 3
   },
   "file_extension": ".py",
   "mimetype": "text/x-python",
   "name": "python",
   "nbconvert_exporter": "python",
   "pygments_lexer": "ipython3",
   "version": "3.12.4"
  }
 },
 "nbformat": 4,
 "nbformat_minor": 5
}
