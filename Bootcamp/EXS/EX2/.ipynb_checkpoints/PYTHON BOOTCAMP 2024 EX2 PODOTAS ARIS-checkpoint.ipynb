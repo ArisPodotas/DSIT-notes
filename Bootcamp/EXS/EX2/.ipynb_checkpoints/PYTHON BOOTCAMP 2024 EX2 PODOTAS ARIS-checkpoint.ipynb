{
 "cells": [
  {
   "cell_type": "markdown",
   "id": "884d29db-8031-4a31-b27e-2ebb42b8b4cf",
   "metadata": {},
   "source": [
    "# EX2"
   ]
  },
  {
   "cell_type": "markdown",
   "id": "a54b4d34-e6e7-47f0-8a06-85f112240581",
   "metadata": {},
   "source": [
    "\n",
    "# Background\n",
    "\n",
    " The Levenshtein distance is a metric that measures string similarity by counting the minimum number of single-character edits required to transform one string into another. These edits can include insertions, deletions, or substitutions of characters. For example, the Levenshtein distance between \"kitten\" and \"sitting\" is 3 because we need to substitute 'k' with 's', change 'e' to 'i', and insert 'g' at the end.\n",
    " \r\n",
    "Here's how to use the Levenshtein Python library to calculate this distanc\n",
    "* First, install the python library (if you haven't already): pip install python-Levenshtein\r",
    "* Then, use the following code to calculate the distance. \r\n",
    "\r"
   ]
  },
  {
   "cell_type": "code",
   "execution_count": 1,
   "id": "329a8de0-889e-4b3f-80b4-5a75968a2894",
   "metadata": {},
   "outputs": [
    {
     "name": "stdout",
     "output_type": "stream",
     "text": [
      "The Levenshtein distance between 'kitten' and 'sitting' is 3.\n"
     ]
    }
   ],
   "source": [
    "import Levenshtein\n",
    "\n",
    "# Strings to compare\n",
    "str1 = \"kitten\"\n",
    "str2 = \"sitting\"\n",
    "\n",
    "# Calculate Levenshtein distance\n",
    "distance = Levenshtein.distance(str1, str2)\n",
    "print(f\"The Levenshtein distance between '{str1}' and '{str2}' is {distance}.\")"
   ]
  },
  {
   "cell_type": "markdown",
   "id": "a456818d-3fff-4da7-b0ee-4de18006905a",
   "metadata": {},
   "source": [
    "## What you have to do:"
   ]
  },
  {
   "cell_type": "markdown",
   "id": "f83768bc-4b43-4ba7-b878-1ee9f2838a64",
   "metadata": {},
   "source": [
    "### \tGenerate (see Lab 3)\r\n",
    "1.\t5 random DNA strings of length X, \r\n",
    "2.\t5 random DNA strings of length 5*X, \r\n",
    "3.\t5 random DNA strings of length 10*X, \r\n",
    "4.\t5 random DNA strings of length 50*X, \r\n",
    "5.\t5 random DNA strings of length 100*X, \r\n",
    "6.\t5 random DNA strings of length 500*X, \r\n",
    "7.\t5 random DNA strings of length 1000*X,\r\n",
    "8.\t...etc\r\n",
    "      till N.\r\n",
    "... and write them (see Lab 3) to file file1.txt. You should select N and X, depending on your laptop/RAM setup. If you use large X, say 1000000, you may experience serious delays with the execution of Levenshtein.distance(). We suggest trying with X=100 (or 1000), and N=7 to start with and adjust appropriately,\n",
    "\n",
    "Reapeat previous step (use same X and N as before), and write the strings to file file1.txt. file2.txt. \r"
   ]
  },
  {
   "cell_type": "markdown",
   "id": "d198ccee-12ec-4e08-a701-edd4da28f8d9",
   "metadata": {},
   "source": [
    "# Approach\n",
    "\n",
    "There will be ***code comments*** detailing what the *code* is doing along with the *markdown*.\n",
    "\n",
    "Small *functions* will be implemented for most of the operations in the exercise.\n",
    "\n",
    "Interlocking segments of code and *markdown* will be present throughout the file with explanations of the code and definitions of the requirement it fulfills.\n",
    "\n",
    "### Note that each python cell is not independent\n",
    "\n",
    "One should run previous cells before any one individual cell to ensure correct behavior\n",
    "\n",
    "### The following cells details the functions used in the requirements thus far:"
   ]
  },
  {
   "cell_type": "code",
   "execution_count": 1,
   "id": "85629701-605a-4474-884b-629ca0632af6",
   "metadata": {},
   "outputs": [],
   "source": [
    "# Importing libraries\n",
    "from Levenshtein import distance as dist\n",
    "import matplotlib.pyplot as plt\n",
    "from os import remove\n",
    "import random\n",
    "from time import time, perf_counter\n",
    "\n",
    "def timeit(func):\n",
    "    \"\"\"Wrapper function definition for printing how long a function took to run\"\"\"\n",
    "    def wrapper(*args, **kwargs):\n",
    "        start_time = time()  # Record the start time\n",
    "        result = func(*args, **kwargs)  # Execute the function\n",
    "        end_time = time()  # Record the end time\n",
    "        elapsed_time = end_time - start_time  # Calculate the duration\n",
    "        print(f\"Function '{func.__name__}' executed in {elapsed_time:.4f} seconds\")\n",
    "        return result\n",
    "    return wrapper"
   ]
  },
  {
   "cell_type": "markdown",
   "id": "7372bfb3-32e5-4d83-a82e-588da21a23cb",
   "metadata": {},
   "source": [
    "## The timeit function\n",
    "\n",
    "The timeit *function* has no real impact on the rest of the script but I like using it to make sure that the implementations of the *functions* are sound and dont take too long to `execute`\n",
    "It's meant to be a ***wrapper*** for the other *functions* of the script and it simply contains a `nested` *function* within it, that takes a time snapshot before and after the ran *function*, and `prints` the time elapse to the *terminal*"
   ]
  },
  {
   "cell_type": "code",
   "execution_count": 2,
   "id": "455ea5ad-c3f9-4e68-a679-8bdb087a76e5",
   "metadata": {},
   "outputs": [],
   "source": [
    "@timeit\n",
    "def generator(lines, length, filename, mode):\n",
    "    \"\"\"Generates a file that has random contents with defined lines and line lengths\"\"\"\n",
    "    chars = ['A','T','G','C'] # Define files content list\n",
    "    query = open(filename, mode) # Open in order to write\n",
    "    output = '' # Initializing variables\n",
    "    for line in range(lines): # Height of file\n",
    "        for char in range(length): # Width of file\n",
    "            output += random.choice(chars) # Choose randomly form the options\n",
    "        output += '\\n' # formatting\n",
    "    query.write(output) # Writing to file\n",
    "    query.close() # Don't forget to close ;)"
   ]
  },
  {
   "cell_type": "markdown",
   "id": "1b8d7eb5-00ff-4131-950b-bc6fb5e25465",
   "metadata": {},
   "source": [
    "## The generator function\n",
    "\n",
    "The `timeit wrapper` has been applied to the *function*\n",
    "\n",
    "The *function* has four ***positional arguments***, with the explicit purpose of writing a random sting to a file\n",
    "* lines -> The number of lines to be written\n",
    "* length -> The length of each line in characters\n",
    "* filename -> What file to write to\n",
    "* mode -> How it should interact with the file to output the resutls\n",
    "\n",
    "It begins with the initialization of a list that contains the characters to be used in the file.\n",
    "It loads the file and initializes a precursor output *variable*\n",
    "Then, it iterates the file lines and the how many characters we want, adding a random choice from the list of characters for every position\n"
   ]
  },
  {
   "cell_type": "code",
   "execution_count": 3,
   "id": "1a1eb336-0ffc-44a8-b1be-97d5b4cd297c",
   "metadata": {},
   "outputs": [],
   "source": [
    "@timeit\n",
    "def caller(times, x, filename, mode):\n",
    "    \"\"\"Calls the generator function with a algorythm for the requirements\"\"\"\n",
    "    factors = [] # To keep the values for the plot in the later question\n",
    "    for batch in range(times):\n",
    "        if batch == 0: # Base case\n",
    "            factor = 1\n",
    "        elif batch % 2 == 0: # For every even loop number\n",
    "            factor *= 2 # Modify the factor such that the line length is correct\n",
    "        else: # For every odd loop\n",
    "            factor *= 5 # Modify the factor such that the line length is correct\n",
    "        characters = factor * x # Taking the function input and the factor multiplication and defining the line legth\n",
    "        factors.append(characters)\n",
    "        generator(lines = 5, length = characters, filename = filename, mode = mode) # Calling generator with all the new parameters\n",
    "    return factors"
   ]
  },
  {
   "cell_type": "markdown",
   "id": "34bc664e-49ac-4ae3-8673-1d849d0c735d",
   "metadata": {},
   "source": [
    "## The caller function\n",
    "\n",
    "The `timeit wrapper` has been applied to the *function*\n",
    "\n",
    "The *function* has four ***positional arguments***, with the explicit purpose of `calling` the `generator` *function*\n",
    "* times -> The number of batches to call the `generator` *function*\n",
    "* x -> The starting amount of characters to use\n",
    "* filename -> What file to write to\n",
    "* mode -> How it should interact with the file to output the resutls\n",
    "\n",
    "The `caller` has a simple function, to call the generator function with keys that relate to the algorithm needed. For this we simply check the modulo of the loop index we are at and change the factor acordingly to reach desired behavior. A list keeps the number of characters of each line after we calculate them based on the motif of the algorithm, that is eventually `returned` by the *function*\n"
   ]
  },
  {
   "cell_type": "code",
   "execution_count": 4,
   "id": "ab07beee-28aa-4e5a-8e0d-ef2b31021be4",
   "metadata": {},
   "outputs": [
    {
     "name": "stdin",
     "output_type": "stream",
     "text": [
      "How many characters should the first line have? 100\n",
      "How many batches do you want written? 7\n"
     ]
    },
    {
     "name": "stdout",
     "output_type": "stream",
     "text": [
      "Function 'generator' executed in 0.0015 seconds\n",
      "Function 'generator' executed in 0.0027 seconds\n",
      "Function 'generator' executed in 0.0044 seconds\n",
      "Function 'generator' executed in 0.0122 seconds\n",
      "Function 'generator' executed in 0.0219 seconds\n",
      "Function 'generator' executed in 0.1025 seconds\n",
      "Function 'generator' executed in 0.2109 seconds\n",
      "Function 'caller' executed in 0.3571 seconds\n",
      "Function 'generator' executed in 0.0000 seconds\n",
      "Function 'generator' executed in 0.0015 seconds\n",
      "Function 'generator' executed in 0.0030 seconds\n",
      "Function 'generator' executed in 0.0120 seconds\n",
      "Function 'generator' executed in 0.0221 seconds\n",
      "Function 'generator' executed in 0.1068 seconds\n",
      "Function 'generator' executed in 0.2104 seconds\n",
      "Function 'caller' executed in 0.3568 seconds\n"
     ]
    },
    {
     "data": {
      "text/plain": [
       "[100, 500, 1000, 5000, 10000, 50000, 100000]"
      ]
     },
     "execution_count": 4,
     "metadata": {},
     "output_type": "execute_result"
    }
   ],
   "source": [
    "# Initializng files (also to empty them)\n",
    "with open('file1.txt', 'w') as file:\n",
    "    pass\n",
    "with open('file2.txt', 'w') as file:\n",
    "    pass\n",
    "# Making the script a little more interactive\n",
    "inp1 = int(input(f'How many characters should the first line have?'))\n",
    "inp2 = int(input(f'How many batches do you want written?'))\n",
    "# Calling and storin the caller, sizes for each file\n",
    "sizes = caller(x = inp1, times = inp2, filename = \"file1.txt\", mode = 'a')\n",
    "caller(x = inp1, times = inp2, filename = \"file2.txt\", mode = 'a')"
   ]
  },
  {
   "cell_type": "markdown",
   "id": "a80f7857-9d9c-40bd-9af0-577599cd9c4c",
   "metadata": {},
   "source": [
    "# Implementation and output\n",
    "\n",
    "Im the block above we simply:\n",
    "* Initialize the files we will need (or empty them to format the data, it's the same function `open() pass`)\n",
    "* Get command line input\n",
    "* Call the `caller()` *function* with input\n"
   ]
  },
  {
   "cell_type": "markdown",
   "id": "e58711d7-40b4-44e2-8fae-a934509168a7",
   "metadata": {},
   "source": [
    "# Starting the second part of the requirements"
   ]
  },
  {
   "cell_type": "code",
   "execution_count": 5,
   "id": "39882463-6209-461a-852f-c8a48f5bbb51",
   "metadata": {},
   "outputs": [
    {
     "name": "stdout",
     "output_type": "stream",
     "text": [
      "Function 'measure' executed in 3.1172 seconds\n",
      "[0.0009375999798066914, 9.299954399466515e-06, 4.500034265220165e-06, 3.1999661587178707e-06, 3.400025889277458e-06, 2.929999027401209e-05, 2.519995905458927e-05, 2.4900014977902174e-05, 2.540001878514886e-05, 2.589996438473463e-05, 8.230004459619522e-05, 8.080003317445517e-05, 7.92999635450542e-05, 6.250001024454832e-05, 6.310001481324434e-05, 0.0013334000250324607, 0.0012730999733321369, 0.0012906999909318984, 0.0012741999817080796, 0.0012793000205419958, 0.00532190001104027, 0.005849600012879819, 0.005690499965567142, 0.005676799977663904, 0.004987300024367869, 0.12268739996943623, 0.12145440001040697, 0.12350159999914467, 0.12282600003527477, 0.12262169999303296, 0.4873429999570362, 0.4855845000129193, 0.48618760000681505, 0.4887626000563614, 0.49001140001928434]\n",
      "35\n",
      "[56, 58, 58, 54, 54, 262, 257, 276, 256, 272, 521, 531, 526, 512, 529, 2607, 2604, 2597, 2595, 2589, 5176, 5189, 5171, 5179, 5193, 25894, 25835, 25837, 25861, 25862, 51676, 51748, 51612, 51695, 51682]\n",
      "35\n"
     ]
    }
   ],
   "source": [
    "# •\tMeasure the execution time of Levenshtein.distance() for string pairs: one string from file1.txt and one from file2.txt as follows: 1st line of file1.txt with 1st line of file2.txt, 2nd line of file1.txt with 2nd line of file2.txt, 3rd line of file1.txt with 3rd line of file2.txt etc...\n",
    "\n",
    "@timeit\n",
    "def measure():\n",
    "    # Reading input\n",
    "    query = open('file1.txt', 'r')\n",
    "    requery = open('file2.txt', 'r')\n",
    "    # Begining calculations\n",
    "    element = requery.readlines()\n",
    "    size = len(element)\n",
    "    table = [0.0]*size # Initialize a data structure that fits the length of the files in lines\n",
    "    pairs = [0.0]*size # Initialize a data structure that fits the length of the files in lines\n",
    "    # Calculating distances\n",
    "    for index, line in enumerate(query.readlines()):\n",
    "        sequence = element[index]\n",
    "        start = perf_counter()\n",
    "        holder = dist(line.strip(), sequence.strip()) # Levenstein distance (look at imports)\n",
    "        stop = perf_counter()\n",
    "        pairs[index] = holder\n",
    "        table[index] = stop - start\n",
    "    return table, pairs\n",
    "\n",
    "# Checking output\n",
    "times, values = measure()\n",
    "print(times)\n",
    "print(len(times))\n",
    "print(values)\n",
    "print(len(values))"
   ]
  },
  {
   "cell_type": "markdown",
   "id": "ffde9218-8568-432a-9ac9-156924c92d57",
   "metadata": {},
   "source": [
    "# The measure function\n",
    "\n",
    "The `timeit wrapper` has been applied to the *function*\n",
    "\n",
    "The *function* has no ***positional arguments***, with the explicit purpose of calculating the Levenstein distances of strings in matching lines of `file1.txt` and `file2.txt`\n",
    "\n",
    "`measure` loads both files into memory, creates two tables with enough memory for all the pairs. It indexes over the lines of one file and indexes into the other file's line in thesame position using the index (to avoid re iterating elements). In each loop the Levenstein distance is calculated and surrounding the *function* that calculates the Levenstein distance is a time calculation, that gets added to the lists we initialized at the start of the `measure` *function*. The `return values` are a tuple with the list with all the times and a list with all the distances."
   ]
  },
  {
   "cell_type": "code",
   "execution_count": 6,
   "id": "7d545553-7f57-4bad-a48c-b6240d6c30ab",
   "metadata": {},
   "outputs": [
    {
     "name": "stdout",
     "output_type": "stream",
     "text": [
      "Function 'average' executed in 0.0000 seconds\n",
      "Function 'average' executed in 0.0000 seconds\n",
      "Function 'average' executed in 0.0000 seconds\n",
      "Function 'average' executed in 0.0000 seconds\n",
      "Function 'average' executed in 0.0000 seconds\n",
      "Function 'average' executed in 0.0000 seconds\n",
      "Function 'average' executed in 0.0000 seconds\n"
     ]
    }
   ],
   "source": [
    "# •\tCalculate average (AVG) execution time for strings of same length.\n",
    "\n",
    "@timeit\n",
    "def average(data):\n",
    "    sum = 0\n",
    "    for thing in data: # Loop over data\n",
    "        sum += thing\n",
    "    return sum / len(data) # Calculate the average\n",
    "\n",
    "entries = len(times) # To define the number of iterations to do\n",
    "averages = [0.0]*int(entries/5) # A data structure for the values\n",
    "for i in range(0, entries, 5): # 5 step iteration\n",
    "    slice = times[i:i + 5:] # Getting a subsection of the times list, a 5 value sclice for the average of the simillar sized sequences\n",
    "    averages[int(i / 5)] = average(slice) # Calculating averages"
   ]
  },
  {
   "cell_type": "code",
   "execution_count": 7,
   "id": "2392ead3-3408-4c73-8e29-f6a0213c890f",
   "metadata": {},
   "outputs": [
    {
     "name": "stdout",
     "output_type": "stream",
     "text": [
      "[0.00019159999210387467, 2.6139989495277403e-05, 7.360001327469945e-05, 0.0012901399983093142, 0.005505219998303801, 0.12261822000145912, 0.4875778200104833]\n"
     ]
    }
   ],
   "source": [
    "print(averages)"
   ]
  },
  {
   "cell_type": "markdown",
   "id": "808af766-88b9-4d36-88c1-ecc7cc13045d",
   "metadata": {},
   "source": [
    "# The average function and the final data calculations\n",
    "\n",
    "## The average function\n",
    "\n",
    "The `timeit wrapper` has been applied to the *function*\n",
    "\n",
    "The *function* has one ***positional argument***, with the explicit purpose of calculating the average of the list of data given.\n",
    "\n",
    "`average` iterates over the elements of a list and hold the sum in a variable. Once done it will divide the sum with the length of the list\n",
    "\n",
    "## The final calculations\n",
    "\n",
    "We use batches of 5 to calculate the averages, because strings of similar size are in batches of 5 form the way `generator()` works in this exercise.\n",
    "A range with step 5 goes over the values that `measure()` returns, and the average of the elements starting from the loop index to 4 elements farther down (5 in total) is calculated. The results are stored in a list"
   ]
  },
  {
   "cell_type": "code",
   "execution_count": 9,
   "id": "bb0a9e1b-0e26-4cf6-a27b-bd1efde2e3c0",
   "metadata": {},
   "outputs": [
    {
     "data": {
      "image/png": "[encoded data removed]",
      "text/plain": [
       "<Figure size 640x480 with 1 Axes>"
      ]
     },
     "metadata": {},
     "output_type": "display_data"
    }
   ],
   "source": [
    "# •\tPlot a graph (see Lab 3) to show the performance: AVG execution time (Y-axis) vs string length (X-axis). Check here for a nice plot tutorial: https://matplotlib.org/stable/tutorials/pyplot.html\n",
    "\n",
    "plt.plot(sizes, averages, marker = 'o') # Plotting with points that stand out\n",
    "\n",
    "plt.show()"
   ]
  },
  {
   "cell_type": "markdown",
   "id": "7d306d18-7ca2-46d0-8274-083d9326589e",
   "metadata": {},
   "source": [
    "# The Graph\n",
    "\n",
    "The two lines of matplotlib produce the graph above.\n",
    "\n",
    "The x axis is the size of the strings in the files `file1.txt`, `file2.txt`\n",
    "\n",
    "The y axis is the average time a batch of 5 pairs took to compute the *Levenstein* distance\n",
    "\n",
    "We see an exponential result, that stems from the data we have input. The way the line length grows in `file1.txt` and `file2.txt` leads to this result and it's not indicative of an exponential relationship between adding 1 character and the time complexity.\n",
    "\n",
    "There is a very interesting results in the first set of 5, the time is greater than the next set of 5. It seems that the first time the `distance` *function* is called it's slower and this leves a mark on our results.\n",
    "\n",
    "Thus the exercise has concluded."
   ]
  },
  {
   "cell_type": "code",
   "execution_count": null,
   "id": "be012f17-2ca8-4751-9132-13e338382591",
   "metadata": {},
   "outputs": [],
   "source": []
  }
 ],
 "metadata": {
  "kernelspec": {
   "display_name": "Python 3 (ipykernel)",
   "language": "python",
   "name": "python3"
  },
  "language_info": {
   "codemirror_mode": {
    "name": "ipython",
    "version": 3
   },
   "file_extension": ".py",
   "mimetype": "text/x-python",
   "name": "python",
   "nbconvert_exporter": "python",
   "pygments_lexer": "ipython3",
   "version": "3.12.4"
  }
 },
 "nbformat": 4,
 "nbformat_minor": 5
}
