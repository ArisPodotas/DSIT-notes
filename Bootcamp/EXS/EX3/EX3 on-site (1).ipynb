{
 "cells": [
  {
   "cell_type": "markdown",
   "metadata": {},
   "source": [
    "## **EX3 - Transitioning from PFMs to PPMs to PWMs**"
   ]
  },
  {
   "cell_type": "markdown",
   "metadata": {},
   "source": [
    "* This exercise is to be solved strictly on-site\n",
    "* Requirements\n",
    "  * gata3.txt file from L3-1\n",
    "  * First block of code from the relevant exercise in L3-1 notebook (we have copied it below for your convenience)\n",
    "* What are PFMs, PPMs and PWMs?\n",
    "  * They are frequently used to describe the sequence motif preference of transcription factors (TFs)\n",
    "  * TFs are DNA binding proteins that regulate transcription throughput\n",
    "  * When such sequence motifs are encountered on genomic sequences, there's a higher probability this particular location to be bound by the TF that recognizes this specific motif\n",
    "  * PFMs provide the frequency of each letter of the alphabet {A, T, G, C} at each position of the motif\n",
    "  * PPMs are calculated from PFMs and they provide the probability of encountering each letter of the alphabet at each position of the motif\n",
    "  * PWMs are calculated from PPMs and they provide a normalized score for each letter of the alphabet at each position of the motif\n",
    "* Common practices\n",
    "  * We usually add pseudocounts to the PFM values before transitioning to a PPM\n",
    "  * For keeping things simple, in this exercise we will just add 1 to every value in the PFM\n",
    "  * To calculate the PWM, we need background probabilities of each alphabet letter at each position\n",
    "  * To keep things simple, we will use 0.25 for all letters at each position\n",
    "* \"EX3- Help on Generating_PWMs.pptx\" file in the teams folder includes a detailed example of how to generate a PWM"
   ]
  },
  {
   "cell_type": "markdown",
   "metadata": {},
   "source": [
    "**Loading the sequences from gata3.txt**\n",
    "\n",
    "* First block of code from the relevant exercise in L3-1 notebook\n",
    "* Feel free to adjust the code as you see fit"
   ]
  },
  {
   "cell_type": "code",
   "execution_count": null,
   "metadata": {},
   "outputs": [],
   "source": [
    "sequences_file = 'gata3.txt'\n",
    "\n",
    "sequences_as_list_of_lists = list() # initiate an empty list to hold the information that we will load from the file\n",
    "seq_file_fh = open(sequences_file, 'r') # open a connection to the file and attach it to a file handle\n",
    "for line in seq_file_fh: # use the file handle as a proxy to loop through the lines of the file one-by-one\n",
    "    line = line.rstrip('\\n') # remove the newline character from the end of the string\n",
    "    #print(line)\n",
    "    \n",
    "    line_as_list = list(line.upper())\n",
    "    #print(line_as_list)\n",
    "    \n",
    "    sequences_as_list_of_lists.append(line_as_list)\n",
    "    #print(sequences_as_list_of_lists)\n",
    "seq_file_fh.close() # detach the file handle from the file and close the connection to the file\n",
    "\n",
    "print(sequences_as_list_of_lists)"
   ]
  },
  {
   "cell_type": "markdown",
   "metadata": {},
   "source": [
    "**Generate the PFM given the content of sequences_as_list_of_lists**\n",
    "\n",
    "* You can use a 2-d list or... a more versatile data structure\n",
    "* Don't forget to add the pseudocounts"
   ]
  },
  {
   "cell_type": "code",
   "execution_count": null,
   "metadata": {},
   "outputs": [],
   "source": [
    "# ..."
   ]
  },
  {
   "cell_type": "markdown",
   "metadata": {},
   "source": [
    "**Generate the PPM given the previously calculated PFM**\n",
    "\n",
    "* **Reminder:** To calculate the probability of each letter at each position, simply divide the frequency at each position with the number of sequences we have in total"
   ]
  },
  {
   "cell_type": "code",
   "execution_count": null,
   "metadata": {},
   "outputs": [],
   "source": [
    "# ..."
   ]
  },
  {
   "cell_type": "markdown",
   "metadata": {},
   "source": [
    "**Generate the PWM given the previously calculated PPM**\n",
    "\n",
    "* **Reminder:** To calculate the score of each letter at each position, simply divide the probability at each position with the corresponding background probability and then pass the results through the log2 function (import math)\n",
    "* PWM(i,j) = log2(PPM(i,j) / bkgr(i,j))"
   ]
  },
  {
   "cell_type": "code",
   "execution_count": null,
   "metadata": {},
   "outputs": [],
   "source": [
    "# ..."
   ]
  }
 ],
 "metadata": {
  "kernelspec": {
   "display_name": "Python 3",
   "language": "python",
   "name": "python3"
  },
  "language_info": {
   "codemirror_mode": {
    "name": "ipython",
    "version": 3
   },
   "file_extension": ".py",
   "mimetype": "text/x-python",
   "name": "python",
   "nbconvert_exporter": "python",
   "pygments_lexer": "ipython3",
   "version": "3.8.5"
  }
 },
 "nbformat": 4,
 "nbformat_minor": 4
}
