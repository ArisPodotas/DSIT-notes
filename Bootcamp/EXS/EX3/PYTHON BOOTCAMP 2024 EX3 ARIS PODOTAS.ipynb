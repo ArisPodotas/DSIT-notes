{
 "cells": [
  {
   "cell_type": "markdown",
   "metadata": {},
   "source": [
    "## **EX3 - Transitioning from PFMs to PPMs to PWMs**"
   ]
  },
  {
   "cell_type": "markdown",
   "metadata": {},
   "source": [
    "* This exercise is to be solved strictly on-site\n",
    "* Requirements\n",
    "  * gata3.txt file from L3-1\n",
    "  * First block of code from the relevant exercise in L3-1 notebook (we have copied it below for your convenience)\n",
    "* What are PFMs, PPMs and PWMs?\n",
    "  * They are frequently used to describe the sequence motif preference of transcription factors (TFs)\n",
    "  * TFs are DNA binding proteins that regulate transcription throughput\n",
    "  * When such sequence motifs are encountered on genomic sequences, there's a higher probability this particular location to be bound by the TF that recognizes this specific motif\n",
    "  * PFMs provide the frequency of each letter of the alphabet {A, T, G, C} at each position of the motif\n",
    "  * PPMs are calculated from PFMs and they provide the probability of encountering each letter of the alphabet at each position of the motif\n",
    "  * PWMs are calculated from PPMs and they provide a normalized score for each letter of the alphabet at each position of the motif\n",
    "* Common practices\n",
    "  * We usually add pseudocounts to the PFM values before transitioning to a PPM\n",
    "  * For keeping things simple, in this exercise we will just add 1 to every value in the PFM\n",
    "  * To calculate the PWM, we need background probabilities of each alphabet letter at each position\n",
    "  * To keep things simple, we will use 0.25 for all letters at each position\n",
    "* \"EX3- Help on Generating_PWMs.pptx\" file in the teams folder includes a detailed example of how to generate a PWM"
   ]
  },
  {
   "cell_type": "markdown",
   "metadata": {},
   "source": [
    "**Loading the sequences from gata3.txt**\n",
    "\n",
    "* First block of code from the relevant exercise in L3-1 notebook\n",
    "* Feel free to adjust the code as you see fit"
   ]
  },
  {
   "cell_type": "code",
   "execution_count": 1,
   "metadata": {},
   "outputs": [
    {
     "name": "stdout",
     "output_type": "stream",
     "text": [
      "[['A', 'G', 'A', 'T', 'A', 'G'], ['A', 'G', 'A', 'T', 'A', 'G'], ['A', 'G', 'A', 'T', 'A', 'G'], ['A', 'G', 'A', 'T', 'A', 'G'], ['C', 'G', 'A', 'T', 'A', 'G'], ['A', 'G', 'A', 'T', 'A', 'C'], ['A', 'G', 'A', 'T', 'A', 'A'], ['G', 'G', 'A', 'T', 'A', 'C'], ['C', 'G', 'A', 'T', 'T', 'G'], ['C', 'G', 'A', 'T', 'T', 'G'], ['A', 'G', 'A', 'T', 'A', 'G'], ['A', 'G', 'A', 'G', 'A', 'G'], ['C', 'G', 'A', 'T', 'A', 'C'], ['A', 'G', 'A', 'T', 'T', 'G'], ['C', 'G', 'A', 'T', 'A', 'G'], ['A', 'G', 'A', 'T', 'A', 'C'], ['A', 'G', 'A', 'T', 'A', 'A'], ['G', 'G', 'A', 'T', 'A', 'C'], ['C', 'G', 'A', 'T', 'T', 'G'], ['C', 'G', 'A', 'T', 'T', 'G']]\n"
     ]
    }
   ],
   "source": [
    "sequences_file = 'gata3.txt'\n",
    "\n",
    "sequences_as_list_of_lists = list() # initiate an empty list to hold the information that we will load from the file\n",
    "seq_file_fh = open(sequences_file, 'r') # open a connection to the file and attach it to a file handle\n",
    "for line in seq_file_fh: # use the file handle as a proxy to loop through the lines of the file one-by-one\n",
    "    line = line.rstrip('\\n') # remove the newline character from the end of the string\n",
    "    #print(line)\n",
    "    \n",
    "    line_as_list = list(line.upper())\n",
    "    #print(line_as_list)\n",
    "    \n",
    "    sequences_as_list_of_lists.append(line_as_list)\n",
    "    #print(sequences_as_list_of_lists)\n",
    "seq_file_fh.close() # detach the file handle from the file and close the connection to the file\n",
    "\n",
    "print(sequences_as_list_of_lists)"
   ]
  },
  {
   "cell_type": "markdown",
   "metadata": {},
   "source": [
    "**Generate the PFM given the content of sequences_as_list_of_lists**\n",
    "\n",
    "* You can use a 2-d list or... a more versatile data structure\n",
    "* Don't forget to add the pseudocounts"
   ]
  },
  {
   "cell_type": "code",
   "execution_count": 2,
   "metadata": {},
   "outputs": [
    {
     "name": "stdout",
     "output_type": "stream",
     "text": [
      "{'A': [12, 1, 21, 1, 16, 3], 'T': [1, 1, 1, 20, 6, 1], 'G': [3, 21, 1, 2, 1, 14], 'C': [8, 1, 1, 1, 1, 6]}\n"
     ]
    }
   ],
   "source": [
    "with open('gata3.txt', 'r') as file:\n",
    "    sequences = file.readlines()\n",
    "\n",
    "new = ['']*(len(sequences))\n",
    "for index, line in enumerate(sequences):\n",
    "    new[index] = line.upper().strip()\n",
    "\n",
    "\n",
    "def matrix(array) -> dict:\n",
    "    \"\"\"Returns a dictionary with the position frequency matrix of a list of sequences\"\"\"\n",
    "    # Creating a data structure to help formatting\n",
    "    # Getting the length of the sequences\n",
    "    positions = len(array[0])\n",
    "    # Making a list for each nucleotide that contains the amount in the positions that relates to the index of the list\n",
    "    indecies = {\"A\": [1]*positions, \"T\": [1]*positions, \"G\": [1]*positions, \"C\": [1]*positions} # all locations have 1 for the pseudocounts\n",
    "    # Iterating sequences (plural)\n",
    "    for seq in array:\n",
    "        # Iterating sequence (singular)\n",
    "        for position, nuc in enumerate(seq):\n",
    "            indecies[nuc][position] += 1\n",
    "    return indecies\n",
    "\n",
    "result = matrix(new)\n",
    "print(result)\n"
   ]
  },
  {
   "cell_type": "markdown",
   "metadata": {},
   "source": [
    "**Generate the PPM given the previously calculated PFM**\n",
    "\n",
    "* **Reminder:** To calculate the probability of each letter at each position, simply divide the frequency at each position with the number of sequences we have in total"
   ]
  },
  {
   "cell_type": "code",
   "execution_count": 3,
   "metadata": {},
   "outputs": [
    {
     "name": "stdout",
     "output_type": "stream",
     "text": [
      "{'A': [0.5, 0.041666666666666664, 0.875, 0.041666666666666664, 0.6666666666666666, 0.125], 'T': [0.041666666666666664, 0.041666666666666664, 0.041666666666666664, 0.8333333333333334, 0.25, 0.041666666666666664], 'G': [0.125, 0.875, 0.041666666666666664, 0.08333333333333333, 0.041666666666666664, 0.5833333333333334], 'C': [0.3333333333333333, 0.041666666666666664, 0.041666666666666664, 0.041666666666666664, 0.041666666666666664, 0.25]}\n"
     ]
    }
   ],
   "source": [
    "for key in result:\n",
    "    positions = result[key]\n",
    "    output = {\"A\": [0]*(len(positions)), \"T\": [0]*(len(positions)), \"G\": [0]*(len(positions)), \"C\": [0]*(len(positions))}\n",
    "    for i in range(len(positions)):\n",
    "        adenine = result['A'][i]\n",
    "        thymine = result['T'][i]\n",
    "        guanine = result['G'][i]\n",
    "        cytosine = result['C'][i]\n",
    "        sum = adenine + thymine + guanine + cytosine\n",
    "        aw = adenine/sum\n",
    "        tw = thymine/sum\n",
    "        gw = guanine/sum\n",
    "        cw = cytosine/sum\n",
    "        output['A'][i] = aw\n",
    "        output['T'][i] = tw\n",
    "        output['G'][i] = gw\n",
    "        output['C'][i] = cw\n",
    "print(output)"
   ]
  },
  {
   "cell_type": "markdown",
   "metadata": {},
   "source": [
    "**Generate the PWM given the previously calculated PPM**\n",
    "\n",
    "* **Reminder:** To calculate the score of each letter at each position, simply divide the probability at each position with the corresponding background probability and then pass the results through the log2 function (import math)\n",
    "* PWM(i,j) = log2(PPM(i,j) / bkgr(i,j))"
   ]
  },
  {
   "cell_type": "code",
   "execution_count": 4,
   "metadata": {},
   "outputs": [
    {
     "name": "stdout",
     "output_type": "stream",
     "text": [
      "{'A': [1.0, -2.584962500721156, 1.8073549220576042, -2.584962500721156, 1.4150374992788437, -1.0], 'T': [-2.584962500721156, -2.584962500721156, -2.584962500721156, 1.7369655941662063, 0.0, -2.584962500721156], 'G': [-1.0, 1.8073549220576042, -2.584962500721156, -1.5849625007211563, -2.584962500721156, 1.222392421336448], 'C': [0.41503749927884376, -2.584962500721156, -2.584962500721156, -2.584962500721156, -2.584962500721156, 0.0]}\n"
     ]
    }
   ],
   "source": [
    "import math\n",
    "\n",
    "background = 0.25\n",
    "\n",
    "for key in output:\n",
    "    weight = output[key]\n",
    "    final =  {\"A\": [0]*(len(positions)), \"T\": [0]*(len(positions)), \"G\": [0]*(len(positions)), \"C\": [0]*(len(positions))}\n",
    "    for i in range(len(weight)):\n",
    "        adenine = output['A'][i]\n",
    "        thymine = output['T'][i]\n",
    "        guanine = output['G'][i]\n",
    "        cytosine = output['C'][i]\n",
    "        aw = math.log2(adenine/background)\n",
    "        tw = math.log2(thymine/background)\n",
    "        gw = math.log2(guanine/background)\n",
    "        cw = math.log2(cytosine/background)\n",
    "        final['A'][i] = aw\n",
    "        final['T'][i] = tw\n",
    "        final['G'][i] = gw\n",
    "        final['C'][i] = cw\n",
    "print(final)"
   ]
  },
  {
   "cell_type": "code",
   "execution_count": null,
   "metadata": {},
   "outputs": [],
   "source": []
  },
  {
   "cell_type": "code",
   "execution_count": null,
   "metadata": {},
   "outputs": [],
   "source": []
  }
 ],
 "metadata": {
  "kernelspec": {
   "display_name": "Python 3 (ipykernel)",
   "language": "python",
   "name": "python3"
  },
  "language_info": {
   "codemirror_mode": {
    "name": "ipython",
    "version": 3
   },
   "file_extension": ".py",
   "mimetype": "text/x-python",
   "name": "python",
   "nbconvert_exporter": "python",
   "pygments_lexer": "ipython3",
   "version": "3.12.4"
  }
 },
 "nbformat": 4,
 "nbformat_minor": 4
}
