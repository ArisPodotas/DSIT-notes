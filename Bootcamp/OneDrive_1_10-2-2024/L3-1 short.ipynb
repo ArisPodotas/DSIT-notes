{
 "cells": [
  {
   "cell_type": "markdown",
   "id": "6d6aee06",
   "metadata": {},
   "source": [
    "# Lesson 3: File Handling - Part 1"
   ]
  },
  {
   "cell_type": "raw",
   "id": "6abd8945-bd5e-48e4-ae0a-768c4f040d44",
   "metadata": {},
   "source": [
    "## File I/O Operations"
   ]
  },
  {
   "cell_type": "markdown",
   "id": "1704c8f8",
   "metadata": {},
   "source": [
    "\n",
    "Python provides built-in functions for reading from and writing to files. Files can be opened in different modes:\n",
    "- **`r`**: Read mode (default).\n",
    "- **`w`**: Write mode (overwrites the file if it exists, creates a new file if it doesn't).\n",
    "- **`a`**: Append mode (writes to the end of the file).\n",
    "- **`b`**: Binary mode (e.g., `rb`, `wb` for reading and writing binary files).\n",
    "- **`+`**: Update mode (e.g., `r+` for reading and writing).\n",
    "\n",
    "### Opening, Reading, Writing, and Closing Files\n",
    "- Use the `open()` function to open a file.\n",
    "- Use `read()`, `readline()`, or `readlines()` to read from a file.\n",
    "- Use `write()` or `writelines()` to write to a file.\n",
    "- Always close the file using `close()` to free up system resources.\n",
    "\n",
    "**Example**:\n",
    "\n",
    "```python\n",
    "file = open('example.txt', 'w')\n",
    "file.write('Hello, world!')\n",
    "file.close()\n",
    "```\n",
    "            "
   ]
  },
  {
   "cell_type": "code",
   "execution_count": 1,
   "id": "9df7800c",
   "metadata": {},
   "outputs": [],
   "source": [
    "# Writing to a file\n",
    "file = open('sample.txt', 'w')\n",
    "file.write('This is a sample text file.')\n",
    "file.close()"
   ]
  },
  {
   "cell_type": "code",
   "execution_count": 4,
   "id": "86b580a1",
   "metadata": {},
   "outputs": [
    {
     "name": "stdout",
     "output_type": "stream",
     "text": [
      "File content:  This is a sample text file.\n"
     ]
    }
   ],
   "source": [
    "# Reading from a file\n",
    "# ...\n",
    "#### Start \n",
    "file = open('sample.txt', 'r')\n",
    "content = file.read() \n",
    "print(\"File content: \", content)\n",
    "file.close()\n"
   ]
  },
  {
   "cell_type": "code",
   "execution_count": 6,
   "id": "cb59f8b8",
   "metadata": {},
   "outputs": [],
   "source": [
    "# Appending to a file\n",
    "# ...\n",
    "file = open('sample.txt', 'a')\n",
    "file.write('\\nAppending a new line.')\n",
    "file.close()\n"
   ]
  },
  {
   "cell_type": "code",
   "execution_count": 7,
   "id": "688db583",
   "metadata": {},
   "outputs": [
    {
     "name": "stdout",
     "output_type": "stream",
     "text": [
      "Updated file content: This is a sample text file.\n",
      "Appending a new line.\n",
      "Appending a new line.\n"
     ]
    }
   ],
   "source": [
    "# Reading the updated file\n",
    "file = open('sample.txt', 'r')\n",
    "updated_content = file.read()\n",
    "print(\"Updated file content:\", updated_content)\n",
    "file.close()"
   ]
  },
  {
   "cell_type": "markdown",
   "id": "b8fd0735",
   "metadata": {},
   "source": [
    "## Using the `with` Statement for Efficient File Handling"
   ]
  },
  {
   "cell_type": "markdown",
   "id": "733e6d12",
   "metadata": {},
   "source": [
    "\n",
    "The `with` statement provides a way to automatically close the file when you are done with it, even if an error occurs during file operations.\n",
    "\n",
    "**Example**:\n",
    "```python\n",
    "with open('example.txt', 'r') as file:\n",
    "   content = file.read()\n",
    "   print(content)\n",
    "```\n",
    "- You don't need to call `file.close()` when using the `with` statement; it is handled automatically.\n",
    "            "
   ]
  },
  {
   "cell_type": "code",
   "execution_count": 8,
   "id": "20eabd84",
   "metadata": {},
   "outputs": [
    {
     "name": "stdout",
     "output_type": "stream",
     "text": [
      "Reading using wit hstatement: This is a sample text file.\n",
      "Appending a new line.\n",
      "Appending a new line.\n"
     ]
    }
   ],
   "source": [
    "# Using the with statement for file operations\n",
    "with open('sample.txt', 'r') as file:\n",
    "    content = file.read()\n",
    "    print(\"Reading using wit hstatement:\", content)"
   ]
  },
  {
   "cell_type": "code",
   "execution_count": 9,
   "id": "84e6c331",
   "metadata": {},
   "outputs": [],
   "source": [
    "# Writing with the with statement\n",
    "with open('sample.txt', 'w') as file:\n",
    "    file.write('Overwriting content using the with statement.')    # ..."
   ]
  },
  {
   "cell_type": "markdown",
   "id": "f09f4ea7",
   "metadata": {},
   "source": [
    "## Handling Large Files Efficiently"
   ]
  },
  {
   "cell_type": "markdown",
   "id": "bd51b982",
   "metadata": {},
   "source": [
    "\n",
    "When dealing with large files, it's important to avoid loading the entire file into memory at once. Instead, read the file line-by-line or in chunks.\n",
    "\n",
    "### Reading Files Line-by-Line\n",
    "Use a `for` loop to iterate through the file's lines:\n",
    "\n",
    "```python\n",
    "with open('large_file.txt', 'r') as file:\n",
    "for line in file:\n",
    "print(line.strip())\n",
    "```\n",
    "\n",
    "### Reading in Chunks\n",
    "Read a specific number of bytes at a time using `read(size)`:\n",
    "\n",
    "```python\n",
    "with open('large_file.txt', 'r') as file:\n",
    "   chunk = file.read(1024)  # Read 1024 bytes\n",
    "   while chunk:\n",
    "      print(chunk)\n",
    "      chunk = file.read(1024)\n",
    "```\n",
    "            "
   ]
  },
  {
   "cell_type": "code",
   "execution_count": 10,
   "id": "5c7c9606",
   "metadata": {},
   "outputs": [
    {
     "name": "stdout",
     "output_type": "stream",
     "text": [
      "Line:  Overwriting content using the with statement.\n"
     ]
    }
   ],
   "source": [
    "# Simulating reading a large file line-by-line\n",
    "with open('sample.txt', 'r') as file:\n",
    "    for line in file:\n",
    "        print(\"Line: \", line.strip())"
   ]
  },
  {
   "cell_type": "code",
   "execution_count": 11,
   "id": "12c1de25",
   "metadata": {},
   "outputs": [
    {
     "name": "stdout",
     "output_type": "stream",
     "text": [
      "Chunk: Overwritin\n",
      "Chunk: g content \n",
      "Chunk: using the \n",
      "Chunk: with state\n",
      "Chunk: ment.\n"
     ]
    }
   ],
   "source": [
    "# Simulating reading a large file in chunks\n",
    "with open('sample.txt', 'r') as file:\n",
    "    chunk = file.read(10)  # Read 10 bytes at a time\n",
    "    while chunk:\n",
    "        print(\"Chunk:\", chunk)\n",
    "        chunk = file.read(10)"
   ]
  },
  {
   "cell_type": "markdown",
   "id": "c4a3a853",
   "metadata": {},
   "source": [
    "## Exercises: File I/O Operations"
   ]
  },
  {
   "cell_type": "markdown",
   "id": "627bb762",
   "metadata": {},
   "source": [
    "**Create a program that writes the numbers 1 to 10 to a file, each number on a new line**"
   ]
  },
  {
   "cell_type": "code",
   "execution_count": 12,
   "id": "1d88df02",
   "metadata": {},
   "outputs": [],
   "source": [
    "with open('numbers.txt', 'w') as file:\n",
    "    for i in range(1, 11):\n",
    "        file.write(f\"{i}\\n\")\n",
    "   "
   ]
  },
  {
   "cell_type": "markdown",
   "id": "2b331f72",
   "metadata": {},
   "source": [
    "**Modify the above program to append numbers 11 to 20 to the same file using the `with` statement**"
   ]
  },
  {
   "cell_type": "code",
   "execution_count": 13,
   "id": "f671d5d6",
   "metadata": {},
   "outputs": [],
   "source": [
    "with open('numbers.txt', 'a') as file:\n",
    "    for i in range(11, 21):\n",
    "        file.write(f'{i}\\n')\n"
   ]
  },
  {
   "cell_type": "markdown",
   "id": "6c490c0f",
   "metadata": {},
   "source": [
    "**Write a program that reads the contents of the file named `numbers.txt` line-by-line and prints each line**"
   ]
  },
  {
   "cell_type": "code",
   "execution_count": 14,
   "id": "f1fb2267",
   "metadata": {},
   "outputs": [
    {
     "name": "stdout",
     "output_type": "stream",
     "text": [
      "1\n",
      "2\n",
      "3\n",
      "4\n",
      "5\n",
      "6\n",
      "7\n",
      "8\n",
      "9\n",
      "10\n",
      "11\n",
      "12\n",
      "13\n",
      "14\n",
      "15\n",
      "16\n",
      "17\n",
      "18\n",
      "19\n",
      "20\n"
     ]
    }
   ],
   "source": [
    "with open('numbers.txt', 'r') as file:\n",
    "   for line in file:\n",
    "      print(line.strip())"
   ]
  },
  {
   "cell_type": "markdown",
   "id": "d29e2330",
   "metadata": {},
   "source": [
    "**Calculate frequency of occurence per base for a list of strings from the file testdna2.txt using dictionaries**"
   ]
  },
  {
   "cell_type": "code",
   "execution_count": 16,
   "id": "e1dfd6c8",
   "metadata": {},
   "outputs": [
    {
     "name": "stdout",
     "output_type": "stream",
     "text": [
      "Sequence: CCTGGCGGCC..., Frequencies: {'A': 26, 'T': 19, 'G': 35, 'C': 36, '-': 3, 'N': 0}\n",
      "Sequence: -CAGGTGGTG..., Frequencies: {'A': 24, 'T': 22, 'G': 39, 'C': 30, '-': 4, 'N': 0}\n",
      "Sequence: AACGGCGGTC..., Frequencies: {'A': 25, 'T': 14, 'G': 42, 'C': 36, '-': 2, 'N': 0}\n",
      "Sequence: GCTGGCGACC..., Frequencies: {'A': 28, 'T': 24, 'G': 30, 'C': 31, '-': 5, 'N': 1}\n",
      "Sequence: GTCGGTGGTC..., Frequencies: {'A': 21, 'T': 17, 'G': 42, 'C': 37, '-': 2, 'N': 0}\n"
     ]
    }
   ],
   "source": [
    "# ... copy paste code from from previous lab, and adapt!!!\n",
    "# ...\n",
    "def count_contents(seq) -> dict:\n",
    "    \"\"\"Returns a list of the count of each nucleotide in the sequence in order of [A, T, G, C].\"\"\"\n",
    "    # Initiate a data structure\n",
    "    counts = {\"A\": 0, \"T\": 0, \"G\": 0, \"C\": 0, \"-\": 0, \"N\": 0}\n",
    "    # Iterates nucleotides of the sequence\n",
    "    for nuc in seq:\n",
    "        # Iterates over the data structure\n",
    "        for ref in counts:\n",
    "            # Compares the sequence and the data structure\n",
    "            if nuc == ref:\n",
    "                # Add 1 to the appropriate hit\n",
    "                counts[ref] += 1\n",
    "                # No need for a exceptin case\n",
    "    # return resulting dictionary\n",
    "    return counts\n",
    "\n",
    "with open('testdna2.txt', 'r') as file:\n",
    "    for line in file:\n",
    "        sequence = line\n",
    "        result = count_contents(sequence)\n",
    "        print(f\"Sequence: {line[:10:]}..., Frequencies: {result}\")"
   ]
  },
  {
   "cell_type": "markdown",
   "id": "ca3696ce-5e01-4ff5-921a-8cce21a3bcd6",
   "metadata": {},
   "source": [
    "**Make a plot with the results!**"
   ]
  },
  {
   "cell_type": "code",
   "execution_count": 23,
   "id": "ef009201-2646-40d5-84ba-fc663808349c",
   "metadata": {},
   "outputs": [
    {
     "name": "stdout",
     "output_type": "stream",
     "text": [
      "Sequence: CCTGGCGGCC..., Frequencies: {'A': 26, 'T': 19, 'G': 35, 'C': 36, '-': 3, 'N': 0}\n"
     ]
    },
    {
     "data": {
      "image/png": "[encoded data removed]",
      "text/plain": [
       "<Figure size 800x500 with 1 Axes>"
      ]
     },
     "metadata": {},
     "output_type": "display_data"
    },
    {
     "name": "stdout",
     "output_type": "stream",
     "text": [
      "Sequence: -CAGGTGGTG..., Frequencies: {'A': 24, 'T': 22, 'G': 39, 'C': 30, '-': 4, 'N': 0}\n"
     ]
    },
    {
     "data": {
      "image/png": "[encoded data removed]",
      "text/plain": [
       "<Figure size 800x500 with 1 Axes>"
      ]
     },
     "metadata": {},
     "output_type": "display_data"
    },
    {
     "name": "stdout",
     "output_type": "stream",
     "text": [
      "Sequence: AACGGCGGTC..., Frequencies: {'A': 25, 'T': 14, 'G': 42, 'C': 36, '-': 2, 'N': 0}\n"
     ]
    },
    {
     "data": {
      "image/png": "[encoded data removed]",
      "text/plain": [
       "<Figure size 800x500 with 1 Axes>"
      ]
     },
     "metadata": {},
     "output_type": "display_data"
    },
    {
     "name": "stdout",
     "output_type": "stream",
     "text": [
      "Sequence: GCTGGCGACC..., Frequencies: {'A': 28, 'T': 24, 'G': 30, 'C': 31, '-': 5, 'N': 1}\n"
     ]
    },
    {
     "data": {
      "image/png": "[encoded data removed]",
      "text/plain": [
       "<Figure size 800x500 with 1 Axes>"
      ]
     },
     "metadata": {},
     "output_type": "display_data"
    },
    {
     "name": "stdout",
     "output_type": "stream",
     "text": [
      "Sequence: GTCGGTGGTC..., Frequencies: {'A': 21, 'T': 17, 'G': 42, 'C': 37, '-': 2, 'N': 0}\n"
     ]
    },
    {
     "data": {
      "image/png": "[encoded data removed]",
      "text/plain": [
       "<Figure size 800x500 with 1 Axes>"
      ]
     },
     "metadata": {},
     "output_type": "display_data"
    }
   ],
   "source": [
    "import matplotlib.pyplot as plt\n",
    "\n",
    "with open('testdna2.txt', 'r') as file:\n",
    "    for line in file:\n",
    "        sequence = line\n",
    "        result = count_contents(sequence)\n",
    "#        print(f\"Sequence: {line[:10:]}..., Frequencies: {result}\")\n",
    "\n",
    "        # Extract keys and values\n",
    "        keys = list(result.keys())\n",
    "        values = list(result.values())\n",
    "        plt.figure(figsize = (8, 5))\n",
    "        plt.bar(keys, values, width = 0.5)\n",
    "        # Adding labels and title\n",
    "        \n",
    "        plt.title(f\"Dicitonary Plot\")\n",
    "        plt.xlabel(f\"keys\")\n",
    "        plt.ylabel(f\"values\")\n",
    "\n",
    "        # Display the plot\n",
    "\n",
    "        plt.show()"
   ]
  },
  {
   "cell_type": "markdown",
   "id": "5d675f03",
   "metadata": {},
   "source": [
    "**Calculate (A+T) / (C+G) ratio per sequence after loading multiple sequences from a file**"
   ]
  },
  {
   "cell_type": "markdown",
   "id": "9d715608",
   "metadata": {},
   "source": [
    "* The purpose of this exercise is to allow you to become familiar with the concepts of file parsing, loading file contents into convenient data structures and performing operations on loaded data in a convenient way.\n",
    "* This notebook can also serve as a useful guide with hints useful for solving the PWM on-site exercise (EX4)."
   ]
  },
  {
   "cell_type": "code",
   "execution_count": 29,
   "id": "986c1532",
   "metadata": {},
   "outputs": [
    {
     "name": "stdout",
     "output_type": "stream",
     "text": [
      "{'A': [11, 0, 20, 0, 15, 2], 'T': [0, 0, 0, 19, 5, 0], 'G': [2, 20, 0, 1, 0, 13], 'C': [7, 0, 0, 0, 0, 5]}\n",
      "['AGATAG', 'AGATAG', 'AGATAG', 'AGATAG', 'CGATAG', 'AGATAC', 'AGaTAA', 'GGATAC', 'CGATTG', 'CGATTG', 'AGATAG', 'AGAGAG', 'CGATAC', 'AGAtTG', 'CGATAG', 'AGATAC', 'AGATAA', 'GGATAC', 'CgATTG', 'CGATTG']\n"
     ]
    }
   ],
   "source": [
    "sequences_file = 'gata3.txt'\n",
    "\n",
    "# function for calculating the 2d matrix\n",
    "def matrix(array) -> dict:\n",
    "    \"\"\"Returns a dictionary with the position frequency matrix of a list of sequences\"\"\"\n",
    "    # Creating a data structure to help formatting\n",
    "    # Getting the length of the sequences\n",
    "    positions = len(array[0])\n",
    "    # Making a list for each nucleotide that contains the amount in the positions that relates to the index of the list\n",
    "    indecies = {\"A\": [0]*positions, \"T\": [0]*positions, \"G\": [0]*positions, \"C\": [0]*positions}\n",
    "    # Iterating sequences (plural)\n",
    "    for seq in array:\n",
    "        # Iterating sequence (singular)\n",
    "        for position, nuc in enumerate(seq):\n",
    "            indecies[nuc.upper()][position] += 1\n",
    "    return indecies\n",
    "\n",
    "# initiate an empty list to hold the information that we will load from the file\n",
    "sequences_as_list_of_lists = list()\n",
    "\n",
    "# open a connection to the file and attach it to a file handle\n",
    "with open(sequences_file, 'r') as file:\n",
    "    # use the file handle as a proxy to loop through the lines of the file one-by-one\n",
    "    for sequence in file.readlines():\n",
    "        sequences_as_list_of_lists.append(sequence.strip()) # remove the newline character from the end of the string\n",
    "\n",
    "result = matrix(sequences_as_list_of_lists)\n",
    "\n",
    "print(result)\n",
    "\n",
    "print(sequences_as_list_of_lists)\n"
   ]
  },
  {
   "cell_type": "markdown",
   "id": "17a6c7dc",
   "metadata": {},
   "source": [
    "* The cell above essentially creates a 2-dimentional array/matrix\n",
    "* What if our objective is to go through the elements of such an array one-by-one, and perform some calculations? How can we do it?\n",
    "* For example, how can we calculate the (A+T)/(G+C) ratio for each row in this 2-D array?"
   ]
  },
  {
   "cell_type": "code",
   "execution_count": 34,
   "id": "fc1fc6d6",
   "metadata": {},
   "outputs": [
    {
     "ename": "SyntaxError",
     "evalue": "invalid syntax. Perhaps you forgot a comma? (668992321.py, line 13)",
     "output_type": "error",
     "traceback": [
      "\u001b[1;36m  Cell \u001b[1;32mIn[34], line 13\u001b[1;36m\u001b[0m\n\u001b[1;33m    for col_idx in range(len(sequences_as_ list_of_lists[element])):\u001b[0m\n\u001b[1;37m                             ^\u001b[0m\n\u001b[1;31mSyntaxError\u001b[0m\u001b[1;31m:\u001b[0m invalid syntax. Perhaps you forgot a comma?\n"
     ]
    }
   ],
   "source": [
    "# Their solution included a list of lists so \n",
    "# ...\n",
    "with open(sequences_file, 'r') as file:\n",
    "    # use the file handle as a proxy to loop through the lines of the file one-by-one\n",
    "    for sequence in file.readlines():\n",
    "        sequences_as_list_of_lists.append(list(sequence.strip()))\n",
    "\n",
    "print(sequences_as_list_of_lists)\n",
    "\n",
    "for index, element in enumerate(sequences_as_list_of_lists[10::]):\n",
    "    at = 0\n",
    "    gc = 0\n",
    "    for col_idx in range(len(sequences_as_ list_of_lists[element])):\n",
    "        if sequences_as_list_of_lists[element][col_idx] == 'A' or sequences_as_list_of_lists[element][col_idx] == 'T':\n",
    "            at += 1\n",
    "        else:\n",
    "            gc += 1\n",
    "    \n",
    "        # Loop through each element of the list using indices (each element is another list)\n",
    "    \n",
    "# initialize 2 variables that will hold the AT and GC counts\n",
    "    \n",
    "# Loop through each element of the nested list\n",
    "if gc == 0 :\n",
    "    print('ERROR: denominator is 0')\n",
    "else:\n",
    "    print('Row %d: A+T = %d | G+C = %d | Ration = %f' % (element, at, gc, at/gc))\n",
    "# check if the element is equal to 'A'\n",
    "\n",
    "# check if the element is equal to 'T'\n",
    "\n",
    "# check if the element is equal to 'G'\n",
    "\n",
    "# if all 3 conditions above are false then we expect 'C'\n",
    "        \n",
    "## Are these if-elif-else conditions safe enough?\n",
    "\n",
    "# print the calculated ratios\n",
    "\n",
    "## How can we use print in a prettier form?\n",
    "    \n",
    "## Is the calculation of the ratio safe enough?"
   ]
  },
  {
   "cell_type": "code",
   "execution_count": null,
   "id": "80aef984",
   "metadata": {},
   "outputs": [],
   "source": []
  }
 ],
 "metadata": {
  "kernelspec": {
   "display_name": "Python 3 (ipykernel)",
   "language": "python",
   "name": "python3"
  },
  "language_info": {
   "codemirror_mode": {
    "name": "ipython",
    "version": 3
   },
   "file_extension": ".py",
   "mimetype": "text/x-python",
   "name": "python",
   "nbconvert_exporter": "python",
   "pygments_lexer": "ipython3",
   "version": "3.12.4"
  }
 },
 "nbformat": 4,
 "nbformat_minor": 5
}
