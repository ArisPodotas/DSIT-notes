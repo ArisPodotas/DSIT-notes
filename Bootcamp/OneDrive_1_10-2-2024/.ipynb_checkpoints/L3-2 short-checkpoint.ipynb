{
 "cells": [
  {
   "cell_type": "markdown",
   "id": "9baa1bb9",
   "metadata": {},
   "source": [
    "# Lesson 3: File Handling - Part 2"
   ]
  },
  {
   "cell_type": "markdown",
   "id": "6b707ee1",
   "metadata": {
    "tags": []
   },
   "source": [
    "## CSV Handling"
   ]
  },
  {
   "cell_type": "markdown",
   "id": "d1c8aac8",
   "metadata": {
    "tags": []
   },
   "source": [
    "\n",
    "CSV (Comma-Separated Values) files are commonly used for storing tabular data. Python's `csv` module makes it easy to read from and write to CSV files.\n",
    "\n",
    "### Reading from a CSV File\n",
    "Use `csv.reader` to read data from a CSV file:\n",
    "\n",
    "```python\n",
    "import csv\n",
    "\n",
    "with open('data.csv', 'r') as file:\n",
    "   reader = csv.reader(file)\n",
    "   for row in reader:\n",
    "      print(row)\n",
    "```\n",
    "\n",
    "### Writing to a CSV File\n",
    "Use `csv.writer` to write data to a CSV file:\n",
    "\n",
    "```python\n",
    "with open('output.csv', 'w', newline='') as file:\n",
    "   writer = csv.writer(file)\n",
    "   writer.writerow(['Name', 'Age', 'City'])\n",
    "   writer.writerow(['Alice', 30, 'New York'])\n",
    "```\n",
    "            "
   ]
  },
  {
   "cell_type": "code",
   "execution_count": 3,
   "id": "b2873ddd",
   "metadata": {},
   "outputs": [],
   "source": [
    "import csv\n",
    "\n",
    "# Writing to a CSV file\n",
    "with open('people.csv', 'w', newline='') as file:\n",
    "    \n",
    "    # ...\n",
    "    \n",
    "    "
   ]
  },
  {
   "cell_type": "code",
   "execution_count": 4,
   "id": "775ba4d8-a10c-4924-b831-068d4d6c688a",
   "metadata": {},
   "outputs": [
    {
     "name": "stdout",
     "output_type": "stream",
     "text": [
      "['Name', 'Age', 'Occupation']\n",
      "['Alice', '30', 'Engineer']\n",
      "['Bob', '25', 'Doctor']\n",
      "['Charlie', '35', 'Teacher']\n"
     ]
    }
   ],
   "source": [
    "# Reading from a CSV file\n",
    "with open('people.csv', 'r') as file:\n",
    "    reader = csv.reader(file)\n",
    "    \n",
    "    # ...\n",
    "    \n",
    "    \n"
   ]
  },
  {
   "cell_type": "markdown",
   "id": "73a5cd7c",
   "metadata": {},
   "source": [
    "## JSON Handling"
   ]
  },
  {
   "cell_type": "markdown",
   "id": "55397bc5",
   "metadata": {},
   "source": [
    "\n",
    "JSON (JavaScript Object Notation) is a lightweight data format used for data exchange. Python's `json` module allows you to easily parse and generate JSON data.\n",
    "Example:\n",
    "```\n",
    "[\n",
    "    {\n",
    "        \"name\": \"Alex C\",\n",
    "        \"age\": 2,\n",
    "        \"city\": \"Houston\"\n",
    "    },\n",
    "    {\n",
    "        \"name\": \"John G\",\n",
    "        \"age\": 40,\n",
    "        \"city\": \"Washington\"\n",
    "    },\n",
    "    {\n",
    "        \"name\": \"Bala T\",\n",
    "        \"age\": 22,\n",
    "        \"city\": \"Bangalore\"\n",
    "    }\n",
    "]\n",
    "```\n",
    "\n",
    "\n",
    "### Reading JSON Data\n",
    "Use `json.load()` to read JSON data from a file:\n",
    "\n",
    "```python\n",
    "import json\n",
    "\n",
    "with open('data.json', 'r') as file:\n",
    "   data = json.load(file)\n",
    "   print(data)\n",
    "```\n",
    "\n",
    "### Writing JSON Data\n",
    "Use `json.dump()` to write data to a JSON file:\n",
    "\n",
    "```python\n",
    "with open('output.json', 'w') as file:\n",
    "   json.dump(data, file, indent=4)\n",
    "```  "
   ]
  },
  {
   "cell_type": "code",
   "execution_count": 6,
   "id": "596f899e",
   "metadata": {},
   "outputs": [],
   "source": [
    "import json\n",
    "\n",
    "# Writing to a JSON file\n",
    "data = {\n",
    "    \"name\": \"Alice\",\n",
    "    \"age\": 30,\n",
    "    \"city\": \"New York\",\n",
    "    \"skills\": [\"Python\", \"Data Analysis\", \"Machine Learning\"]\n",
    "}\n",
    "\n",
    "# ...\n",
    "\n"
   ]
  },
  {
   "cell_type": "code",
   "execution_count": 7,
   "id": "9265d0cf-8923-47f9-85d0-01d676641396",
   "metadata": {},
   "outputs": [
    {
     "name": "stdout",
     "output_type": "stream",
     "text": [
      "{'name': 'Alice', 'age': 30, 'city': 'New York', 'skills': ['Python', 'Data Analysis', 'Machine Learning']}\n"
     ]
    }
   ],
   "source": [
    "# Reading from a JSON file\n",
    "with open('person.json', 'r') as file:\n",
    "    # ...\n",
    "    \n"
   ]
  },
  {
   "cell_type": "markdown",
   "id": "6e893391-a909-44b2-9008-ac80532a2229",
   "metadata": {},
   "source": [
    "## Random string generator"
   ]
  },
  {
   "cell_type": "code",
   "execution_count": 12,
   "id": "5bcb5004-67df-4b42-8ffa-f7c7aaaa2e8d",
   "metadata": {},
   "outputs": [],
   "source": [
    "import random\n",
    "\n",
    "def my_string_generator(numberOfLines, lengthOfLine, filename):\n",
    "   chars=['A','T','G','C']\n",
    "   # 0 for A, 1 for T, 2 for G and 3 for C\n",
    "   # generate a random number X from the set [0,1,2,3], \n",
    "   # and get the character by using chars[3]\n",
    "   \n",
    "   outputFile=open(filename,'w') # open in order to write\n",
    "\n",
    "   for line in range (numberOfLines):\n",
    "      randomLine=''\n",
    "      for c in range(lengthOfLine):\n",
    "        \n",
    "        # ...\n",
    "               \n",
    "        \n",
    "        \n",
    "      randomLine+='\\n'\n",
    "      outputFile.write(randomLine)  \n",
    "   outputFile.close()\n"
   ]
  },
  {
   "cell_type": "code",
   "execution_count": null,
   "id": "cb7bd4a6-4067-4b6e-81ba-31a2ec4d80bf",
   "metadata": {},
   "outputs": [],
   "source": [
    "my_string_generator(2,10,\"test.txt\")"
   ]
  }
 ],
 "metadata": {
  "kernelspec": {
   "display_name": "Python 3 (ipykernel)",
   "language": "python",
   "name": "python3"
  },
  "language_info": {
   "codemirror_mode": {
    "name": "ipython",
    "version": 3
   },
   "file_extension": ".py",
   "mimetype": "text/x-python",
   "name": "python",
   "nbconvert_exporter": "python",
   "pygments_lexer": "ipython3",
   "version": "3.7.11"
  }
 },
 "nbformat": 4,
 "nbformat_minor": 5
}
