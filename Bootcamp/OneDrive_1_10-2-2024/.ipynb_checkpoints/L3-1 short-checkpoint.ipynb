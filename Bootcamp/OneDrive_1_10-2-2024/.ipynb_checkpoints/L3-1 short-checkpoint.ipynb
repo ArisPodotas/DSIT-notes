{
 "cells": [
  {
   "cell_type": "markdown",
   "id": "6d6aee06",
   "metadata": {},
   "source": [
    "# Lesson 3: File Handling - Part 1"
   ]
  },
  {
   "cell_type": "markdown",
   "id": "e9d814f1",
   "metadata": {},
   "source": [
    "## File I/O Operations"
   ]
  },
  {
   "cell_type": "markdown",
   "id": "1704c8f8",
   "metadata": {},
   "source": [
    "\n",
    "Python provides built-in functions for reading from and writing to files. Files can be opened in different modes:\n",
    "- **`r`**: Read mode (default).\n",
    "- **`w`**: Write mode (overwrites the file if it exists, creates a new file if it doesn't).\n",
    "- **`a`**: Append mode (writes to the end of the file).\n",
    "- **`b`**: Binary mode (e.g., `rb`, `wb` for reading and writing binary files).\n",
    "- **`+`**: Update mode (e.g., `r+` for reading and writing).\n",
    "\n",
    "### Opening, Reading, Writing, and Closing Files\n",
    "- Use the `open()` function to open a file.\n",
    "- Use `read()`, `readline()`, or `readlines()` to read from a file.\n",
    "- Use `write()` or `writelines()` to write to a file.\n",
    "- Always close the file using `close()` to free up system resources.\n",
    "\n",
    "**Example**:\n",
    "\n",
    "```python\n",
    "file = open('example.txt', 'w')\n",
    "file.write('Hello, world!')\n",
    "file.close()\n",
    "```\n",
    "            "
   ]
  },
  {
   "cell_type": "code",
   "execution_count": null,
   "id": "9df7800c",
   "metadata": {},
   "outputs": [],
   "source": [
    "# Writing to a file\n",
    "file = open('sample.txt', 'w')\n",
    "file.write('This is a sample text file.')\n",
    "file.close()"
   ]
  },
  {
   "cell_type": "code",
   "execution_count": null,
   "id": "86b580a1",
   "metadata": {},
   "outputs": [],
   "source": [
    "# Reading from a file\n",
    "# ...\n",
    "\n"
   ]
  },
  {
   "cell_type": "code",
   "execution_count": null,
   "id": "cb59f8b8",
   "metadata": {},
   "outputs": [],
   "source": [
    "# Appending to a file\n",
    "# ...\n"
   ]
  },
  {
   "cell_type": "code",
   "execution_count": null,
   "id": "688db583",
   "metadata": {},
   "outputs": [],
   "source": [
    "# Reading the updated file\n",
    "file = open('sample.txt', 'r')\n",
    "updated_content = file.read()\n",
    "print(\"Updated file content:\", updated_content)\n",
    "file.close()"
   ]
  },
  {
   "cell_type": "markdown",
   "id": "b8fd0735",
   "metadata": {},
   "source": [
    "## Using the `with` Statement for Efficient File Handling"
   ]
  },
  {
   "cell_type": "markdown",
   "id": "733e6d12",
   "metadata": {},
   "source": [
    "\n",
    "The `with` statement provides a way to automatically close the file when you are done with it, even if an error occurs during file operations.\n",
    "\n",
    "**Example**:\n",
    "```python\n",
    "with open('example.txt', 'r') as file:\n",
    "   content = file.read()\n",
    "   print(content)\n",
    "```\n",
    "- You don't need to call `file.close()` when using the `with` statement; it is handled automatically.\n",
    "            "
   ]
  },
  {
   "cell_type": "code",
   "execution_count": null,
   "id": "20eabd84",
   "metadata": {},
   "outputs": [],
   "source": [
    "# Using the with statement for file operations\n",
    "with open('sample.txt', 'r') as file:\n",
    "    # ..."
   ]
  },
  {
   "cell_type": "code",
   "execution_count": null,
   "id": "84e6c331",
   "metadata": {},
   "outputs": [],
   "source": [
    "# Writing with the with statement\n",
    "with open('sample.txt', 'w') as file:\n",
    "    # ..."
   ]
  },
  {
   "cell_type": "markdown",
   "id": "f09f4ea7",
   "metadata": {},
   "source": [
    "## Handling Large Files Efficiently"
   ]
  },
  {
   "cell_type": "markdown",
   "id": "bd51b982",
   "metadata": {},
   "source": [
    "\n",
    "When dealing with large files, it's important to avoid loading the entire file into memory at once. Instead, read the file line-by-line or in chunks.\n",
    "\n",
    "### Reading Files Line-by-Line\n",
    "Use a `for` loop to iterate through the file's lines:\n",
    "\n",
    "```python\n",
    "with open('large_file.txt', 'r') as file:\n",
    "for line in file:\n",
    "print(line.strip())\n",
    "```\n",
    "\n",
    "### Reading in Chunks\n",
    "Read a specific number of bytes at a time using `read(size)`:\n",
    "\n",
    "```python\n",
    "with open('large_file.txt', 'r') as file:\n",
    "   chunk = file.read(1024)  # Read 1024 bytes\n",
    "   while chunk:\n",
    "      print(chunk)\n",
    "      chunk = file.read(1024)\n",
    "```\n",
    "            "
   ]
  },
  {
   "cell_type": "code",
   "execution_count": null,
   "id": "5c7c9606",
   "metadata": {},
   "outputs": [],
   "source": [
    "# Simulating reading a large file line-by-line\n",
    "with open('sample.txt', 'r') as file:\n",
    "    # ..."
   ]
  },
  {
   "cell_type": "code",
   "execution_count": null,
   "id": "12c1de25",
   "metadata": {},
   "outputs": [],
   "source": [
    "# Simulating reading a large file in chunks\n",
    "with open('sample.txt', 'r') as file:\n",
    "    chunk = file.read(10)  # Read 10 bytes at a time\n",
    "    while chunk:\n",
    "        print(\"Chunk:\", chunk)\n",
    "        chunk = file.read(10)"
   ]
  },
  {
   "cell_type": "markdown",
   "id": "c4a3a853",
   "metadata": {},
   "source": [
    "## Exercises: File I/O Operations"
   ]
  },
  {
   "cell_type": "markdown",
   "id": "627bb762",
   "metadata": {},
   "source": [
    "**Create a program that writes the numbers 1 to 10 to a file, each number on a new line**"
   ]
  },
  {
   "cell_type": "code",
   "execution_count": null,
   "id": "1d88df02",
   "metadata": {},
   "outputs": [],
   "source": [
    "with open('numbers.txt', 'w') as file:\n",
    "   # ...\n",
    "   "
   ]
  },
  {
   "cell_type": "markdown",
   "id": "2b331f72",
   "metadata": {},
   "source": [
    "**Modify the above program to append numbers 11 to 20 to the same file using the `with` statement**"
   ]
  },
  {
   "cell_type": "code",
   "execution_count": null,
   "id": "f671d5d6",
   "metadata": {},
   "outputs": [],
   "source": [
    "# ...\n"
   ]
  },
  {
   "cell_type": "markdown",
   "id": "6c490c0f",
   "metadata": {},
   "source": [
    "**Write a program that reads the contents of the file named `numbers.txt` line-by-line and prints each line**"
   ]
  },
  {
   "cell_type": "code",
   "execution_count": null,
   "id": "f1fb2267",
   "metadata": {},
   "outputs": [],
   "source": [
    "with open('numbers.txt', 'r') as file:\n",
    "   for line in file:\n",
    "      print(line.strip())"
   ]
  },
  {
   "cell_type": "markdown",
   "id": "d29e2330",
   "metadata": {},
   "source": [
    "**Calculate frequency of occurence per base for a list of strings from the file testdna2.txt using dictionaries**"
   ]
  },
  {
   "cell_type": "code",
   "execution_count": null,
   "id": "e1dfd6c8",
   "metadata": {},
   "outputs": [],
   "source": [
    "# ... copy paste code from from previous lab, and adapt!!!\n",
    "# ...\n"
   ]
  },
  {
   "cell_type": "markdown",
   "id": "ca3696ce-5e01-4ff5-921a-8cce21a3bcd6",
   "metadata": {},
   "source": [
    "**Make a plot with the results!**"
   ]
  },
  {
   "cell_type": "code",
   "execution_count": null,
   "id": "ef009201-2646-40d5-84ba-fc663808349c",
   "metadata": {},
   "outputs": [],
   "source": [
    "import matplotlib.pyplot as plt\n",
    "\n",
    "# Extract keys and values\n",
    "keys = list(dict.keys())\n",
    "values = list(dict.values())\n",
    "\n",
    "# Plotting\n",
    "# ...\n",
    "\n",
    "# Adding labels and title\n",
    "@ ...\n",
    "\n",
    "# Display the plot\n",
    "plt.show()"
   ]
  },
  {
   "cell_type": "markdown",
   "id": "5d675f03",
   "metadata": {},
   "source": [
    "**Calculate (A+T) / (C+G) ratio per sequence after loading multiple sequences from a file**"
   ]
  },
  {
   "cell_type": "markdown",
   "id": "9d715608",
   "metadata": {},
   "source": [
    "* The purpose of this exercise is to allow you to become familiar with the concepts of file parsing, loading file contents into convenient data structures and performing operations on loaded data in a convenient way.\n",
    "* This notebook can also serve as a useful guide with hints useful for solving the PWM on-site exercise (EX4)."
   ]
  },
  {
   "cell_type": "code",
   "execution_count": null,
   "id": "986c1532",
   "metadata": {},
   "outputs": [],
   "source": [
    "sequences_file = 'gata3.txt'\n",
    "\n",
    "# initiate an empty list to hold the information that we will load from the file\n",
    "sequences_as_list_of_lists = list()\n",
    "\n",
    "# ...\n",
    "\n",
    "# open a connection to the file and attach it to a file handle\n",
    "\n",
    "# use the file handle as a proxy to loop through the lines of the file one-by-one\n",
    "\n",
    "# remove the newline character from the end of the string\n",
    "\n",
    "# 2 ways to split the letters of a string to a list\n",
    "\n",
    "# dynamically update the 2-d array\n",
    "\n",
    "# detach the file handle from the file and close the connection to the file\n",
    "\n",
    "print(sequences_as_list_of_lists)"
   ]
  },
  {
   "cell_type": "markdown",
   "id": "17a6c7dc",
   "metadata": {},
   "source": [
    "* The cell above essentially creates a 2-dimentional array/matrix\n",
    "* What if our objective is to go through the elements of such an array one-by-one, and perform some calculations? How can we do it?\n",
    "* For example, how can we calculate the (A+T)/(G+C) ratio for each row in this 2-D array?"
   ]
  },
  {
   "cell_type": "code",
   "execution_count": null,
   "id": "fc1fc6d6",
   "metadata": {},
   "outputs": [],
   "source": [
    "# ...\n",
    "\n",
    "# Loop through each element of the list using indices (each element is another list)\n",
    "    \n",
    "# initialize 2 variables that will hold the AT and GC counts\n",
    "    \n",
    "# Loop through each element of the nested list\n",
    "\n",
    "# check if the element is equal to 'A'\n",
    "\n",
    "# check if the element is equal to 'T'\n",
    "\n",
    "# check if the element is equal to 'G'\n",
    "\n",
    "# if all 3 conditions above are false then we expect 'C'\n",
    "        \n",
    "## Are these if-elif-else conditions safe enough?\n",
    "\n",
    "# print the calculated ratios\n",
    "\n",
    "## How can we use print in a prettier form?\n",
    "    \n",
    "## Is the calculation of the ratio safe enough?"
   ]
  },
  {
   "cell_type": "code",
   "execution_count": null,
   "id": "80aef984",
   "metadata": {},
   "outputs": [],
   "source": []
  }
 ],
 "metadata": {
  "kernelspec": {
   "display_name": "Python 3 (ipykernel)",
   "language": "python",
   "name": "python3"
  },
  "language_info": {
   "codemirror_mode": {
    "name": "ipython",
    "version": 3
   },
   "file_extension": ".py",
   "mimetype": "text/x-python",
   "name": "python",
   "nbconvert_exporter": "python",
   "pygments_lexer": "ipython3",
   "version": "3.7.11"
  }
 },
 "nbformat": 4,
 "nbformat_minor": 5
}
