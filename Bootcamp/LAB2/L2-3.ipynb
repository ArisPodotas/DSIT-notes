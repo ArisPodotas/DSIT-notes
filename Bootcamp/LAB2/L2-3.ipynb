{
 "cells": [
  {
   "cell_type": "markdown",
   "metadata": {},
   "source": [
    "# Lesson 2: Data Structures - Part 3"
   ]
  },
  {
   "cell_type": "markdown",
   "metadata": {},
   "source": [
    "## Sets"
   ]
  },
  {
   "cell_type": "markdown",
   "metadata": {},
   "source": [
    "\n",
    "A **set** is an unordered collection of unique elements. Sets are useful when you need to eliminate duplicate values or check for membership.\n",
    "\n",
    "### Creating Sets\n",
    "Sets are created using curly braces `{}` or the `set()` function:\n",
    "\n",
    "```python\n",
    "#create an empty set\n",
    "my_set = set()\n",
    "\n",
    "#create a set with initial values\n",
    "my_set = {1, 2, 3, 4, 5}\n",
    "\n",
    "#create a set with initial values of difference data types\n",
    "my_set = {1, \"Hello\", 3.14, True}\n",
    "\n",
    "#create a set from other objects, e.g, lists, tuples, range of numbers using the constructor set()\n",
    "my_set = set([1,2,3]) # ...from a list\n",
    "my_set = set((1,2,3)) # ...from a tuple\n",
    "my_set = set(range(10)) # ...from a range of numbers\n",
    "```\n",
    "\n",
    "### Set Operations\n",
    "- **Union**: Combines elements from both sets (`set1 | set2`).\n",
    "- **Intersection**: Elements common to both sets (`set1 & set2`).\n",
    "- **Difference**: Elements in `set1` but not in `set2` (`set1 - set2`).\n",
    "- **Symmetric Difference**: Elements in either `set1` or `set2` but not both (`set1 ^ set2`).\n",
    "\n",
    "### Membership Testing\n",
    "Use the `in` keyword to check if an item exists in a set:\n",
    "\n",
    "```python\n",
    "if 2 in my_set:\n",
    "print(\"2 is in the set\")\n",
    "```\n",
    "            "
   ]
  },
  {
   "cell_type": "code",
   "execution_count": 1,
   "metadata": {},
   "outputs": [
    {
     "name": "stdout",
     "output_type": "stream",
     "text": [
      "Set of numbers: {1, 2, 3, 4, 5, 6}\n"
     ]
    }
   ],
   "source": [
    "# Creating and using sets\n",
    "numbers = {1, 2, 3, 4, 5, 5, 6}  # Duplicates will be removed\n",
    "print(\"Set of numbers:\", numbers)"
   ]
  },
  {
   "cell_type": "code",
   "execution_count": 2,
   "metadata": {},
   "outputs": [
    {
     "name": "stdout",
     "output_type": "stream",
     "text": [
      "Union: {1, 2, 3, 4, 5, 6, 7, 8, 9}\n",
      "Intersection: {2, 4, 6}\n",
      "Difference: {1, 3, 5}\n",
      "Symmetric Difference: {1, 2, 3, 4, 5, 6, 7, 8, 9}\n"
     ]
    }
   ],
   "source": [
    "# Set operations\n",
    "evens = {2, 4, 6, 8}\n",
    "odds = {1, 3, 5, 7, 9}\n",
    "\n",
    "#### START\n",
    "\n",
    "union_set = evens | odds\n",
    "intersection_set = evens & numbers\n",
    "difference_set = numbers - evens\n",
    "symmetric_difference_set = evens ^ odds\n",
    "\n",
    "# Display results\n",
    "print(\"Union:\", union_set)\n",
    "print(\"Intersection:\", intersection_set)\n",
    "print(\"Difference:\", difference_set)\n",
    "print(\"Symmetric Difference:\", symmetric_difference_set)\n"
   ]
  },
  {
   "cell_type": "code",
   "execution_count": null,
   "metadata": {},
   "outputs": [],
   "source": []
  },
  {
   "cell_type": "code",
   "execution_count": 3,
   "metadata": {},
   "outputs": [
    {
     "name": "stdout",
     "output_type": "stream",
     "text": [
      "3 is in the set\n"
     ]
    }
   ],
   "source": [
    "# Membership testing\n",
    "if 3 in numbers:\n",
    "    print(\"3 is in the set\")"
   ]
  },
  {
   "cell_type": "markdown",
   "metadata": {},
   "source": [
    "## Exercises: Sets"
   ]
  },
  {
   "cell_type": "markdown",
   "metadata": {},
   "source": [
    "**Write a program that removes duplicates from a list of integers using a set**"
   ]
  },
  {
   "cell_type": "code",
   "execution_count": 3,
   "metadata": {},
   "outputs": [
    {
     "name": "stdout",
     "output_type": "stream",
     "text": [
      "List without duplicates: [1, 2, 3, 4, 5, 6]\n"
     ]
    }
   ],
   "source": [
    "numbers = [1, 2, 2, 3, 4, 4, 5, 5, 6]\n",
    "\n",
    "#### START\n",
    "\n",
    "unique_numbers = list(set(numbers))\n",
    "print(\"List without duplicates:\", unique_numbers)"
   ]
  },
  {
   "cell_type": "markdown",
   "metadata": {},
   "source": [
    "**Implement a simple word frequency counter using a set and a dictionary. The program should count the occurrence of each unique word in a given string**"
   ]
  },
  {
   "cell_type": "code",
   "execution_count": 4,
   "metadata": {},
   "outputs": [
    {
     "name": "stdout",
     "output_type": "stream",
     "text": [
      "Word frequencies: {'this': 2, 'is': 2, 'a': 2, 'test': 2, 'only': 1}\n"
     ]
    }
   ],
   "source": [
    "sentence = \"this is a test this is only a test\"\n",
    "words = sentence.split()\n",
    "word_count = {}\n",
    "\n",
    "for word in words:\n",
    "   if word in word_count:\n",
    "      #### START\n",
    "      word_count[word] += 1\n",
    "   else:\n",
    "      #### START\n",
    "      word_count[word] = 1\n",
    "print(\"Word frequencies:\", word_count)"
   ]
  },
  {
   "cell_type": "markdown",
   "metadata": {},
   "source": [
    "## Working with Mixed Data Structures"
   ]
  },
  {
   "cell_type": "markdown",
   "metadata": {},
   "source": [
    "\n",
    "In real-world applications, you often need to combine different data structures to solve complex problems.\n",
    "\n",
    "### Example: Combining Lists, Dictionaries, and Sets\n",
    "- **Lists** can hold dictionaries, allowing you to create a list of records.\n",
    "- **Dictionaries** can have lists or sets as values, enabling you to manage collections of data.\n",
    "            "
   ]
  },
  {
   "cell_type": "code",
   "execution_count": 2,
   "metadata": {},
   "outputs": [
    {
     "name": "stdout",
     "output_type": "stream",
     "text": [
      "Alice's average grade: 84.33333333333333\n",
      "Bob's average grade: 88.0\n",
      "Charlie's average grade: 75.0\n"
     ]
    }
   ],
   "source": [
    "# Example: List of dictionaries\n",
    "students = [\n",
    "    {\"name\": \"Alice\", \"grades\": [85, 90, 78]},\n",
    "    {\"name\": \"Bob\", \"grades\": [92, 88, 84]},\n",
    "    {\"name\": \"Charlie\", \"grades\": [70, 75, 80]}\n",
    "]\n",
    "\n",
    "# Calculate average grade for each student\n",
    "\n",
    "for student in students:\n",
    "    \n",
    "    #### START\n",
    "    \n",
    "    average_grade = sum(student[\"grades\"]) / len(student[\"grades\"])\n",
    "    print(f\"{student['name']}'s average grade: {average_grade}\")"
   ]
  },
  {
   "cell_type": "code",
   "execution_count": 7,
   "metadata": {},
   "outputs": [
    {
     "name": "stdout",
     "output_type": "stream",
     "text": [
      "Students in both Math and Science: {'Alice'}\n"
     ]
    }
   ],
   "source": [
    "# Example: Dictionary of sets\n",
    "course_enrollment = {\n",
    "    \"Math\": {\"Alice\", \"Bob\"},\n",
    "    \"Science\": {\"Alice\", \"Charlie\"},\n",
    "    \"Art\": {\"Bob\", \"Charlie\"}\n",
    "}\n",
    "\n",
    "# Find students enrolled in both Math and Science\n",
    "\n",
    "#### START\n",
    "\n",
    "common_students = course_enrollment[\"Math\"] & course_enrollment[\"Science\"]\n",
    "print(\"Students in both Math and Science:\", common_students)"
   ]
  },
  {
   "cell_type": "markdown",
   "metadata": {},
   "source": [
    "## Exercises: Mixed Data Structures"
   ]
  },
  {
   "cell_type": "markdown",
   "metadata": {},
   "source": [
    "**Create a dictionary where keys are student names and values are sets of enrolled courses. Implement a function to add a course to a student's set of courses**"
   ]
  },
  {
   "cell_type": "code",
   "execution_count": 3,
   "metadata": {},
   "outputs": [
    {
     "name": "stdout",
     "output_type": "stream",
     "text": [
      "Updated courses for Alice: {'Art', 'Science', 'Math'}\n"
     ]
    }
   ],
   "source": [
    "student_courses = {\n",
    "\"Alice\": {\"Math\", \"Science\"},\n",
    "\"Bob\": {\"Art\"},\n",
    "\"Charlie\": {\"Math\"}\n",
    "}\n",
    "\n",
    "def add_course(student, course):\n",
    "   if student in student_courses:\n",
    "      #### START\n",
    "      student_courses[student].add(course)\n",
    "   else:\n",
    "      #### START\n",
    "      student_courses[student] = {course}\n",
    "\n",
    "# Add a new course\n",
    "\n",
    "#### START\n",
    "\n",
    "add_course(\"Alice\", \"Art\")\n",
    "print(\"Updated courses for Alice:\", student_courses[\"Alice\"])"
   ]
  },
  {
   "cell_type": "markdown",
   "metadata": {},
   "source": [
    "**Write a program that takes a list of student dictionaries (each containing name and grades) and outputs the names of students who have an average grade above 80**"
   ]
  },
  {
   "cell_type": "code",
   "execution_count": 9,
   "metadata": {},
   "outputs": [
    {
     "name": "stdout",
     "output_type": "stream",
     "text": [
      "Alice has an average grade above 80.\n",
      "Bob has an average grade above 80.\n"
     ]
    }
   ],
   "source": [
    "students = [\n",
    "{\"name\": \"Alice\", \"grades\": [85, 90, 78]},\n",
    "{\"name\": \"Bob\", \"grades\": [92, 88, 84]},\n",
    "{\"name\": \"Charlie\", \"grades\": [70, 75, 80]}\n",
    "]\n",
    "\n",
    "for student in students:\n",
    "    \n",
    "   #### START \n",
    "    \n",
    "   average_grade = sum(student[\"grades\"]) / len(student[\"grades\"])\n",
    "   if average_grade > 80:\n",
    "      print(f\"{student['name']} has an average grade above 80.\")"
   ]
  },
  {
   "cell_type": "markdown",
   "metadata": {},
   "source": [
    "**Calculate frequency of occurence per base for a list of strings using dictionaries**"
   ]
  },
  {
   "cell_type": "code",
   "execution_count": 4,
   "metadata": {},
   "outputs": [
    {
     "name": "stdout",
     "output_type": "stream",
     "text": [
      "{'A': 124, 'C': 170, 'G': 188, 'T': 96}\n"
     ]
    }
   ],
   "source": [
    "def my_count(dna_string, base):\n",
    "    count_bases = 0 # counter\n",
    "    for character in dna_string: # it iterates on every single character of the dna variable (string)\n",
    "        if character == base:\n",
    "            count_bases += 1 # i.e., count_bases = count_bases + 1\n",
    "    return count_bases\n",
    "\n",
    "my_sequences = [\n",
    "\"CCTGGCGGCCATGGCGAACCGGAACCACCCGATCCCATCTCGAACTCGGAAGTGAAACGGTTCAGCGCCGATGA-TAGTGTG--GGGCCTCCCCATGTGAAAGTAGGTCACTGCCAGGC\",\n",
    "\"-CAGGTGGTGATGGCGGAAAGGTCACACCCGAACACATCCCGAACTCGGAAGTTAAGCTTTCCAGCGCCGATG-GTAGTTGG--GGGTTTCCCCCTGCGAGAGTAGGACGTTGCCGGGC\",\n",
    "\"AACGGCGGTCATAGCGGTGGGGAAACGCCCGGTCCCATCCCGAACCCGGAAGCTAAGCCCACCAGCGCCGATG-GTACTGCACTC-GTGAGGGTGTGGGAGAGTAGGACGCCGCCGGAC\",\n",
    "\"GCTGGCGACCATAGCAAGAGTGAACCACCTGATCCCTTCCCGAACTCAGAAGTGAAACCTCTTCGCGCTGATG-GTAGTGNGG-GT--TA-CCCATGTGAGAGTAAGTCATCGCCAGCT\",\n",
    "\"GTCGGTGGTCATTGCGGAGGGGGAACGCCCGGTCCCATCCCGAACCCGGAAGCTAAGCCCTCCAGCGCCGATG-GTACTGCACTC-GCCAGGGTGTGGGAGAGTAGGTCGCCGCCGACA\"]\n",
    "\n",
    "dict = {} # an empty dictionary\n",
    "dict['A'] = 0\n",
    "dict['C'] = 0\n",
    "dict['G'] = 0\n",
    "dict['T'] = 0\n",
    "\n",
    "#i = 0\n",
    "for line in my_sequences:\n",
    "    \n",
    "    #### START\n",
    "    \n",
    "    count_A = my_count(line, 'A')\n",
    "    count_C = my_count(line, 'C')\n",
    "    count_G = my_count(line, 'G')\n",
    "    count_T = my_count(line, 'T')\n",
    "        \n",
    "    dict['A'] = dict['A'] + count_A\n",
    "    dict['C'] = dict['C'] + count_C\n",
    "    dict['G'] = dict['G'] + count_G\n",
    "    dict['T'] = dict['T'] + count_T\n",
    "    \n",
    "print(dict)"
   ]
  },
  {
   "cell_type": "code",
   "execution_count": null,
   "metadata": {},
   "outputs": [],
   "source": []
  }
 ],
 "metadata": {
  "kernelspec": {
   "display_name": "Python 3",
   "language": "python",
   "name": "python3"
  },
  "language_info": {
   "codemirror_mode": {
    "name": "ipython",
    "version": 3
   },
   "file_extension": ".py",
   "mimetype": "text/x-python",
   "name": "python",
   "nbconvert_exporter": "python",
   "pygments_lexer": "ipython3",
   "version": "3.8.5"
  }
 },
 "nbformat": 4,
 "nbformat_minor": 5
}
