{
 "cells": [
  {
   "cell_type": "markdown",
   "id": "f9e39e54",
   "metadata": {},
   "source": [
    "# Lesson 2: Data Structures - Part 1"
   ]
  },
  {
   "cell_type": "markdown",
   "id": "f2a5ae6d",
   "metadata": {},
   "source": [
    "## Introduction to Data Structures"
   ]
  },
  {
   "cell_type": "markdown",
   "id": "86456360",
   "metadata": {},
   "source": [
    "**Data Structures** are essential for organizing and manipulating data efficiently. They enable programmers to store, access, and modify data in a way that optimizes performance and maintains readability.\n",
    "\n",
    "Common data structures in Python include:\n",
    "- **Lists**: Ordered and mutable collections.\n",
    "- **Tuples**: Ordered and immutable collections.\n",
    "- **Dictionaries**: Key-value pairs for fast lookup.\n",
    "- **Sets**: Unordered collections of unique elements.\n",
    "\n",
    "Each data structure has its own use cases and benefits. Choosing the right data structure for the task can make your code more efficient and easier to maintain.            "
   ]
  },
  {
   "cell_type": "markdown",
   "id": "c9256e05",
   "metadata": {},
   "source": [
    "## Lists"
   ]
  },
  {
   "cell_type": "markdown",
   "id": "3ce0a050",
   "metadata": {},
   "source": [
    "### Creating Lists\n",
    "A **list** is an ordered collection of elements. Lists can hold elements of different data types and are defined using square brackets:\n",
    "\n",
    "```python\n",
    "#create an empty list\n",
    "my_list = []\n",
    "\n",
    "#create a list with initial values\n",
    "my_list = [1, 2, 3, 4, 5]\n",
    "\n",
    "#create a list with initial values of difference data types\n",
    "my_list = [1, \"Hello\", 3.14, True]\n",
    "\n",
    "#create a list from other objects, e.g, lists, tuples, range of numbers using the constructor list()\n",
    "my_list = list([1,2,3]) # ...from a list\n",
    "my_list = list((1,2,3)) # ...from a tuple\n",
    "my_list = list(range(10)) # ...from a range of numbers\n",
    "```\n",
    "\n",
    "### List Methods\n",
    "- **`append()`**: Adds an element to the end of the list.\n",
    "- **`remove()`**: Removes the first occurrence of the specified element.\n",
    "- **`insert()`**: Inserts an element at a specified position.\n",
    "- **`pop()`**: Removes and returns the element at the specified position.\n",
    "- **`sort()`**: Sorts the list in ascending order.\n",
    "- **`reverse()`**: Reverses the order of elements in the list.\n",
    "\n",
    "### Slicing\n",
    "Access a range of elements using slicing:\n",
    "\n",
    "```python\n",
    "sublist = my_list[1:4]  # Returns elements from index 1 to 3\n",
    "```\n",
    "\n",
    "Slice syntax: [start:stop:steps]. Note that \"start\" and \"stop\" denote positions. **BE CAREFUL: 0 is the 1st position!!!** Examples:\n",
    "\n",
    "            "
   ]
  },
  {
   "cell_type": "code",
   "execution_count": 1,
   "id": "c3664307",
   "metadata": {},
   "outputs": [
    {
     "name": "stdout",
     "output_type": "stream",
     "text": [
      "Modified list: ['Bob', 'Eve', 'Charlie', 'Alice', 'Diana']\n",
      "Sorted list: ['Alice', 'Bob', 'Charlie', 'Diana', 'Eve']\n",
      "Reversed list: ['Eve', 'Diana', 'Charlie', 'Bob', 'Alice']\n"
     ]
    }
   ],
   "source": [
    "# Creating and modifying lists\n",
    "names = [\"Alice\", \"Bob\", \"Charlie\", \"Alice\"]\n",
    "names.append(\"Diana\")\n",
    "names.remove(\"Alice\")  # Removes the first occurrence of \"Alice\"\n",
    "names.insert(1, \"Eve\")  # Inserts \"Eve\" at index 1\n",
    "print(\"Modified list:\", names)\n",
    "\n",
    "# NEXT, YOU WILL ΤYPE SOME SLICING EXAMPLES!\n",
    "# ...\n",
    "\n",
    "\n",
    "\n",
    "\n",
    "\n",
    "\n",
    "\n",
    "\n",
    "\n",
    "\n",
    "\n",
    "\n",
    "\n"
   ]
  },
  {
   "cell_type": "code",
   "execution_count": null,
   "id": "c2ee7132-c7af-45d6-95b5-15e5db1fa238",
   "metadata": {},
   "outputs": [],
   "source": [
    "# Sorting and reversing\n",
    "# ...\n"
   ]
  },
  {
   "cell_type": "markdown",
   "id": "8b9d430d",
   "metadata": {},
   "source": [
    "## Exercises: Lists"
   ]
  },
  {
   "cell_type": "markdown",
   "id": "886c6684",
   "metadata": {},
   "source": [
    "**Create a list of names, sort them alphabetically, and remove duplicates**:          "
   ]
  },
  {
   "cell_type": "code",
   "execution_count": 51,
   "id": "e50b4390",
   "metadata": {},
   "outputs": [
    {
     "name": "stdout",
     "output_type": "stream",
     "text": [
      "Sorted list without duplicates: ['Anna', 'Bob', 'Charlie', 'David']\n"
     ]
    }
   ],
   "source": [
    "names = [\"Anna\", \"Bob\", \"Charlie\", \"Anna\", \"David\", \"Charlie\"]\n",
    "# Remove duplicates by converting to a set and back to a list\n",
    "# ...\n",
    "\n"
   ]
  },
  {
   "cell_type": "markdown",
   "id": "caaba50b",
   "metadata": {},
   "source": [
    "**Write a program that creates a list of the first 10 squares (i.e., 1, 4, 9, 16, …)**"
   ]
  },
  {
   "cell_type": "code",
   "execution_count": 52,
   "id": "1dc92132",
   "metadata": {},
   "outputs": [
    {
     "name": "stdout",
     "output_type": "stream",
     "text": [
      "First 10 squares: [1, 4, 9, 16, 25, 36, 49, 64, 81, 100]\n"
     ]
    }
   ],
   "source": [
    "#initialize a list variable with 10 elements (0s)\n",
    "# ...\n"
   ]
  },
  {
   "cell_type": "code",
   "execution_count": 53,
   "id": "90afe3df",
   "metadata": {},
   "outputs": [
    {
     "name": "stdout",
     "output_type": "stream",
     "text": [
      "First 10 squares: [1, 4, 9, 16, 25, 36, 49, 64, 81, 100]\n"
     ]
    }
   ],
   "source": [
    "#initialize a list variable with 10 elements (0s), using the constructor list()\n",
    "squares = list([0]*10)\n",
    "for i in range(1, 11):\n",
    "   squares[i-1]=i ** 2\n",
    "print(\"First 10 squares:\", squares)"
   ]
  },
  {
   "cell_type": "code",
   "execution_count": 54,
   "id": "fb3e9afd",
   "metadata": {},
   "outputs": [
    {
     "name": "stdout",
     "output_type": "stream",
     "text": [
      "First 10 squares: [1, 4, 9, 16, 25, 36, 49, 64, 81, 100]\n"
     ]
    }
   ],
   "source": [
    "#initialize an empty list variable\n",
    "#Cannot use indexes, eg squares[0]!!! You should use append to fill the list\n",
    "squares = []\n",
    "for i in range(1, 11):\n",
    "   squares.append(i ** 2)\n",
    "print(\"First 10 squares:\", squares)"
   ]
  },
  {
   "cell_type": "code",
   "execution_count": 55,
   "id": "a6e085a6",
   "metadata": {},
   "outputs": [
    {
     "name": "stdout",
     "output_type": "stream",
     "text": [
      "First 10 squares: [1, 4, 9, 16, 25, 36, 49, 64, 81, 100]\n"
     ]
    }
   ],
   "source": [
    "squares = [i ** 2 for i in range(1, 11)]\n",
    "print(\"First 10 squares:\", squares)"
   ]
  },
  {
   "cell_type": "code",
   "execution_count": 56,
   "id": "2d6fe9d0",
   "metadata": {},
   "outputs": [
    {
     "name": "stdout",
     "output_type": "stream",
     "text": [
      "First 10 squares: 1 4 9 16 25 36 49 64 81 100 "
     ]
    }
   ],
   "source": [
    "#initialize a list variable with 10 elements, from 1 to 10, using the range method\n",
    "# Note: with the end=\" \" we ask Python not to add a new line at the end of the print commant\n",
    "squares = list(range(1,11))\n",
    "print(\"First 10 squares:\", end=\" \")\n",
    "for i in squares:\n",
    "   print(i**2, end=\" \")"
   ]
  },
  {
   "cell_type": "code",
   "execution_count": null,
   "id": "999a8df1",
   "metadata": {},
   "outputs": [],
   "source": []
  },
  {
   "cell_type": "code",
   "execution_count": null,
   "id": "87409371",
   "metadata": {},
   "outputs": [],
   "source": []
  }
 ],
 "metadata": {
  "kernelspec": {
   "display_name": "Python 3 (ipykernel)",
   "language": "python",
   "name": "python3"
  },
  "language_info": {
   "codemirror_mode": {
    "name": "ipython",
    "version": 3
   },
   "file_extension": ".py",
   "mimetype": "text/x-python",
   "name": "python",
   "nbconvert_exporter": "python",
   "pygments_lexer": "ipython3",
   "version": "3.7.11"
  }
 },
 "nbformat": 4,
 "nbformat_minor": 5
}
