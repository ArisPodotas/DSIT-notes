{
 "cells": [
  {
   "cell_type": "markdown",
   "id": "bc208bea",
   "metadata": {},
   "source": [
    "# Lesson 2: Data Structures - Part 3"
   ]
  },
  {
   "cell_type": "markdown",
   "id": "6946f5df",
   "metadata": {},
   "source": [
    "## Sets"
   ]
  },
  {
   "cell_type": "markdown",
   "id": "36553b6f",
   "metadata": {},
   "source": [
    "\n",
    "A **set** is an unordered collection of unique elements. Sets are useful when you need to eliminate duplicate values or check for membership.\n",
    "\n",
    "### Creating Sets\n",
    "Sets are created using curly braces `{}` or the `set()` function:\n",
    "\n",
    "```python\n",
    "#create an empty set\n",
    "my_set = set()\n",
    "\n",
    "#create a set with initial values\n",
    "my_set = {1, 2, 3, 4, 5}\n",
    "\n",
    "#create a set with initial values of difference data types\n",
    "my_set = {1, \"Hello\", 3.14, True}\n",
    "\n",
    "#create a set from other objects, e.g, lists, tuples, range of numbers using the constructor set()\n",
    "my_set = set([1,2,3]) # ...from a list\n",
    "my_set = set((1,2,3)) # ...from a tuple\n",
    "my_set = set(range(10)) # ...from a range of numbers\n",
    "```\n",
    "\n",
    "### Set Operations\n",
    "- **Union**: Combines elements from both sets (`set1 | set2`).\n",
    "- **Intersection**: Elements common to both sets (`set1 & set2`).\n",
    "- **Difference**: Elements in `set1` but not in `set2` (`set1 - set2`).\n",
    "- **Symmetric Difference**: Elements in either `set1` or `set2` but not both (`set1 ^ set2`).\n",
    "\n",
    "### Membership Testing\n",
    "Use the `in` keyword to check if an item exists in a set:\n",
    "\n",
    "```python\n",
    "if 2 in my_set:\n",
    "print(\"2 is in the set\")\n",
    "```\n",
    "            "
   ]
  },
  {
   "cell_type": "code",
   "execution_count": 1,
   "id": "48792d05",
   "metadata": {},
   "outputs": [
    {
     "name": "stdout",
     "output_type": "stream",
     "text": [
      "Set of numbers: {1, 2, 3, 4, 5, 6}\n"
     ]
    }
   ],
   "source": [
    "# Creating and using sets\n",
    "numbers = {1, 2, 3, 4, 5, 5, 6}  # Duplicates will be removed\n",
    "print(\"Set of numbers:\", numbers)"
   ]
  },
  {
   "cell_type": "code",
   "execution_count": null,
   "id": "5d7bd070-6920-4d84-8caf-72127cfacd2c",
   "metadata": {},
   "outputs": [],
   "source": [
    "# Set operations\n",
    "evens = {2, 4, 6, 8}\n",
    "odds = {1, 3, 5, 7, 9}\n",
    "\n",
    "# ..."
   ]
  },
  {
   "cell_type": "code",
   "execution_count": null,
   "id": "daadfe5e-bc79-42fd-ab33-1765e00bd1e1",
   "metadata": {},
   "outputs": [],
   "source": [
    "# Membership testing\n",
    "if 3 in numbers:\n",
    "    print(\"3 is in the set\")"
   ]
  },
  {
   "cell_type": "markdown",
   "id": "63e7f006",
   "metadata": {},
   "source": [
    "## Exercises: Sets"
   ]
  },
  {
   "cell_type": "markdown",
   "id": "ced01dc5",
   "metadata": {},
   "source": [
    "**Write a program that removes duplicates from a list of integers using a set**"
   ]
  },
  {
   "cell_type": "code",
   "execution_count": 2,
   "id": "1c8ca7a5",
   "metadata": {},
   "outputs": [],
   "source": [
    "numbers = [1, 2, 2, 3, 4, 4, 5, 5, 6]\n",
    "# ...\n"
   ]
  },
  {
   "cell_type": "markdown",
   "id": "65b1552d",
   "metadata": {},
   "source": [
    "**Implement a simple word frequency counter using a set and a dictionary. The program should count the occurrence of each unique word in a given string**"
   ]
  },
  {
   "cell_type": "code",
   "execution_count": 4,
   "id": "e4ffff54",
   "metadata": {},
   "outputs": [
    {
     "name": "stdout",
     "output_type": "stream",
     "text": [
      "Word frequencies: {'this': 2, 'is': 2, 'a': 2, 'test': 2, 'only': 1}\n"
     ]
    }
   ],
   "source": [
    "sentence = \"this is a test this is only a test\"\n",
    "words = sentence.split()\n",
    "word_count = {}\n",
    "\n",
    "for word in words:\n",
    "   if word in word_count:\n",
    "      # ...\n",
    "   else:\n",
    "      # ...\n",
    "print(\"Word frequencies:\", word_count)"
   ]
  },
  {
   "cell_type": "markdown",
   "id": "f6947a40",
   "metadata": {},
   "source": [
    "## Working with Mixed Data Structures"
   ]
  },
  {
   "cell_type": "markdown",
   "id": "30a7537d",
   "metadata": {},
   "source": [
    "\n",
    "In real-world applications, you often need to combine different data structures to solve complex problems.\n",
    "\n",
    "### Example: Combining Lists, Dictionaries, and Sets\n",
    "- **Lists** can hold dictionaries, allowing you to create a list of records.\n",
    "- **Dictionaries** can have lists or sets as values, enabling you to manage collections of data.\n",
    "            "
   ]
  },
  {
   "cell_type": "code",
   "execution_count": 6,
   "id": "f21b94e5",
   "metadata": {},
   "outputs": [
    {
     "name": "stdout",
     "output_type": "stream",
     "text": [
      "Alice's average grade: 84.33333333333333\n",
      "Bob's average grade: 88.0\n",
      "Charlie's average grade: 75.0\n"
     ]
    }
   ],
   "source": [
    "# Example: List of dictionaries\n",
    "students = [\n",
    "    {\"name\": \"Alice\", \"grades\": [85, 90, 78]},\n",
    "    {\"name\": \"Bob\", \"grades\": [92, 88, 84]},\n",
    "    {\"name\": \"Charlie\", \"grades\": [70, 75, 80]}\n",
    "]\n",
    "\n",
    "# Calculate average grade for each student\n",
    "for student in students:\n",
    "    # ...\n",
    "    "
   ]
  },
  {
   "cell_type": "code",
   "execution_count": 7,
   "id": "bdccf3e6",
   "metadata": {},
   "outputs": [
    {
     "name": "stdout",
     "output_type": "stream",
     "text": [
      "Students in both Math and Science: {'Alice'}\n"
     ]
    }
   ],
   "source": [
    "# Example: Dictionary of sets\n",
    "course_enrollment = {\n",
    "    \"Math\": {\"Alice\", \"Bob\"},\n",
    "    \"Science\": {\"Alice\", \"Charlie\"},\n",
    "    \"Art\": {\"Bob\", \"Charlie\"}\n",
    "}\n",
    "\n",
    "# Find students enrolled in both Math and Science\n",
    "# ...\n"
   ]
  },
  {
   "cell_type": "markdown",
   "id": "400b0a8d",
   "metadata": {},
   "source": [
    "## Exercises: Mixed Data Structures"
   ]
  },
  {
   "cell_type": "markdown",
   "id": "2e29d71d",
   "metadata": {},
   "source": [
    "**Create a dictionary where keys are student names and values are sets of enrolled courses. Implement a function to add a course to a student's set of courses**"
   ]
  },
  {
   "cell_type": "code",
   "execution_count": 8,
   "id": "47477ebb",
   "metadata": {},
   "outputs": [
    {
     "name": "stdout",
     "output_type": "stream",
     "text": [
      "Updated courses for Alice: {'Art', 'Science', 'Math'}\n"
     ]
    }
   ],
   "source": [
    "student_courses = {\n",
    "\"Alice\": {\"Math\", \"Science\"},\n",
    "\"Bob\": {\"Art\"},\n",
    "\"Charlie\": {\"Math\"}\n",
    "}\n",
    "\n",
    "def add_course(student, course):\n",
    "   if student in student_courses:\n",
    "      # ...\n",
    "      \n",
    "   else:\n",
    "      # ...\n",
    "      \n",
    "\n",
    "# Add a new course\n",
    "# ..."
   ]
  },
  {
   "cell_type": "markdown",
   "id": "6da6f6d5",
   "metadata": {},
   "source": [
    "**Write a program that takes a list of student dictionaries (each containing name and grades) and outputs the names of students who have an average grade above 80**"
   ]
  },
  {
   "cell_type": "code",
   "execution_count": 3,
   "id": "17ddb799",
   "metadata": {},
   "outputs": [
    {
     "ename": "SyntaxError",
     "evalue": "unexpected EOF while parsing (3275097275.py, line 9)",
     "output_type": "error",
     "traceback": [
      "\u001b[0;36m  File \u001b[0;32m\"/var/folders/sw/cdcl54s554z6kqdcvxp87ych0000gn/T/ipykernel_61195/3275097275.py\"\u001b[0;36m, line \u001b[0;32m9\u001b[0m\n\u001b[0;31m    \u001b[0m\n\u001b[0m    ^\u001b[0m\n\u001b[0;31mSyntaxError\u001b[0m\u001b[0;31m:\u001b[0m unexpected EOF while parsing\n"
     ]
    }
   ],
   "source": [
    "students = [\n",
    "{\"name\": \"Alice\", \"grades\": [85, 90, 78]},\n",
    "{\"name\": \"Bob\", \"grades\": [92, 88, 84]},\n",
    "{\"name\": \"Charlie\", \"grades\": [70, 75, 80]}\n",
    "]\n",
    "\n",
    "for student in students:\n",
    "   # ...\n",
    "  "
   ]
  },
  {
   "cell_type": "markdown",
   "id": "65e949c7",
   "metadata": {},
   "source": [
    "**Calculate frequency of occurence per base for a list of strings using dictionaries**"
   ]
  },
  {
   "cell_type": "code",
   "execution_count": 11,
   "id": "7ce1e657",
   "metadata": {},
   "outputs": [
    {
     "name": "stdout",
     "output_type": "stream",
     "text": [
      "{'A': 124, 'C': 170, 'G': 188, 'T': 96}\n"
     ]
    }
   ],
   "source": [
    "def my_count(dna_string, base):\n",
    "    count_bases = 0 # counter\n",
    "    for character in dna_string: # it iterates on every single character of the dna variable (string)\n",
    "        if character == base:\n",
    "            count_bases += 1 # i.e., count_bases = count_bases + 1\n",
    "    return count_bases\n",
    "\n",
    "my_sequences = [\n",
    "\"CCTGGCGGCCATGGCGAACCGGAACCACCCGATCCCATCTCGAACTCGGAAGTGAAACGGTTCAGCGCCGATGA-TAGTGTG--GGGCCTCCCCATGTGAAAGTAGGTCACTGCCAGGC\",\n",
    "\"-CAGGTGGTGATGGCGGAAAGGTCACACCCGAACACATCCCGAACTCGGAAGTTAAGCTTTCCAGCGCCGATG-GTAGTTGG--GGGTTTCCCCCTGCGAGAGTAGGACGTTGCCGGGC\",\n",
    "\"AACGGCGGTCATAGCGGTGGGGAAACGCCCGGTCCCATCCCGAACCCGGAAGCTAAGCCCACCAGCGCCGATG-GTACTGCACTC-GTGAGGGTGTGGGAGAGTAGGACGCCGCCGGAC\",\n",
    "\"GCTGGCGACCATAGCAAGAGTGAACCACCTGATCCCTTCCCGAACTCAGAAGTGAAACCTCTTCGCGCTGATG-GTAGTGNGG-GT--TA-CCCATGTGAGAGTAAGTCATCGCCAGCT\",\n",
    "\"GTCGGTGGTCATTGCGGAGGGGGAACGCCCGGTCCCATCCCGAACCCGGAAGCTAAGCCCTCCAGCGCCGATG-GTACTGCACTC-GCCAGGGTGTGGGAGAGTAGGTCGCCGCCGACA\"]\n",
    "\n",
    "dict = {} # an empty dictionary\n",
    "dict['A'] = 0\n",
    "dict['C'] = 0\n",
    "dict['G'] = 0\n",
    "dict['T'] = 0\n",
    "\n",
    "#i = 0\n",
    "for line in my_sequences:\n",
    "    # ...\n",
    "    \n",
    "    \n",
    "print(dict)"
   ]
  },
  {
   "cell_type": "code",
   "execution_count": null,
   "id": "b777a9ff",
   "metadata": {},
   "outputs": [],
   "source": []
  }
 ],
 "metadata": {
  "kernelspec": {
   "display_name": "Python 3 (ipykernel)",
   "language": "python",
   "name": "python3"
  },
  "language_info": {
   "codemirror_mode": {
    "name": "ipython",
    "version": 3
   },
   "file_extension": ".py",
   "mimetype": "text/x-python",
   "name": "python",
   "nbconvert_exporter": "python",
   "pygments_lexer": "ipython3",
   "version": "3.7.11"
  }
 },
 "nbformat": 4,
 "nbformat_minor": 5
}
