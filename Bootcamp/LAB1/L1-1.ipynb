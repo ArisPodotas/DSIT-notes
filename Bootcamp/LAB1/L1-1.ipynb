{
 "cells": [
  {
   "cell_type": "markdown",
   "metadata": {},
   "source": [
    "# Lesson 1: Python Basics - Part 1"
   ]
  },
  {
   "cell_type": "markdown",
   "metadata": {},
   "source": [
    "## Introduction to Python"
   ]
  },
  {
   "cell_type": "markdown",
   "metadata": {},
   "source": [
    "Python is a high-level, interpreted programming language known for its simplicity and versatility. It was created by Guido van Rossum and first released in 1991.\n",
    "\n",
    "### Python Versions\n",
    "- **Python 2**: The older version, officially sunset in 2020. Syntax differences, especially in `print` statements, division, etc.\n",
    "- **Python 3**: The current and actively maintained version. Introduced significant changes for better consistency and performance.\n",
    "\n",
    "### Why Python?\n",
    "- **Easy to Read and Write**: Python’s syntax is similar to English, making it easy for beginners to learn.\n",
    "- **Dynamic Typing**: Unlike statically typed languages (like C or Java), Python variables do not require explicit type declarations.\n",
    "- **Extensive Libraries**: A rich ecosystem of libraries (e.g., NumPy, pandas for data science; Django, Flask for web development).\n",
    "- **Cross-Platform**: Compatible with major operating systems (Windows, macOS, Linux).\n",
    "\n",
    "### The Python Ecosystem\n",
    "Python offers numerous libraries and frameworks:\n",
    "- **Web Development**: Django, Flask\n",
    "- **Data Science & Machine Learning**: NumPy, pandas, TensorFlow, scikit-learn\n",
    "- **Automation**: Selenium, PyAutoGUI\n",
    "\n",
    "Let's dive into Python programming by starting with variables and data types!\n",
    "            "
   ]
  },
  {
   "cell_type": "markdown",
   "metadata": {},
   "source": [
    "## Variables and Data Types"
   ]
  },
  {
   "cell_type": "markdown",
   "metadata": {
    "tags": []
   },
   "source": [
    "\n",
    "In Python, variables act as containers to store data. Python is **dynamically typed**, meaning you don't need to declare the type of a variable when assigning a value. The type is determined at runtime.\n",
    "\n",
    "### Data Types\n",
    "- **`int`**: Whole numbers (e.g., `42`, `-3`)\n",
    "- **`float`**: Decimal numbers (e.g., `3.14`, `-2.5`)\n",
    "- **`str`**: Text (e.g., `\"Hello, World!\"`)\n",
    "- **`bool`**: Boolean values (`True` or `False`)\n",
    "- **`NoneType`**: Represents the absence of a value (`None`)\n",
    "\n",
    "### Memory Management\n",
    "Python automatically handles memory allocation and garbage collection. This means that you don't need to manually manage memory (like in C or C++). Python's garbage collector frees up memory when objects are no longer in use.\n",
    "\n",
    "### Type Conversion\n",
    "Use functions like `int()`, `float()`, `str()`, and `bool()` to convert between types.\n",
    "            "
   ]
  },
  {
   "cell_type": "markdown",
   "metadata": {},
   "source": [
    "**This is a cell with plain text!!**"
   ]
  },
  {
   "cell_type": "code",
   "execution_count": 1,
   "metadata": {},
   "outputs": [
    {
     "name": "stdout",
     "output_type": "stream",
     "text": [
      "Hello world! This is my first code in Python!\n"
     ]
    }
   ],
   "source": [
    "print(\"Hello world! This is my first code in Python!\")"
   ]
  },
  {
   "cell_type": "code",
   "execution_count": 5,
   "metadata": {},
   "outputs": [
    {
     "name": "stdout",
     "output_type": "stream",
     "text": [
      "Data Types:\n",
      "Height: <class 'float'>\n",
      "Weight: <class 'int'>\n",
      "Name: <class 'str'>\n",
      "Is Student: <class 'bool'>\n",
      "Height as string: 1.75 Type: <class 'str'>\n",
      "5\n",
      "y after deleting x: 5\n"
     ]
    }
   ],
   "source": [
    "# Example: Working with Variables and Data Types\n",
    "# Assigning variables\n",
    "height = 1.75  # float\n",
    "weight = 68  # int\n",
    "name = \"Alice\"  # str\n",
    "is_student = True  # bool\n",
    "\n",
    "# Displaying types\n",
    "print(\"Data Types:\")\n",
    "print(\"Height:\", type(height))\n",
    "print(\"Weight:\", type(weight))\n",
    "print(\"Name:\", type(name))\n",
    "print(\"Is Student:\", type(is_student))\n",
    "\n",
    "# Type Conversion\n",
    "height_str = str(height)  # Convert float to string\n",
    "print(\"Height as string:\", height_str, \"Type:\", type(height_str))\n",
    "\n",
    "# Memory Management - automatic in Python\n",
    "x = 5\n",
    "y = x\n",
    "print(y)\n",
    "del x  # Memory is managed automatically, 'y' still holds the value\n",
    "print(\"y after deleting x:\", y)"
   ]
  },
  {
   "cell_type": "markdown",
   "metadata": {},
   "source": [
    "## Exercises: Variables and Data Types"
   ]
  },
  {
   "cell_type": "markdown",
   "metadata": {},
   "source": [
    "**A Python program that asks for the user's height and weight, calculates their BMI (weight/(height^2)), and displays the result**"
   ]
  },
  {
   "cell_type": "code",
   "execution_count": 10,
   "metadata": {},
   "outputs": [
    {
     "name": "stdin",
     "output_type": "stream",
     "text": [
      "Enter your height in meters:  1.78\n",
      "Enter your weight in kilograms:  69\n"
     ]
    },
    {
     "name": "stdout",
     "output_type": "stream",
     "text": [
      "Your BMI is: 21.777553339224845\n"
     ]
    }
   ],
   "source": [
    "height = float(input(\"Enter your height in meters: \"))\n",
    "weight = float(input(\"Enter your weight in kilograms: \"))\n",
    "bmi = weight / (height ** 2)\n",
    "print(f\"Your BMI is: {bmi}\")"
   ]
  },
  {
   "cell_type": "markdown",
   "metadata": {},
   "source": [
    "**Convert a float number into an integer and a string, and print each conversion with its type**"
   ]
  },
  {
   "cell_type": "code",
   "execution_count": 3,
   "metadata": {},
   "outputs": [
    {
     "name": "stdout",
     "output_type": "stream",
     "text": [
      "Integer: 7, Type: <class 'int'>\n",
      "String: '7.89', Type: <class 'str'>\n"
     ]
    }
   ],
   "source": [
    "number = 7.89\n",
    "number_int = int(number)  # Convert to integer\n",
    "number_str = str(number)  # Convert to string\n",
    "print(f\"Integer: {number_int}, Type: {type(number_int)}\")\n",
    "print(f\"String: '{number_str}', Type: {type(number_str)}\")"
   ]
  },
  {
   "cell_type": "code",
   "execution_count": null,
   "metadata": {},
   "outputs": [],
   "source": []
  }
 ],
 "metadata": {
  "kernelspec": {
   "display_name": "Python 3",
   "language": "python",
   "name": "python3"
  },
  "language_info": {
   "codemirror_mode": {
    "name": "ipython",
    "version": 3
   },
   "file_extension": ".py",
   "mimetype": "text/x-python",
   "name": "python",
   "nbconvert_exporter": "python",
   "pygments_lexer": "ipython3",
   "version": "3.8.5"
  }
 },
 "nbformat": 4,
 "nbformat_minor": 5
}
