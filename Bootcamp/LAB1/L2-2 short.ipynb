{
 "cells": [
  {
   "cell_type": "markdown",
   "id": "c317bb2c",
   "metadata": {},
   "source": [
    "# Lesson 2: Data Structures - Part 2"
   ]
  },
  {
   "cell_type": "markdown",
   "id": "486c501b",
   "metadata": {},
   "source": [
    "## Tuples"
   ]
  },
  {
   "cell_type": "markdown",
   "id": "7f37c9dc",
   "metadata": {},
   "source": [
    "A **tuple** is an ordered collection of elements, similar to a list, but unlike lists, tuples are **immutable**. This means that once a tuple is created, its elements cannot be modified, added, or removed.\n",
    "\n",
    "Tuples are also used when you want to **return multiple values** from a function!\n",
    "\n",
    "### Creating Tuples\n",
    "\n",
    "A **tuple** is an ordered, **non-changeable** collection of elements. Tuples can hold elements of different data types and are defined using parentheses:\n",
    "\n",
    "```python\n",
    "#create an empty tuple\n",
    "my_tuple = ()\n",
    "\n",
    "#create a tuple with initial values\n",
    "my_tuple = [1, 2, 3, 4, 5]\n",
    "\n",
    "#create a tuple with initial values of difference data types\n",
    "my_tuple = [1, \"Hello\", 3.14, True]\n",
    "\n",
    "#create a tuple from other objects, e.g, lists, tuples, range of numbers using the constructor tuple()\n",
    "my_tuple = tuple([1,2,3]) # ...from a list\n",
    "my_tuple = tuple((1,2,3)) # ...from a tuple\n",
    "my_tuple = tuple(range(10)) # ...from a range of numbers\n",
    "```\n",
    "\n",
    "### Immutability of Tuples\n",
    "Since tuples cannot be changed, they are often used to store collections of items that should not be altered throughout the program.\n",
    "\n",
    "### Tuple Unpacking\n",
    "Tuples can be \"unpacked\" into variables:\n",
    "\n",
    "```python\n",
    "person = (\"Alice\", 30, \"Engineer\")\n",
    "name, age, profession = person\n",
    "print(name)  # Outputs: Alice\n",
    "```\n",
    "            "
   ]
  },
  {
   "cell_type": "code",
   "execution_count": 1,
   "id": "dec0ee9f",
   "metadata": {},
   "outputs": [
    {
     "name": "stdout",
     "output_type": "stream",
     "text": [
      "X: 10, Y: 20\n"
     ]
    }
   ],
   "source": [
    "# Creating and unpacking a tuple\n",
    "# ...\n"
   ]
  },
  {
   "cell_type": "code",
   "execution_count": 2,
   "id": "00fd906d-05fd-4cb0-9a48-11752aa7d55c",
   "metadata": {},
   "outputs": [
    {
     "name": "stdout",
     "output_type": "stream",
     "text": [
      "Error: 'tuple' object does not support item assignment\n"
     ]
    }
   ],
   "source": [
    "# Example of immutability\n",
    "try:\n",
    "    # ...\n",
    "except TypeError as e:\n",
    "    # ..."
   ]
  },
  {
   "cell_type": "markdown",
   "id": "93aaea26",
   "metadata": {},
   "source": [
    "### Tuples vs Lists performance**"
   ]
  },
  {
   "cell_type": "code",
   "execution_count": 3,
   "id": "8e037d5c",
   "metadata": {},
   "outputs": [],
   "source": [
    "import time \n",
    "\n",
    "mylist = []\n",
    "x = range(100000)\n",
    "\n",
    "#timer: start\n",
    "# ...\n",
    "\n",
    "# fill a list with 100000 items: FOR LOOP\n",
    "# ...\n",
    "\n",
    "#timer: end\n",
    "# ...\n"
   ]
  },
  {
   "cell_type": "code",
   "execution_count": 7,
   "id": "f6ae72a5",
   "metadata": {},
   "outputs": [
    {
     "ename": "IndentationError",
     "evalue": "expected an indented block (1607978233.py, line 8)",
     "output_type": "error",
     "traceback": [
      "\u001b[0;36m  File \u001b[0;32m\"/var/folders/sw/cdcl54s554z6kqdcvxp87ych0000gn/T/ipykernel_61189/1607978233.py\"\u001b[0;36m, line \u001b[0;32m8\u001b[0m\n\u001b[0;31m    print(\"Tuple: \")\u001b[0m\n\u001b[0m        ^\u001b[0m\n\u001b[0;31mIndentationError\u001b[0m\u001b[0;31m:\u001b[0m expected an indented block\n"
     ]
    }
   ],
   "source": [
    "mytuple = ()\n",
    "x = range(100000)\n",
    "start = time.perf_counter()\n",
    "for item in x:\n",
    "    # ...\n",
    "    # ...\n",
    "    \n",
    "print(\"Tuple: \")\n",
    "print(time.perf_counter()-start)"
   ]
  },
  {
   "cell_type": "markdown",
   "id": "3f36088b",
   "metadata": {},
   "source": [
    "**Why iterations that involve tuples are slow?**\n",
    "* Since tuples are immutable (non-changeable), you are basically copying the contents of the tuple T to a new tuple object at EACH iteration! This is too slow!!!!\n",
    "* On the other hand, tuples may save you from hard debugging! Let's see what happens when two variables reference the same list object: you modify [1, 3, 5, 7], although you do not work directly with variable a!"
   ]
  },
  {
   "cell_type": "code",
   "execution_count": null,
   "id": "770db4e0",
   "metadata": {},
   "outputs": [],
   "source": [
    "a = [1, 3, 5, 7]\n",
    "print(a)\n",
    "\n",
    "b = a\n",
    "b[0] = 10\n",
    "print(a)"
   ]
  },
  {
   "cell_type": "markdown",
   "id": "120e72c4",
   "metadata": {},
   "source": [
    "## Exercises: Tuples"
   ]
  },
  {
   "cell_type": "markdown",
   "id": "3fd7d42b",
   "metadata": {},
   "source": [
    "**Swap two variables using a tuple**"
   ]
  },
  {
   "cell_type": "code",
   "execution_count": 9,
   "id": "b7687543",
   "metadata": {},
   "outputs": [
    {
     "name": "stdout",
     "output_type": "stream",
     "text": [
      "After swapping: a = 10, b = 5\n"
     ]
    }
   ],
   "source": [
    "a = 5\n",
    "b = 10\n",
    "# Swap using a tuple\n",
    "a, b = b, a\n",
    "print(f\"After swapping: a = {a}, b = {b}\")"
   ]
  },
  {
   "cell_type": "markdown",
   "id": "673ebe47",
   "metadata": {},
   "source": [
    "**Create a tuple that stores a person's name, age, and profession, then unpack it into individual variables**"
   ]
  },
  {
   "cell_type": "code",
   "execution_count": 10,
   "id": "16ec2dc9",
   "metadata": {},
   "outputs": [
    {
     "name": "stdout",
     "output_type": "stream",
     "text": [
      "Name: John, Age: 28, Profession: Doctor\n"
     ]
    }
   ],
   "source": [
    "person = (\"John\", 28, \"Doctor\")\n",
    "# ...\n"
   ]
  },
  {
   "cell_type": "markdown",
   "id": "8e385bfe",
   "metadata": {},
   "source": [
    "## Dictionaries"
   ]
  },
  {
   "cell_type": "markdown",
   "id": "1adac6c4",
   "metadata": {},
   "source": [
    "A **dictionary** is a collection of key-value pairs. Each key is associated with a specific value, and dictionaries allow for fast lookups.\n",
    "\n",
    "### Creating Dictionaries\n",
    "Dictionaries are created using curly braces `{}`:\n",
    "\n",
    "```python\n",
    "student_grades = {\"Alice\": 85, \"Bob\": 92, \"Charlie\": 78}\n",
    "```\n",
    "\n",
    "### Dictionary Methods\n",
    "- **`get(key)`**: Returns the value for the specified key.\n",
    "- **`update()`**: Updates the dictionary with elements from another dictionary or an iterable of key-value pairs.\n",
    "- **`keys()`**: Returns a list of all keys in the dictionary.\n",
    "- **`values()`**: Returns a list of all values in the dictionary.\n",
    "- **`items()`**: Returns a list of key-value pairs.\n",
    "\n",
    "### Iterating Over Dictionaries\n",
    "You can loop through a dictionary's keys, values, or both:\n",
    "\n",
    "```python\n",
    "for name, grade in student_grades.items():\n",
    "print(f\"{name}: {grade}\")\n",
    "```       "
   ]
  },
  {
   "cell_type": "code",
   "execution_count": 8,
   "id": "bc410699",
   "metadata": {},
   "outputs": [],
   "source": [
    "# Creating and using a dictionary\n",
    "phonebook = {\"Alice\": \"555-1234\", \"Bob\": \"555-5678\", \"Charlie\": \"555-8765\"}\n",
    "\n",
    "# ...\n",
    "\n"
   ]
  },
  {
   "cell_type": "code",
   "execution_count": null,
   "id": "ca9a975a-1073-4df8-afc1-c237f4d3dfad",
   "metadata": {},
   "outputs": [],
   "source": [
    "# Updating the dictionary\n",
    "\n",
    "# ...\n"
   ]
  },
  {
   "cell_type": "code",
   "execution_count": null,
   "id": "089a04eb-fa03-4037-ab1c-11b819508721",
   "metadata": {},
   "outputs": [],
   "source": [
    "# Iterating over the dictionary\n",
    "\n",
    "# ..."
   ]
  },
  {
   "cell_type": "markdown",
   "id": "d780fcd9",
   "metadata": {},
   "source": [
    "## Exercises: Dictionaries"
   ]
  },
  {
   "cell_type": "markdown",
   "id": "b5258718",
   "metadata": {},
   "source": [
    "**Create a dictionary to store student grades and write a program to calculate the class average**        "
   ]
  },
  {
   "cell_type": "code",
   "execution_count": 10,
   "id": "dde7501a",
   "metadata": {},
   "outputs": [],
   "source": [
    "student_grades = {\"Alice\": 88, \"Bob\": 92, \"Charlie\": 79, \"David\": 85}\n",
    "            \n",
    "# ..."
   ]
  },
  {
   "cell_type": "code",
   "execution_count": 9,
   "id": "56ca0cb8",
   "metadata": {},
   "outputs": [],
   "source": [
    "student_grades = {\"Alice\": 88, \"Bob\": 92, \"Charlie\": 79, \"David\": 85}\n",
    "            \n",
    "# ...\n"
   ]
  },
  {
   "cell_type": "markdown",
   "id": "7e550eae",
   "metadata": {},
   "source": [
    "**Create a simple phonebook program using a dictionary that allows adding, deleting, and looking up phone numbers**"
   ]
  },
  {
   "cell_type": "code",
   "execution_count": 11,
   "id": "1f317f9b",
   "metadata": {},
   "outputs": [],
   "source": [
    "phonebook = {}\n",
    "\n",
    "def add_contact(name, number):\n",
    "   phonebook[name] = number\n",
    "\n",
    "def delete_contact(name):\n",
    "   if name in phonebook:\n",
    "      del phonebook[name]\n",
    "\n",
    "def lookup_contact(name):\n",
    "   return phonebook.get(name, \"Not found\")"
   ]
  },
  {
   "cell_type": "code",
   "execution_count": 12,
   "id": "56faf988-e765-4755-8eb8-7e3105ca0174",
   "metadata": {},
   "outputs": [],
   "source": [
    "# Adding contacts\n",
    "# ...\n"
   ]
  },
  {
   "cell_type": "code",
   "execution_count": 13,
   "id": "5a217182-35ea-43ac-9bb1-50403e722004",
   "metadata": {},
   "outputs": [],
   "source": [
    "# Deleting a contact\n",
    "# ..."
   ]
  },
  {
   "cell_type": "code",
   "execution_count": 14,
   "id": "53300f6b-c58f-41b8-b890-3d73b48b80ab",
   "metadata": {},
   "outputs": [],
   "source": [
    "# Looking up a contact\n",
    "# ..."
   ]
  },
  {
   "cell_type": "markdown",
   "id": "b18c3d68",
   "metadata": {},
   "source": [
    "**Count bases in a DNA string**"
   ]
  },
  {
   "cell_type": "code",
   "execution_count": 13,
   "id": "f4ce29c1",
   "metadata": {},
   "outputs": [
    {
     "name": "stdout",
     "output_type": "stream",
     "text": [
      "3\n"
     ]
    }
   ],
   "source": [
    "def my_count(dna_string, base):\n",
    "    # ...\n"
   ]
  },
  {
   "cell_type": "code",
   "execution_count": null,
   "id": "5cba83d4",
   "metadata": {},
   "outputs": [],
   "source": []
  }
 ],
 "metadata": {
  "kernelspec": {
   "display_name": "Python 3 (ipykernel)",
   "language": "python",
   "name": "python3"
  },
  "language_info": {
   "codemirror_mode": {
    "name": "ipython",
    "version": 3
   },
   "file_extension": ".py",
   "mimetype": "text/x-python",
   "name": "python",
   "nbconvert_exporter": "python",
   "pygments_lexer": "ipython3",
   "version": "3.7.11"
  }
 },
 "nbformat": 4,
 "nbformat_minor": 5
}
