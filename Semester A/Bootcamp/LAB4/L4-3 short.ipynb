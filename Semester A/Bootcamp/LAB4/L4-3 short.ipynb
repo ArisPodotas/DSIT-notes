{
 "cells": [
  {
   "cell_type": "markdown",
   "metadata": {},
   "source": [
    "# Lesson 4: Pandas and dataframes - Part 3\n",
    "\n",
    "Read file 'transcript_table.txt'\n",
    "- transcript_name: composed of the gene name plus a numeric identifier\n",
    "- transcript_biotype: for example protein_coding, retained_intron, nonsense_mediated_decay\n",
    "- transcript_length: the length of the transcript (without considering introns an poly A tail)\n",
    "- utr5_length: the length of the 5’ UTR region (without considering introns)\n",
    "- cds_length: the length of the CDS region (without considering introns)\n",
    "- utr3_length: the length of the 3’ UTR region (without considering introns)\n",
    "- exon_count: the number of exons of the transcript\n",
    "- canonical_flag: a boolean indicating if the isoform is canonical (T: true, F: false)"
   ]
  },
  {
   "cell_type": "code",
   "execution_count": 1,
   "metadata": {},
   "outputs": [],
   "source": [
    "import pandas as pd"
   ]
  },
  {
   "cell_type": "markdown",
   "metadata": {},
   "source": [
    "Reading from 'transcript_table.txt'"
   ]
  },
  {
   "cell_type": "code",
   "execution_count": 2,
   "metadata": {},
   "outputs": [],
   "source": [
    "df=pd.read_csv('transcript_table.txt',sep=',')\n"
   ]
  },
  {
   "cell_type": "code",
   "execution_count": 3,
   "metadata": {},
   "outputs": [
    {
     "data": {
      "text/html": [
       "<div>\n",
       "<style scoped>\n",
       "    .dataframe tbody tr th:only-of-type {\n",
       "        vertical-align: middle;\n",
       "    }\n",
       "\n",
       "    .dataframe tbody tr th {\n",
       "        vertical-align: top;\n",
       "    }\n",
       "\n",
       "    .dataframe thead th {\n",
       "        text-align: right;\n",
       "    }\n",
       "</style>\n",
       "<table border=\"1\" class=\"dataframe\">\n",
       "  <thead>\n",
       "    <tr style=\"text-align: right;\">\n",
       "      <th></th>\n",
       "      <th>transcript_name</th>\n",
       "      <th>transcript_biotype</th>\n",
       "      <th>transcript_length</th>\n",
       "      <th>utr5_length</th>\n",
       "      <th>cds_length</th>\n",
       "      <th>utr3_length</th>\n",
       "      <th>exon_count</th>\n",
       "      <th>canonical_flag</th>\n",
       "    </tr>\n",
       "  </thead>\n",
       "  <tbody>\n",
       "    <tr>\n",
       "      <th>0</th>\n",
       "      <td>ARF5-001</td>\n",
       "      <td>protein_coding</td>\n",
       "      <td>1103</td>\n",
       "      <td>154</td>\n",
       "      <td>543</td>\n",
       "      <td>406</td>\n",
       "      <td>6</td>\n",
       "      <td>T</td>\n",
       "    </tr>\n",
       "    <tr>\n",
       "      <th>1</th>\n",
       "      <td>M6PR-001</td>\n",
       "      <td>protein_coding</td>\n",
       "      <td>2756</td>\n",
       "      <td>469</td>\n",
       "      <td>834</td>\n",
       "      <td>1453</td>\n",
       "      <td>7</td>\n",
       "      <td>T</td>\n",
       "    </tr>\n",
       "    <tr>\n",
       "      <th>2</th>\n",
       "      <td>ESRRA-002</td>\n",
       "      <td>protein_coding</td>\n",
       "      <td>2215</td>\n",
       "      <td>171</td>\n",
       "      <td>1272</td>\n",
       "      <td>772</td>\n",
       "      <td>7</td>\n",
       "      <td>F</td>\n",
       "    </tr>\n",
       "    <tr>\n",
       "      <th>3</th>\n",
       "      <td>FKBP4-001</td>\n",
       "      <td>protein_coding</td>\n",
       "      <td>3732</td>\n",
       "      <td>187</td>\n",
       "      <td>1380</td>\n",
       "      <td>2165</td>\n",
       "      <td>10</td>\n",
       "      <td>T</td>\n",
       "    </tr>\n",
       "    <tr>\n",
       "      <th>4</th>\n",
       "      <td>CYP26B1-001</td>\n",
       "      <td>protein_coding</td>\n",
       "      <td>4732</td>\n",
       "      <td>204</td>\n",
       "      <td>1539</td>\n",
       "      <td>2989</td>\n",
       "      <td>6</td>\n",
       "      <td>T</td>\n",
       "    </tr>\n",
       "  </tbody>\n",
       "</table>\n",
       "</div>"
      ],
      "text/plain": [
       "  transcript_name transcript_biotype  transcript_length  utr5_length  \\\n",
       "0        ARF5-001     protein_coding               1103          154   \n",
       "1        M6PR-001     protein_coding               2756          469   \n",
       "2       ESRRA-002     protein_coding               2215          171   \n",
       "3       FKBP4-001     protein_coding               3732          187   \n",
       "4     CYP26B1-001     protein_coding               4732          204   \n",
       "\n",
       "   cds_length  utr3_length  exon_count canonical_flag  \n",
       "0         543          406           6              T  \n",
       "1         834         1453           7              T  \n",
       "2        1272          772           7              F  \n",
       "3        1380         2165          10              T  \n",
       "4        1539         2989           6              T  "
      ]
     },
     "execution_count": 3,
     "metadata": {},
     "output_type": "execute_result"
    }
   ],
   "source": [
    "# call a head() just to remember how df looks like... \n",
    "df.head()"
   ]
  },
  {
   "cell_type": "markdown",
   "metadata": {},
   "source": [
    "- Initially let's calculate the number of transcripts for human genome and some statistics"
   ]
  },
  {
   "cell_type": "code",
   "execution_count": 4,
   "metadata": {},
   "outputs": [
    {
     "name": "stdout",
     "output_type": "stream",
     "text": [
      "Number of transcripts in human genome:  189914\n"
     ]
    }
   ],
   "source": [
    "# number of transcripts\n",
    "print(\"Number of transcripts in human genome: \", df.shape[0])"
   ]
  },
  {
   "cell_type": "code",
   "execution_count": 5,
   "metadata": {},
   "outputs": [
    {
     "name": "stdout",
     "output_type": "stream",
     "text": [
      "Statistics for transcript length\n",
      "\tMinimum transcript length observed:  8\n"
     ]
    }
   ],
   "source": [
    "# statistics\n",
    "print(\"Statistics for transcript length\")\n",
    "print(\"\\tMinimum transcript length observed: \", df.transcript_length.min())"
   ]
  },
  {
   "cell_type": "code",
   "execution_count": 6,
   "metadata": {},
   "outputs": [
    {
     "name": "stdout",
     "output_type": "stream",
     "text": [
      "\tMaximum transcript length observed:  109224\n"
     ]
    }
   ],
   "source": [
    "print(\"\\tMaximum transcript length observed: \", df.transcript_length.max())"
   ]
  },
  {
   "cell_type": "code",
   "execution_count": 7,
   "metadata": {},
   "outputs": [
    {
     "name": "stdout",
     "output_type": "stream",
     "text": [
      "\tMean transcript length observed:  1506.8365786619206\n"
     ]
    }
   ],
   "source": [
    "print(\"\\tMean transcript length observed: \", df.transcript_length.mean())"
   ]
  },
  {
   "cell_type": "code",
   "execution_count": 8,
   "metadata": {},
   "outputs": [
    {
     "name": "stdout",
     "output_type": "stream",
     "text": [
      "\tMedian transcript length observed:  797.0\n"
     ]
    }
   ],
   "source": [
    "print(\"\\tMedian transcript length observed: \", df.transcript_length.median())"
   ]
  },
  {
   "cell_type": "markdown",
   "metadata": {},
   "source": [
    "We can retrieve rows of a DataFrame that satisfy a condition, as if we were using the row in an 'if' statement. This is shown in the example below:\n",
    "\n",
    "e.g. Get the rows that have a transcript_length greater than 2433\n",
    "\n",
    "`df[  df.transcript_length>2433      ]`\n",
    "\n",
    "**NOTE: the condition in the square brackets is written as it would in an 'if' statement**\n"
   ]
  },
  {
   "cell_type": "code",
   "execution_count": null,
   "metadata": {},
   "outputs": [],
   "source": [
    "df[df.transcript_length > 2433]# ...\n",
    "\n"
   ]
  },
  {
   "cell_type": "markdown",
   "metadata": {},
   "source": [
    "- Calculating statistics of CDS length, excluding rows where CDS length is 0"
   ]
  },
  {
   "cell_type": "code",
   "execution_count": null,
   "metadata": {},
   "outputs": [],
   "source": [
    "print(\"Statistics for transcript length\")\n",
    "print(\"\\tMinimum CDS length: \", df.cds_length[df.cds_length!=0].min()) # != means NOT"
   ]
  },
  {
   "cell_type": "code",
   "execution_count": 9,
   "metadata": {},
   "outputs": [
    {
     "name": "stdout",
     "output_type": "stream",
     "text": [
      "\tMaximum CDS length:  107976\n"
     ]
    }
   ],
   "source": [
    "print(\"\\tMaximum CDS length: \", df.cds_length[df.cds_length!=0].max())\n"
   ]
  },
  {
   "cell_type": "code",
   "execution_count": 10,
   "metadata": {},
   "outputs": [
    {
     "name": "stdout",
     "output_type": "stream",
     "text": [
      "\tMean CDS length:  1120.8539358350656\n"
     ]
    }
   ],
   "source": [
    "print(\"\\tMean CDS length: \", df.cds_length[df.cds_length!=0].mean())"
   ]
  },
  {
   "cell_type": "code",
   "execution_count": 11,
   "metadata": {},
   "outputs": [
    {
     "name": "stdout",
     "output_type": "stream",
     "text": [
      "\tMedian CDS length:  678.0\n"
     ]
    }
   ],
   "source": [
    "print(\"\\tMedian CDS length: \", df.cds_length[df.cds_length!=0].median())"
   ]
  },
  {
   "cell_type": "code",
   "execution_count": null,
   "metadata": {},
   "outputs": [],
   "source": []
  },
  {
   "cell_type": "markdown",
   "metadata": {},
   "source": [
    "- Calculating the percentage of human transcripts with a CDS length that is a multiple of 3 in the total set of transcripts with non-zero length.\n",
    "- Recall that df.shape[0] gives the number of rows, and df.shape[1]) the number of columns in dataframe df"
   ]
  },
  {
   "cell_type": "code",
   "execution_count": null,
   "metadata": {},
   "outputs": [],
   "source": [
    "# Number of transcripts where CDS length is not equal to 0\n",
    "# Note: .shape[0] returns num of rows!!!\n",
    "cds_number = df.cds_length[df.cds_length>0].shape[0]"
   ]
  },
  {
   "cell_type": "code",
   "execution_count": null,
   "metadata": {},
   "outputs": [],
   "source": [
    "# Number of transcripts where CDS length is not equal to 0 and a multiple of 3\n",
    "\n",
    "# ...\n",
    "\n"
   ]
  },
  {
   "cell_type": "code",
   "execution_count": null,
   "metadata": {},
   "outputs": [],
   "source": [
    "print((cds_multiple_number/cds_number)*100, \"%\")"
   ]
  },
  {
   "cell_type": "markdown",
   "metadata": {},
   "source": [
    "- For each transcript_biotype, find the average transcript length"
   ]
  },
  {
   "cell_type": "code",
   "execution_count": 12,
   "metadata": {},
   "outputs": [
    {
     "name": "stdout",
     "output_type": "stream",
     "text": [
      "transcript_biotype\n",
      "3prime_overlapping_ncRNA              1841.700000\n",
      "IG_C_gene                             1122.176471\n",
      "IG_C_pseudogene                        555.111111\n",
      "IG_D_gene                               22.030303\n",
      "IG_J_gene                               66.555556\n",
      "IG_J_pseudogene                         55.000000\n",
      "IG_V_gene                              413.523077\n",
      "IG_V_pseudogene                        298.173410\n",
      "Mt_rRNA                               1256.500000\n",
      "Mt_tRNA                                 68.545455\n",
      "TEC                                   2242.108434\n",
      "TR_C_gene                             1196.200000\n",
      "TR_D_gene                               10.000000\n",
      "TR_J_gene                               58.915493\n",
      "TR_J_pseudogene                         59.250000\n",
      "TR_V_gene                              426.064516\n",
      "TR_V_pseudogene                        326.500000\n",
      "antisense                              915.031154\n",
      "bidirectional_promoter_lncRNA         1233.000000\n",
      "lincRNA                                956.528303\n",
      "miRNA                                   83.451989\n",
      "misc_RNA                               278.278351\n",
      "non_stop_decay                        1120.098765\n",
      "nonsense_mediated_decay               1533.668698\n",
      "polymorphic_pseudogene                1467.673913\n",
      "processed_pseudogene                   697.243413\n",
      "processed_transcript                   855.919923\n",
      "protein_coding                        2208.450488\n",
      "pseudogene                            1329.375000\n",
      "rRNA                                   113.195312\n",
      "retained_intron                       1249.230899\n",
      "ribozyme                               230.400000\n",
      "scRNA                                  200.000000\n",
      "scaRNA                                 177.687500\n",
      "sense_intronic                         835.539084\n",
      "sense_overlapping                     1253.020690\n",
      "snRNA                                  109.843940\n",
      "snoRNA                                 111.768675\n",
      "transcribed_processed_pseudogene       761.786385\n",
      "transcribed_unitary_pseudogene        1417.132075\n",
      "transcribed_unprocessed_pseudogene    1221.102564\n",
      "unitary_pseudogene                    1362.112676\n",
      "unprocessed_pseudogene                 829.379091\n",
      "vaultRNA                               127.000000\n",
      "Name: transcript_length, dtype: float64\n"
     ]
    }
   ],
   "source": [
    "#result = df.groupby('transcript_biotype').aggregate(pd.DataFrame.mean)['transcript_length']\n",
    "result = df.groupby('transcript_biotype')['transcript_length'].mean()\n",
    "print(result)"
   ]
  },
  {
   "cell_type": "code",
   "execution_count": null,
   "metadata": {},
   "outputs": [],
   "source": [
    "result.plot(kind='hist', bins=100)"
   ]
  },
  {
   "cell_type": "markdown",
   "metadata": {},
   "source": [
    "* But... check the type of result variable! It is a Series."
   ]
  },
  {
   "cell_type": "code",
   "execution_count": null,
   "metadata": {},
   "outputs": [],
   "source": [
    "type(result)"
   ]
  },
  {
   "cell_type": "code",
   "execution_count": null,
   "metadata": {},
   "outputs": [],
   "source": [
    "result.index"
   ]
  },
  {
   "cell_type": "markdown",
   "metadata": {},
   "source": [
    "* Better to convert the panda series to a dataframe with two columns: Transcr. Biotype, AVG Transcr. length"
   ]
  },
  {
   "cell_type": "code",
   "execution_count": null,
   "metadata": {},
   "outputs": [],
   "source": [
    "result = result.reset_index()\n",
    "# or, another way is result = df.groupby('transcript_biotype')[['transcript_length']].mean() which directly returns a dataframe\n",
    "\n",
    "\n",
    "result.columns = ['Transcr. Biotype', 'AVG Transcr. length']\n",
    "print(result)"
   ]
  },
  {
   "cell_type": "markdown",
   "metadata": {},
   "source": [
    "- For each transcript_biotype, find the average transcript length, in increasing order"
   ]
  },
  {
   "cell_type": "code",
   "execution_count": null,
   "metadata": {},
   "outputs": [],
   "source": [
    "result = result.sort_values('AVG Transcr. length')\n",
    "print(result)"
   ]
  },
  {
   "cell_type": "markdown",
   "metadata": {},
   "source": [
    "- For protein_coding transcripts, find the average length of the 5’UTR, CDS and 3’ UTR"
   ]
  },
  {
   "cell_type": "code",
   "execution_count": null,
   "metadata": {},
   "outputs": [],
   "source": [
    "filtered = df[df.transcript_biotype=='protein_coding']\n",
    "print(filtered)\n",
    "\n",
    "print(\"For transcript_biotype = 'protein_coding':\")\n",
    "print(\"\\tAverage length of UTR5: \", filtered.utr5_length.mean())\n",
    "print(\"\\tAverage length of UTR3: \", filtered.utr3_length.mean())\n",
    "print(\"\\tAverage length of CDS: \", filtered.cds_length.mean())"
   ]
  },
  {
   "cell_type": "code",
   "execution_count": null,
   "metadata": {},
   "outputs": [],
   "source": []
  },
  {
   "cell_type": "code",
   "execution_count": null,
   "metadata": {},
   "outputs": [],
   "source": []
  }
 ],
 "metadata": {
  "kernelspec": {
   "display_name": "Python 3 (ipykernel)",
   "language": "python",
   "name": "python3"
  },
  "language_info": {
   "codemirror_mode": {
    "name": "ipython",
    "version": 3
   },
   "file_extension": ".py",
   "mimetype": "text/x-python",
   "name": "python",
   "nbconvert_exporter": "python",
   "pygments_lexer": "ipython3",
   "version": "3.12.4"
  }
 },
 "nbformat": 4,
 "nbformat_minor": 4
}
