{
 "cells": [
  {
   "cell_type": "markdown",
   "id": "f49eed58",
   "metadata": {},
   "source": [
    "# Lesson 1: Python Basics - Part 2"
   ]
  },
  {
   "cell_type": "markdown",
   "id": "0ae8800e",
   "metadata": {},
   "source": [
    "## Basic Operators and Expressions"
   ]
  },
  {
   "cell_type": "markdown",
   "id": "0a5b7ff1",
   "metadata": {},
   "source": [
    "Python provides a range of operators for arithmetic, comparison, and logical operations.\n",
    "\n",
    "### 1. Arithmetic Operators\n",
    "- `+` : Addition\n",
    "- `-` : Subtraction\n",
    "- `*` : Multiplication\n",
    "- `/` : Division\n",
    "- `//` : Floor Division (returns the largest integer less than or equal to the division result)\n",
    "- `%` : Modulus (returns the remainder of a division)\n",
    "- `**` : Exponentiation\n",
    "\n",
    "### 2. Comparison Operators\n",
    "- `==` : Equal to\n",
    "- `!=` : Not equal to\n",
    "- `>` : Greater than\n",
    "- `<` : Less than\n",
    "- `>=` : Greater than or equal to\n",
    "- `<=` : Less than or equal to\n",
    "\n",
    "### 3. Logical Operators\n",
    "- `and` : True if both conditions are true\n",
    "- `or` : True if at least one condition is true\n",
    "- `not` : Inverts the Boolean value\n",
    "\n",
    "### Exercise: Write a program that takes two numbers from the user and performs all arithmetic operations.           "
   ]
  },
  {
   "cell_type": "code",
   "execution_count": 1,
   "id": "7bb38ca8",
   "metadata": {},
   "outputs": [
    {
     "name": "stdin",
     "output_type": "stream",
     "text": [
      "Enter the first number:  4\n",
      "Enter the second number:  6\n"
     ]
    },
    {
     "name": "stdout",
     "output_type": "stream",
     "text": [
      "Sum: 10.0\n",
      "Difference: -2.0\n",
      "Product: 24.0\n",
      "Division: 0.6666666666666666\n",
      "Floor Division: 0.0\n",
      "Exponentiation: 4096.0\n",
      "Are the numbers equal? False\n",
      "Is the first number greater? False\n",
      "Are both numbers positive? True\n"
     ]
    }
   ],
   "source": [
    "# Example: Arithmetic, Comparison, and Logical Operators\n",
    "num1 = float(input(\"Enter the first number: \"))\n",
    "num2 = float(input(\"Enter the second number: \"))\n",
    "print(num1*num2)\n",
    "\n",
    "# Arithmetic operations\n",
    "print(f\"Sum: {num1 + num2}\")\n",
    "print(f\"Difference: {num1 - num2}\")\n",
    "print(f\"Product: {num1 * num2}\")\n",
    "print(f\"Division: {num1 / num2}\")\n",
    "print(f\"Floor Division: {num1 // num2}\")\n",
    "print(f\"Exponentiation: {num1 ** num2}\")\n",
    "\n",
    "# Comparison\n",
    "is_equal = num1 == num2\n",
    "is_greater = num1 > num2\n",
    "print(f\"Are the numbers equal? {is_equal}\")\n",
    "print(f\"Is the first number greater? {is_greater}\")\n",
    "\n",
    "# Logical\n",
    "result = (num1 > 0 and num2 > 0)\n",
    "print(f\"Are both numbers positive? {result}\")\n"
   ]
  },
  {
   "cell_type": "markdown",
   "id": "2510b991",
   "metadata": {},
   "source": [
    "## Control Flow: If-Else and Nested Conditions"
   ]
  },
  {
   "cell_type": "markdown",
   "id": "b5b4124e",
   "metadata": {
    "tags": []
   },
   "source": [
    "**If Statements** allow you to control the flow of your program based on conditions. A block of code is executed if the condition is `True`.\n",
    "\n",
    "### Syntax\n",
    "```python\n",
    "if condition:\n",
    "   # Code block\n",
    "elif another_condition:\n",
    "   # Another code block\n",
    "else:\n",
    "   # Default code block\n",
    "```\n",
    "\n",
    "**Nested If Statements**: An if-else statement inside another if statement.\n",
    "\n",
    "### Exercise: Create a grading system program that calculates a student's final grade and prints \"Pass\" or \"Fail\".    "
   ]
  },
  {
   "cell_type": "code",
   "execution_count": 1,
   "id": "99dc68cd",
   "metadata": {},
   "outputs": [
    {
     "name": "stdin",
     "output_type": "stream",
     "text": [
      "Enter your grade:  59\n"
     ]
    },
    {
     "name": "stdout",
     "output_type": "stream",
     "text": [
      "Grade: F\n",
      "Fail\n"
     ]
    }
   ],
   "source": [
    "# Example: If-Else and Nested Conditions\n",
    "grade = float(input(\"Enter your grade: \"))\n",
    "\n",
    "if grade >= 90:\n",
    "    print(\"Grade: A\")\n",
    "elif grade >= 80:\n",
    "    print(\"Grade: B\")\n",
    "elif grade >= 70:\n",
    "    print(\"Grade: C\")\n",
    "elif grade >= 60:\n",
    "    print(\"Grade: D\")\n",
    "else:\n",
    "    print(\"Grade: F\")\n",
    "\n",
    "# Pass or Fail check\n",
    "if grade >= 60:\n",
    "    print(\"Pass\")\n",
    "else:\n",
    "    print(\"Fail\")\n"
   ]
  },
  {
   "cell_type": "markdown",
   "id": "2e4804e6",
   "metadata": {},
   "source": [
    "## Loops (For and While)"
   ]
  },
  {
   "cell_type": "markdown",
   "id": "48c6947e",
   "metadata": {},
   "source": [
    "**Loops** are used to execute a block of code repeatedly.\n",
    "\n",
    "### For Loops\n",
    "Used to iterate over a sequence (e.g., list, string, range).\n",
    "```python\n",
    "for i in range(1, 6):\n",
    "   print(i)\n",
    "```\n",
    "\n",
    "### While Loops\n",
    "Repeats as long as a condition is `True`.\n",
    "```python\n",
    "count = 1\n",
    "while count <= 5:\n",
    "   print(count)\n",
    "   count += 1\n",
    "```\n",
    "\n",
    "**Break and Continue**:  \n",
    "- `break`: Exits the loop.\n",
    "- `continue`: Skips the current iteration.\n",
    "\n",
    "### Exercise: Write a program that prints odd numbers up to a given number."
   ]
  },
  {
   "cell_type": "code",
   "execution_count": 9,
   "id": "e28f47a3",
   "metadata": {},
   "outputs": [
    {
     "name": "stdout",
     "output_type": "stream",
     "text": [
      "For Loop: 1\n",
      "For Loop: 2\n",
      "For Loop: 3\n",
      "For Loop: 4\n",
      "For Loop: 5\n",
      "While Loop: 1\n",
      "While Loop: 2\n",
      "While Loop: 3\n",
      "While Loop: 4\n",
      "While Loop: 5\n",
      "Loop with Break and Continue: 1\n",
      "Loop with Break and Continue: 3\n"
     ]
    }
   ],
   "source": [
    "# Example: For Loop, While Loop, Break, and Continue\n",
    "# For loop - print numbers 1 to 5\n",
    "for i in range(1, 6):\n",
    "    print(f\"For Loop: {i}\")\n",
    "\n",
    "# While loop - print numbers 1 to 5\n",
    "count = 1\n",
    "while count <= 5:\n",
    "    print(f\"While Loop: {count}\")\n",
    "    count += 1\n",
    "\n",
    "# Break and Continue\n",
    "for i in range(1, 10):\n",
    "    if i == 5:\n",
    "        break  # Exit the loop when i is 5\n",
    "    if i % 2 == 0:\n",
    "        continue  # Skip even numbers\n",
    "    print(f\"Loop with Break and Continue: {i}\")\n"
   ]
  },
  {
   "cell_type": "markdown",
   "id": "54b28a17",
   "metadata": {},
   "source": [
    "### Examples with control flow and loops"
   ]
  },
  {
   "cell_type": "code",
   "execution_count": 43,
   "id": "db7ec624",
   "metadata": {
    "tags": []
   },
   "outputs": [
    {
     "name": "stdout",
     "output_type": "stream",
     "text": [
      "We found a large peptide\n"
     ]
    }
   ],
   "source": [
    "mRNA_size = 120\n",
    "if (mRNA_size / 3) >= 60:\n",
    "    print('We found a protein')\n",
    "elif (mRNA_size / 3) < 30:\n",
    "    print('We found a small peptide')\n",
    "else:\n",
    "    print('We found a large peptide')"
   ]
  },
  {
   "cell_type": "code",
   "execution_count": 44,
   "id": "c32b1888",
   "metadata": {},
   "outputs": [
    {
     "name": "stdout",
     "output_type": "stream",
     "text": [
      "We found a protein\n",
      "We found a small peptide\n",
      "We found a protein\n",
      "We found a large peptide\n"
     ]
    }
   ],
   "source": [
    "list_of_mRNA_sizes = [240, 33, 600, 120]\n",
    "for idx in range(len(list_of_mRNA_sizes)): # i.e., for idx in range(4), i.e., in [0,1,2,3]\n",
    "    mRNA_size = list_of_mRNA_sizes[idx] # 1st time: ...[0], 2nd time: ...[1], ... 4th time: ...[3]\n",
    "    if mRNA_size / 3 >= 60:\n",
    "        print('We found a protein')\n",
    "    elif mRNA_size / 3 < 30:\n",
    "        print('We found a small peptide')\n",
    "    else:\n",
    "        print('We found a large peptide')"
   ]
  },
  {
   "cell_type": "code",
   "execution_count": 45,
   "id": "82afb645",
   "metadata": {},
   "outputs": [
    {
     "name": "stdout",
     "output_type": "stream",
     "text": [
      "We found a protein\n",
      "We found a small peptide\n",
      "We found a protein\n",
      "We found a large peptide\n"
     ]
    }
   ],
   "source": [
    "for mRNA_size in list_of_mRNA_sizes:\n",
    "\n",
    "    if mRNA_size / 3 >= 60:\n",
    "        print('We found a protein')\n",
    "    elif mRNA_size / 3 < 30:\n",
    "        print('We found a small peptide')\n",
    "    else:\n",
    "        print('We found a large peptide')"
   ]
  },
  {
   "cell_type": "code",
   "execution_count": 47,
   "id": "511b9a2b",
   "metadata": {},
   "outputs": [
    {
     "name": "stdout",
     "output_type": "stream",
     "text": [
      "counter: 1\n",
      "counter: 2\n",
      "counter: 3\n",
      "counter: 4\n",
      "counter: 5\n",
      "counter: 6\n",
      "counter: 7\n",
      "counter: 8\n",
      "counter: 9\n",
      "counter: 10\n"
     ]
    }
   ],
   "source": [
    "counter=1\n",
    "while(counter <= 10):\n",
    "    print('counter: ' + str(counter))\n",
    "    counter += 1 # i.e., counter = counter + 1. Be careful: \"counter\" should be aligned with \"print\"   \n",
    "    "
   ]
  },
  {
   "cell_type": "code",
   "execution_count": 48,
   "id": "f96e3eae",
   "metadata": {},
   "outputs": [
    {
     "name": "stdout",
     "output_type": "stream",
     "text": [
      "counter: 0\n",
      "counter: 1\n",
      "counter: 2\n",
      "counter: 3\n",
      "counter: 4\n",
      "counter: 6\n",
      "counter: 7\n",
      "counter: 8\n",
      "counter: 9\n"
     ]
    }
   ],
   "source": [
    "for count in range(10):\n",
    "    if count == 5:\n",
    "        continue # VERY BAD PROGRAMMING TACTIC, better avoid!\n",
    "    print('counter: ' + str(count))\n",
    "    count += 1"
   ]
  },
  {
   "cell_type": "code",
   "execution_count": 49,
   "id": "b1ed1b4c",
   "metadata": {},
   "outputs": [
    {
     "name": "stdout",
     "output_type": "stream",
     "text": [
      "counter: 0\n",
      "counter: 1\n",
      "counter: 2\n",
      "counter: 3\n",
      "counter: 4\n"
     ]
    }
   ],
   "source": [
    "for count in range(10):\n",
    "    if count == 5:\n",
    "        break  # VERY BAD PROGRAMMING TACTIC, better avoid!\n",
    "    print('counter: ' + str(count))\n",
    "    count += 1"
   ]
  },
  {
   "cell_type": "markdown",
   "id": "4182c870",
   "metadata": {},
   "source": [
    "## Functions (Introduction)"
   ]
  },
  {
   "cell_type": "markdown",
   "id": "5a712890",
   "metadata": {},
   "source": [
    "**Functions** are reusable blocks of code that perform a specific task. They help in organizing code and reducing redundancy.\n",
    "\n",
    "### Syntax\n",
    "```python\n",
    "def function_name(parameters):\n",
    "   # Code block\n",
    "   return result\n",
    "```\n",
    "\n",
    "**Parameters and Return Values**: Functions can take input parameters and return output values.\n",
    "\n",
    "**Scope of Variables**: Variables defined inside a function have local scope, whereas those defined outside have global scope.\n",
    "\n",
    "### Exercise: Write a function that takes a list of numbers as input and returns the average.          "
   ]
  },
  {
   "cell_type": "code",
   "execution_count": 7,
   "id": "cf693909",
   "metadata": {},
   "outputs": [
    {
     "name": "stdin",
     "output_type": "stream",
     "text": [
      "Enter numbers separated by spaces:  4 5 5 \n"
     ]
    },
    {
     "name": "stdout",
     "output_type": "stream",
     "text": [
      "The average is: 4.666666666666667\n"
     ]
    }
   ],
   "source": [
    "# Example: Defining and Using Functions\n",
    "# Function to calculate the average of a list of numbers\n",
    "def calculate_average(numbers):\n",
    "   total = sum(numbers)\n",
    "   count = len(numbers)\n",
    "   return total / count"
   ]
  },
  {
   "cell_type": "code",
   "execution_count": null,
   "id": "ece105ce-e9b5-4073-91d2-3a5b6188abe9",
   "metadata": {},
   "outputs": [],
   "source": [
    "# User input\n",
    "num_list = [float(num) for num in input(\"Enter numbers separated by spaces: \").split()]\n",
    "\n",
    "# ..."
   ]
  },
  {
   "cell_type": "markdown",
   "id": "234b4939",
   "metadata": {},
   "source": [
    "## Exercises: Basic Operators, Control Flow, Loops, and Functions"
   ]
  },
  {
   "cell_type": "markdown",
   "id": "1485a0e5",
   "metadata": {},
   "source": [
    "**Create a program that checks whether a given year is a leap year. Rule: if the year is divisible by 4, it's a leap year, except for end-of-century years, which must also be divisible by 400**"
   ]
  },
  {
   "cell_type": "code",
   "execution_count": 9,
   "id": "ed982a94",
   "metadata": {},
   "outputs": [
    {
     "name": "stdin",
     "output_type": "stream",
     "text": [
      "Enter a year:  2025\n"
     ]
    },
    {
     "name": "stdout",
     "output_type": "stream",
     "text": [
      "2025 is not a leap year.\n"
     ]
    }
   ],
   "source": [
    "# Leap Year Check\n",
    "\n",
    "year = int(input(\"Enter a year: \"))\n",
    "if # ...\n",
    "   print(f\"{year} is a leap year.\")\n",
    "else:\n",
    "   print(f\"{year} is not a leap year.\")"
   ]
  },
  {
   "cell_type": "markdown",
   "id": "5cd2e87d",
   "metadata": {},
   "source": [
    "**Implement a decision tree for age-based categorization (child, teenager, adult, senior)**"
   ]
  },
  {
   "cell_type": "code",
   "execution_count": 11,
   "id": "d81dce98",
   "metadata": {},
   "outputs": [
    {
     "name": "stdin",
     "output_type": "stream",
     "text": [
      "Enter your age:  64\n"
     ]
    },
    {
     "name": "stdout",
     "output_type": "stream",
     "text": [
      "Adult\n"
     ]
    }
   ],
   "source": [
    "# Age-based Categorization\n",
    "\n",
    "age = int(input(\"Enter your age: \"))\n",
    "if age < 13:\n",
    "   print(\"Child\")\n",
    "elif age < 18:\n",
    "   print(\"Teenager\")\n",
    "elif age < 65:\n",
    "   print(\"Adult\")\n",
    "else:\n",
    "   print(\"Senior\")"
   ]
  },
  {
   "cell_type": "markdown",
   "id": "d233708c",
   "metadata": {},
   "source": [
    "**Create a multiplication table generator using loops**"
   ]
  },
  {
   "cell_type": "code",
   "execution_count": 12,
   "id": "7b4a183e",
   "metadata": {},
   "outputs": [
    {
     "name": "stdin",
     "output_type": "stream",
     "text": [
      "Enter a number:  5\n"
     ]
    },
    {
     "name": "stdout",
     "output_type": "stream",
     "text": [
      "5 x 1 = 5\n",
      "5 x 2 = 10\n",
      "5 x 3 = 15\n",
      "5 x 4 = 20\n",
      "5 x 5 = 25\n",
      "5 x 6 = 30\n",
      "5 x 7 = 35\n",
      "5 x 8 = 40\n",
      "5 x 9 = 45\n",
      "5 x 10 = 50\n"
     ]
    }
   ],
   "source": [
    "# Multiplication Table Generator\n",
    "\n",
    "num = int(input(\"Enter a number: \"))\n",
    "# ...\n"
   ]
  },
  {
   "cell_type": "markdown",
   "id": "65845127",
   "metadata": {},
   "source": [
    "**Write a function that returns the factorial of a number**"
   ]
  },
  {
   "cell_type": "code",
   "execution_count": 13,
   "id": "d75c620e",
   "metadata": {},
   "outputs": [
    {
     "name": "stdin",
     "output_type": "stream",
     "text": [
      "Enter a number:  4\n"
     ]
    },
    {
     "name": "stdout",
     "output_type": "stream",
     "text": [
      "The factorial of 4 is 24\n"
     ]
    }
   ],
   "source": [
    "# Factorial Function\n",
    "\n",
    "def factorial(n):\n",
    "   result = 1\n",
    "   for i in range(1, n + 1):\n",
    "      # ...\n",
    "      \n",
    "   return result"
   ]
  },
  {
   "cell_type": "code",
   "execution_count": null,
   "id": "c1261932-1f42-4ed3-b7cb-fd4fe9848e2a",
   "metadata": {},
   "outputs": [],
   "source": [
    "num = int(input(\"Enter a number: \"))\n",
    "print(f\"The factorial of {num} is {factorial(num)}\")"
   ]
  },
  {
   "cell_type": "code",
   "execution_count": null,
   "id": "088e0196",
   "metadata": {},
   "outputs": [],
   "source": []
  }
 ],
 "metadata": {
  "kernelspec": {
   "display_name": "Python 3 (ipykernel)",
   "language": "python",
   "name": "python3"
  },
  "language_info": {
   "codemirror_mode": {
    "name": "ipython",
    "version": 3
   },
   "file_extension": ".py",
   "mimetype": "text/x-python",
   "name": "python",
   "nbconvert_exporter": "python",
   "pygments_lexer": "ipython3",
   "version": "3.7.11"
  }
 },
 "nbformat": 4,
 "nbformat_minor": 5
}
