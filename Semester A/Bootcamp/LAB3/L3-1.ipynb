{
 "cells": [
  {
   "cell_type": "markdown",
   "metadata": {},
   "source": [
    "# Lesson 3: File Handling - Part 1"
   ]
  },
  {
   "cell_type": "markdown",
   "metadata": {},
   "source": [
    "## File I/O Operations"
   ]
  },
  {
   "cell_type": "markdown",
   "metadata": {},
   "source": [
    "\n",
    "Python provides built-in functions for reading from and writing to files. Files can be opened in different modes:\n",
    "- **`r`**: Read mode (default).\n",
    "- **`w`**: Write mode (overwrites the file if it exists, creates a new file if it doesn't).\n",
    "- **`a`**: Append mode (writes to the end of the file).\n",
    "- **`b`**: Binary mode (e.g., `rb`, `wb` for reading and writing binary files).\n",
    "- **`+`**: Update mode (e.g., `r+` for reading and writing).\n",
    "\n",
    "### Opening, Reading, Writing, and Closing Files\n",
    "- Use the `open()` function to open a file.\n",
    "- Use `read()`, `readline()`, or `readlines()` to read from a file.\n",
    "- Use `write()` or `writelines()` to write to a file.\n",
    "- Always close the file using `close()` to free up system resources.\n",
    "\n",
    "**Example**:\n",
    "\n",
    "```python\n",
    "file = open('example.txt', 'w')\n",
    "file.write('Hello, world!')\n",
    "file.close()\n",
    "```\n",
    "            "
   ]
  },
  {
   "cell_type": "code",
   "execution_count": 1,
   "metadata": {},
   "outputs": [],
   "source": [
    "# Writing to a file\n",
    "file = open('sample.txt', 'w')\n",
    "file.write('This is a sample text file.')\n",
    "file.close()"
   ]
  },
  {
   "cell_type": "code",
   "execution_count": 2,
   "metadata": {},
   "outputs": [
    {
     "name": "stdout",
     "output_type": "stream",
     "text": [
      "File content: This is a sample text file.\n"
     ]
    }
   ],
   "source": [
    "# Reading from a file\n",
    "\n",
    "#### START\n",
    "\n",
    "# the file variable contains the file handler that \n",
    "# the open() function returns\n",
    "file = open('sample.txt', 'r')\n",
    "content = file.read()\n",
    "print(\"File content:\", content)\n",
    "file.close()"
   ]
  },
  {
   "cell_type": "code",
   "execution_count": 3,
   "metadata": {},
   "outputs": [],
   "source": [
    "# Appending to a file\n",
    "\n",
    "#### START\n",
    "\n",
    "file = open('sample.txt', 'a')\n",
    "file.write('\\nAppending a new line.')\n",
    "file.close()"
   ]
  },
  {
   "cell_type": "code",
   "execution_count": 4,
   "metadata": {},
   "outputs": [
    {
     "name": "stdout",
     "output_type": "stream",
     "text": [
      "Updated file content: This is a sample text file.\n",
      "Appending a new line.\n"
     ]
    }
   ],
   "source": [
    "# Reading the updated file\n",
    "file = open('sample.txt', 'r')\n",
    "updated_content = file.read()\n",
    "print(\"Updated file content:\", updated_content)\n",
    "file.close()"
   ]
  },
  {
   "cell_type": "markdown",
   "metadata": {},
   "source": [
    "## Using the `with` Statement for Efficient File Handling"
   ]
  },
  {
   "cell_type": "markdown",
   "metadata": {},
   "source": [
    "\n",
    "The `with` statement provides a way to automatically close the file when you are done with it, even if an error occurs during file operations.\n",
    "\n",
    "**Example**:\n",
    "```python\n",
    "with open('example.txt', 'r') as file:\n",
    "   content = file.read()\n",
    "   print(content)\n",
    "```\n",
    "- You don't need to call `file.close()` when using the `with` statement; it is handled automatically.\n",
    "            "
   ]
  },
  {
   "cell_type": "code",
   "execution_count": 5,
   "metadata": {},
   "outputs": [
    {
     "name": "stdout",
     "output_type": "stream",
     "text": [
      "Reading using with statement: This is a sample text file.\n",
      "Appending a new line.\n"
     ]
    }
   ],
   "source": [
    "# Using the with statement for file operations\n",
    "with open('sample.txt', 'r') as file:\n",
    "    \n",
    "    #### START\n",
    "    \n",
    "    content = file.read()\n",
    "    print(\"Reading using with statement:\", content)"
   ]
  },
  {
   "cell_type": "code",
   "execution_count": 6,
   "metadata": {},
   "outputs": [],
   "source": [
    "# Writing with the with statement\n",
    "with open('sample.txt', 'w') as file:\n",
    "    \n",
    "    #### START\n",
    "    \n",
    "    file.write('Overwriting content using the with statement.')"
   ]
  },
  {
   "cell_type": "markdown",
   "metadata": {},
   "source": [
    "## Handling Large Files Efficiently"
   ]
  },
  {
   "cell_type": "markdown",
   "metadata": {},
   "source": [
    "\n",
    "When dealing with large files, it's important to avoid loading the entire file into memory at once. Instead, read the file line-by-line or in chunks.\n",
    "\n",
    "### Reading Files Line-by-Line\n",
    "Use a `for` loop to iterate through the file's lines:\n",
    "\n",
    "```python\n",
    "with open('large_file.txt', 'r') as file:\n",
    "   for line in file:\n",
    "      print(line.strip())\n",
    "```\n",
    "\n",
    "### Reading in Chunks\n",
    "Read a specific number of bytes at a time using `read(size)`:\n",
    "\n",
    "```python\n",
    "with open('large_file.txt', 'r') as file:\n",
    "   chunk = file.read(1024)  # Read 1024 bytes\n",
    "   while chunk:\n",
    "      print(chunk)\n",
    "      chunk = file.read(1024)\n",
    "```\n",
    "            "
   ]
  },
  {
   "cell_type": "code",
   "execution_count": 7,
   "metadata": {},
   "outputs": [
    {
     "name": "stdout",
     "output_type": "stream",
     "text": [
      "Line: Overwriting content using the with statement.\n"
     ]
    }
   ],
   "source": [
    "# Simulating reading a large file line-by-line\n",
    "with open('sample.txt', 'r') as file:\n",
    "    \n",
    "    #### START\n",
    "    \n",
    "    for line in file:\n",
    "        print(\"Line:\", line) #.strip())"
   ]
  },
  {
   "cell_type": "code",
   "execution_count": 8,
   "metadata": {},
   "outputs": [
    {
     "name": "stdout",
     "output_type": "stream",
     "text": [
      "Chunk: Overwritin\n",
      "Chunk: g content \n",
      "Chunk: using the \n",
      "Chunk: with state\n",
      "Chunk: ment.\n"
     ]
    }
   ],
   "source": [
    "# Simulating reading a large file in chunks\n",
    "with open('sample.txt', 'r') as file:\n",
    "    chunk = file.read(10)  # Read 10 bytes at a time\n",
    "    while chunk:\n",
    "        print(\"Chunk:\", chunk)\n",
    "        chunk = file.read(10)"
   ]
  },
  {
   "cell_type": "markdown",
   "metadata": {},
   "source": [
    "## Exercises: File I/O Operations"
   ]
  },
  {
   "cell_type": "markdown",
   "metadata": {},
   "source": [
    "**Create a program that writes the numbers 1 to 10 to a file, each number on a new line**"
   ]
  },
  {
   "cell_type": "code",
   "execution_count": 9,
   "metadata": {},
   "outputs": [],
   "source": [
    "with open('numbers.txt', 'w') as file:\n",
    "    \n",
    "   #### START \n",
    "    \n",
    "   for i in range(1, 11):\n",
    "      file.write(f\"{i}\\n\")"
   ]
  },
  {
   "cell_type": "markdown",
   "metadata": {},
   "source": [
    "**Modify the above program to append numbers 11 to 20 to the same file using the `with` statement**"
   ]
  },
  {
   "cell_type": "code",
   "execution_count": 10,
   "metadata": {},
   "outputs": [],
   "source": [
    "#### START\n",
    "\n",
    "with open('numbers.txt', 'a') as file:\n",
    "   for i in range(11, 21):\n",
    "      file.write(f\"{i}\\n\")"
   ]
  },
  {
   "cell_type": "markdown",
   "metadata": {},
   "source": [
    "**Write a program that reads the contents of the file named `numbers.txt` line-by-line and prints each line**"
   ]
  },
  {
   "cell_type": "code",
   "execution_count": 13,
   "metadata": {},
   "outputs": [
    {
     "name": "stdout",
     "output_type": "stream",
     "text": [
      "1\n",
      "2\n",
      "3\n",
      "4\n",
      "5\n",
      "6\n",
      "7\n",
      "8\n",
      "9\n",
      "10\n",
      "11\n",
      "12\n",
      "13\n",
      "14\n",
      "15\n",
      "16\n",
      "17\n",
      "18\n",
      "19\n",
      "20\n"
     ]
    }
   ],
   "source": [
    "with open('numbers.txt', 'r') as file:\n",
    "   for line in file:\n",
    "      print(line.strip())"
   ]
  },
  {
   "cell_type": "markdown",
   "metadata": {},
   "source": [
    "**Calculate frequency of occurence per base for a list of strings from the file testdna2.txt using dictionaries**"
   ]
  },
  {
   "cell_type": "code",
   "execution_count": 14,
   "metadata": {},
   "outputs": [
    {
     "name": "stdout",
     "output_type": "stream",
     "text": [
      "{'A': 124, 'C': 170, 'G': 188, 'T': 96}\n"
     ]
    }
   ],
   "source": [
    "#### START\n",
    "\n",
    "def my_count(dna_string, base):\n",
    "    count_bases = 0 # counter\n",
    "    for character in dna_string: # it iterates on every single character of the dna variable (string)\n",
    "        if character == base:\n",
    "            count_bases += 1 # i.e., count_bases = count_bases + 1\n",
    "    return count_bases\n",
    "\n",
    "my_file = open(\"testdna2.txt\")\n",
    "\n",
    "dict = {} # an empty dictionary\n",
    "dict['A'] = 0\n",
    "dict['C'] = 0\n",
    "dict['G'] = 0\n",
    "dict['T'] = 0\n",
    "\n",
    "#for line in my_sequences:\n",
    "for line in my_file:\n",
    "    count_A = my_count(line, 'A')\n",
    "    count_C = my_count(line, 'C')\n",
    "    count_G = my_count(line, 'G')\n",
    "    count_T = my_count(line, 'T')\n",
    "        \n",
    "    dict['A'] = dict['A'] + count_A\n",
    "    dict['C'] = dict['C'] + count_C\n",
    "    dict['G'] = dict['G'] + count_G\n",
    "    dict['T'] = dict['T'] + count_T\n",
    "    \n",
    "print(dict)"
   ]
  },
  {
   "cell_type": "markdown",
   "metadata": {},
   "source": [
    "**Make a plot with the results!**"
   ]
  },
  {
   "cell_type": "code",
   "execution_count": 20,
   "metadata": {},
   "outputs": [
    {
     "data": {
      "image/png": "[encoded data removed]",
      "text/plain": [
       "<Figure size 576x360 with 1 Axes>"
      ]
     },
     "metadata": {
      "needs_background": "light"
     },
     "output_type": "display_data"
    }
   ],
   "source": [
    "import matplotlib.pyplot as plt\n",
    "\n",
    "# Extract keys and values\n",
    "keys = list(dict.keys())\n",
    "values = list(dict.values())\n",
    "\n",
    "# Plotting\n",
    "\n",
    "#### START\n",
    "\n",
    "plt.figure(figsize=(8, 5))\n",
    "plt.bar(keys, values, width=0.4)\n",
    "#plt.plot(keys, values)\n",
    "#plt.scatter(keys, values)\n",
    "\n",
    "# Adding labels and title\n",
    "plt.xlabel('Keys')\n",
    "plt.ylabel('Values')\n",
    "plt.title('Dictionary Plot')\n",
    "\n",
    "# Display the plot\n",
    "plt.show()\n"
   ]
  },
  {
   "cell_type": "markdown",
   "metadata": {},
   "source": [
    "**Calculate (A+T) / (C+G) ratio per sequence after loading multiple sequences from a file**"
   ]
  },
  {
   "cell_type": "markdown",
   "metadata": {},
   "source": [
    "* The purpose of this notebook is to allow you to become familiar with the concepts of file parsing, loading file contents into convenient data structures and performing operations on loaded data in a convenient way.\n",
    "* This notebook can also serve as a useful guide with hints useful for solving the PWM exercise."
   ]
  },
  {
   "cell_type": "code",
   "execution_count": 22,
   "metadata": {},
   "outputs": [
    {
     "name": "stdout",
     "output_type": "stream",
     "text": [
      "[['A', 'G', 'A', 'T', 'A', 'G'], ['A', 'G', 'A', 'T', 'A', 'G'], ['A', 'G', 'A', 'T', 'A', 'G'], ['A', 'G', 'A', 'T', 'A', 'G'], ['C', 'G', 'A', 'T', 'A', 'G'], ['A', 'G', 'A', 'T', 'A', 'C'], ['A', 'G', 'A', 'T', 'A', 'A'], ['G', 'G', 'A', 'T', 'A', 'C'], ['C', 'G', 'A', 'T', 'T', 'G'], ['C', 'G', 'A', 'T', 'T', 'G'], ['A', 'G', 'A', 'T', 'A', 'G'], ['A', 'G', 'A', 'G', 'A', 'G'], ['C', 'G', 'A', 'T', 'A', 'C'], ['A', 'G', 'A', 'T', 'T', 'G'], ['C', 'G', 'A', 'T', 'A', 'G'], ['A', 'G', 'A', 'T', 'A', 'C'], ['A', 'G', 'A', 'T', 'A', 'A'], ['G', 'G', 'A', 'T', 'A', 'C'], ['C', 'G', 'A', 'T', 'T', 'G'], ['C', 'G', 'A', 'T', 'T', 'G']]\n"
     ]
    }
   ],
   "source": [
    "sequences_file = 'gata3.txt'\n",
    "\n",
    "sequences_as_list_of_lists = list() # initiate an empty list to hold the information that we will load from the file\n",
    "seq_file_fh = open(sequences_file, 'r') # open a connection to the file and attach it to a file handle\n",
    "for line in seq_file_fh: # use the file handle as a proxy to loop through the lines of the file one-by-one\n",
    "    line = line.rstrip('\\n') # remove the newline character from the end of the string\n",
    "    #print(line)\n",
    "    \n",
    "    line_as_list = list(line.upper())\n",
    "    #print(line_as_list)\n",
    "    \n",
    "    sequences_as_list_of_lists.append(line_as_list)\n",
    "    #print(sequences_as_list_of_lists)\n",
    "    #print()\n",
    "seq_file_fh.close() # detach the file handle from the file and close the connection to the file\n",
    "\n",
    "print(sequences_as_list_of_lists)"
   ]
  },
  {
   "cell_type": "markdown",
   "metadata": {},
   "source": [
    "* The cell above essentially creates a 2-dimentional array/matrix\n",
    "* What if our objective is to go through the elements of such an array one-by-one, and perform some calculations? How can we do it?\n",
    "* For example, how can we calculate the (A+T)/(G+C) ratio for each row in this 2-D array?"
   ]
  },
  {
   "cell_type": "code",
   "execution_count": 23,
   "metadata": {},
   "outputs": [
    {
     "name": "stdout",
     "output_type": "stream",
     "text": [
      "Row 0: A+T=4 | G+C=2 | Ratio=2.000000\n",
      "Row 1: A+T=4 | G+C=2 | Ratio=2.000000\n",
      "Row 2: A+T=4 | G+C=2 | Ratio=2.000000\n",
      "Row 3: A+T=4 | G+C=2 | Ratio=2.000000\n",
      "Row 4: A+T=3 | G+C=3 | Ratio=1.000000\n",
      "Row 5: A+T=4 | G+C=2 | Ratio=2.000000\n",
      "Row 6: A+T=5 | G+C=1 | Ratio=5.000000\n",
      "Row 7: A+T=3 | G+C=3 | Ratio=1.000000\n",
      "Row 8: A+T=3 | G+C=3 | Ratio=1.000000\n",
      "Row 9: A+T=3 | G+C=3 | Ratio=1.000000\n",
      "Row 10: A+T=4 | G+C=2 | Ratio=2.000000\n",
      "Row 11: A+T=3 | G+C=3 | Ratio=1.000000\n",
      "Row 12: A+T=3 | G+C=3 | Ratio=1.000000\n",
      "Row 13: A+T=4 | G+C=2 | Ratio=2.000000\n",
      "Row 14: A+T=3 | G+C=3 | Ratio=1.000000\n",
      "Row 15: A+T=4 | G+C=2 | Ratio=2.000000\n",
      "Row 16: A+T=5 | G+C=1 | Ratio=5.000000\n",
      "Row 17: A+T=3 | G+C=3 | Ratio=1.000000\n",
      "Row 18: A+T=3 | G+C=3 | Ratio=1.000000\n",
      "Row 19: A+T=3 | G+C=3 | Ratio=1.000000\n"
     ]
    }
   ],
   "source": [
    "for row_idx in range(len(sequences_as_list_of_lists)): # Loop through each element of the list (each element is another list)\n",
    "    #print(sequences_as_list_of_lists[row_idx])\n",
    "    \n",
    "    # initialize 2 variables that will hold the AT and GC counts\n",
    "    a_and_t = 0\n",
    "    g_and_c = 0\n",
    "    \n",
    "    for col_idx in range(len(sequences_as_list_of_lists[row_idx])): # Loop through each element of the nested list\n",
    "        #print(sequences_as_list_of_lists[row_idx][col_idx])\n",
    "        \n",
    "        if sequences_as_list_of_lists[row_idx][col_idx] == 'A': # check if the element is equal to 'A'\n",
    "            a_and_t += 1\n",
    "        elif sequences_as_list_of_lists[row_idx][col_idx] == 'T': # check if the element is equal to 'T'\n",
    "            a_and_t += 1\n",
    "        elif sequences_as_list_of_lists[row_idx][col_idx] == 'G': # check if the element is equal to 'G'\n",
    "            g_and_c += 1\n",
    "        else: # if all 3 conditions above are false then we expect 'C'\n",
    "            g_and_c += 1\n",
    "        \n",
    "        # Are these if-elif-else conditions safe enough?\n",
    "    \n",
    "    #print('Row ' + str(row_idx) + ': A+T=' + str(a_and_t) + ' | G+C=' + str(g_and_c) + ' | Ratio=' + str(a_and_t/g_and_c))\n",
    "    #g_and_c = 0\n",
    "    if g_and_c == 0:\n",
    "        print('ERROR: denominator is 0')\n",
    "    else:\n",
    "        print('Row %d: A+T=%d | G+C=%d | Ratio=%f' % (row_idx, a_and_t, g_and_c, (a_and_t/g_and_c)))\n",
    "    # How can we use print in a prettier form?\n",
    "    \n",
    "    # Is the calculation of the ratio safe enough?"
   ]
  },
  {
   "cell_type": "code",
   "execution_count": null,
   "metadata": {},
   "outputs": [],
   "source": []
  }
 ],
 "metadata": {
  "kernelspec": {
   "display_name": "Python 3",
   "language": "python",
   "name": "python3"
  },
  "language_info": {
   "codemirror_mode": {
    "name": "ipython",
    "version": 3
   },
   "file_extension": ".py",
   "mimetype": "text/x-python",
   "name": "python",
   "nbconvert_exporter": "python",
   "pygments_lexer": "ipython3",
   "version": "3.8.5"
  }
 },
 "nbformat": 4,
 "nbformat_minor": 5
}
