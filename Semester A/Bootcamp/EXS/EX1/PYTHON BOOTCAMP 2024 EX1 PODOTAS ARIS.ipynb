{
 "cells": [
  {
   "cell_type": "markdown",
   "id": "392c1b9c-7af5-43df-bd27-3897292e9769",
   "metadata": {},
   "source": [
    "# EX1\n",
    "\n",
    "* Notes are inline within the <u>python</u> code as well as after a block of code in <u>markdown</u>\n",
    "\n",
    "## Part 1"
   ]
  },
  {
   "cell_type": "code",
   "execution_count": 1,
   "id": "4aac52c9-d836-45d9-a11b-0e75e399dd02",
   "metadata": {},
   "outputs": [],
   "source": [
    "# Author: Aris Podotas\n",
    "# For DSIT, Bioinformatics - Biomedical data\n",
    "# Date: 01-10-2024\n",
    "# Tabs: spaces, 4\n",
    "\n",
    "# Write a Python script to perform the following tasks on the strings:\n",
    "\n",
    "# ●\tCalculate the base occurrence frequency, per string. The strings contain bases (\"A\", \"G\", \"T\", \"C\"), but also contain errors (e.g., \"-\", \"N\"). An example of the output should be like (note that these are not the results!): \n",
    "\n",
    "# TOTAL BASES FOR STRING 1: 100, ERRORS: 5, \"A\": 45, \"G\": 25, \"T\": 15, \"C\": 10. TOTAL BASES FOR STRING 2: 100, ERRORS: 5, \"A\": 35, \"G\": 35, \"T\": 10, \"C\": 15. \n",
    "\n",
    "# String1 (it is one long string!)\n",
    "seq1 = '-CAGGTGGTGATGGCGGAAAGGTCACACCCGAACACATCCCGAACTCGGAAGTTAAGCTTTCCAGCGCCGATG-GTAGTTGG--GGGTTTCCCCCTGCGAGAGTAGGACGTTGCCGGGCAACGGCGGTCATAGCGGTGGGGAAACGCCCGGTCCCATCCCGAACCCGGAAGCTAAGCCCACCAGCGCCGATG-GTACTGCACTC-GTGAGGGTGTGGGAGAGTAGGACGCCGCCGGACGCTGGCGACCATAGCAAGAGTGAACCACCTGATCCCTTCCCGAACTCAGAAGTGAAACCTCTTCGCGCTGATG-GTAGTGNGG-GT-GTA-CCCATGTGA-AGTAAGTCATCGCCAGCTGTCGGTGGTCATTGCGGAGGGGGAACGCCCGGTCCCATCCCGAACCCGGAAGCTAAGCCCTCCAGCGCCGATG-GTACTGCACTC-GCCAGGGTGTGGGAGAGTAGGTCGCCGCCGACA'\n",
    "\n",
    "# String2 (it is another one long string!)\n",
    "seq2 = '--CAGGTGTGATGGCGGAAAGGTCACACCCGAACACATCCCGAACTCGGAAGTTAAGCTTTCCAGCGCCGATG-GTAGTTGG--GGGTTTCCCCCTGCGAGAGTAGGACGTTGCCGGGCAACGGCGGTCATAGCGGTGGGGAAACGCCCGGTCCCATCCCGAACCCGGAAGCTAAGCCCACCAGCGCCGATG-GTACTGCACTC-GTGAGGGTGTGGGAGAGTAGGACGCCGCCGGACGC-TGGCGACCATAGCAAGAGTGAACCACCTGATCCCTCCCGAACTCAGAAGTGAAACCTCTTCGCGCTGATG-GTAGTGNGG-GT--TA-CCCATGTGAGAGTAAGTCATCGCCAGCTGTCGGTGGTCATTGCGGAGGGGGAACGCCCGGTCCCATCCCGAACCCGGAAGCTAAGCCCTCCAGCGCCGATG-GTACTGCACTC-GCCAGGGTGTGGGAGAGTAGGTCGCCGCCGACA'\n",
    "\n",
    "# START OF SOLUTION\n",
    "def count_contents(seq) -> dict:\n",
    "    \"\"\"Returns a list of the count of each nucleotide in the sequence in order of [A, T, G, C].\"\"\"\n",
    "    # Initiate a data structure\n",
    "    counts = {\"A\": 0, \"T\": 0, \"G\": 0, \"C\": 0, \"-\": 0, \"N\": 0}\n",
    "    # Iterates nucleotides of the sequence\n",
    "    for nuc in seq:\n",
    "        # Iterates over the data structure\n",
    "        for ref in counts:\n",
    "            # Compares the sequence and the data structure\n",
    "            if nuc == ref:\n",
    "                # Add 1 to the appropriate hit\n",
    "                counts[ref] += 1\n",
    "                # No need for a exceptin case\n",
    "    # return resulting dictionary\n",
    "    return counts"
   ]
  },
  {
   "cell_type": "markdown",
   "id": "72eb2421-3715-41ed-b36a-3714feaf7366",
   "metadata": {},
   "source": [
    "## Explanation\n",
    "\n",
    "The approach utilizes ***functions*** for re-use later in the code.\n",
    "The ***function*** written is ***count_contents***.\n",
    "\n",
    "### Implementation of *count_contents*\n",
    "\n",
    "*count_contents* takes one *positional argument*, a sequence in string format (Other iterables work)\n",
    "\n",
    "The *count_contents* ***function*** utilizes\n",
    "* An iteration over the input sequence\n",
    "* An iteration over the keys of a dictionary that contains key value pairs for each nucleotide | error, and a value for the count encountered\n",
    "* A *control flow* check of equality of the input sequence in the specific position in the iteration and the key of the dictionary\n",
    "Once a commonality between the dictionary and the sequence is found, the dictionaries value for that key is incrimented.\n",
    "\n",
    "*count_contents* ***returns*** the dictionary."
   ]
  },
  {
   "cell_type": "code",
   "execution_count": 2,
   "id": "566a2703-ed4a-47f7-b43a-cb74f2802480",
   "metadata": {},
   "outputs": [
    {
     "name": "stdout",
     "output_type": "stream",
     "text": [
      "TOTAL BASES FOR STRING 1: 476, ERRORS: 14, \"A\": 98, \"G\": 153, \"T\": 77, \"C\": 134\n",
      "TOTAL BASES FOR STRING 2: 476, ERRORS: 16, \"A\": 98, \"G\": 152, \"T\": 76, \"C\": 134\n"
     ]
    }
   ],
   "source": [
    "# Call functions into variables to not re run the function mutliple times per string\n",
    "result1 = count_contents(seq1)\n",
    "size1 = len(seq1)\n",
    "result2 = count_contents(seq2)\n",
    "size2 = len(seq2)\n",
    "# Output\n",
    "print(f\"TOTAL BASES FOR STRING 1: {size1}, ERRORS: {result1[\"-\"] + result1[\"N\"]}, \\\"A\\\": {(result1[\"A\"])}, \\\"G\\\": {result1[\"G\"]}, \\\"T\\\": {result1[\"T\"]}, \\\"C\\\": {result1[\"C\"]}\")\n",
    "print(f\"TOTAL BASES FOR STRING 2: {size2}, ERRORS: {result2[\"-\"] + result2[\"N\"]}, \\\"A\\\": {(result2[\"A\"])}, \\\"G\\\": {result2[\"G\"]}, \\\"T\\\": {result2[\"T\"]}, \\\"C\\\": {result2[\"C\"]}\")"
   ]
  },
  {
   "cell_type": "markdown",
   "id": "35ba13a3-9bb8-4c2c-8b9a-6cac89218d5d",
   "metadata": {},
   "source": [
    "### Output formatting\n",
    "\n",
    "Once the ***function: count_contents*** has been written, it is stored in a variable so that the re use of the function does not nessessitate another <u>***function call***</u>.\n",
    "\n",
    "This same idea is used for application of the *len* ***function***.\n",
    "* Output is formatted in a *format string*, once for each sequence\n",
    "\n",
    "Note: a loop for the two sequences to format the output could have been used but, was not used due to the low number of inputs."
   ]
  },
  {
   "cell_type": "code",
   "execution_count": 3,
   "id": "b9436122-fc60-45da-a988-8ef3d8ac16ea",
   "metadata": {},
   "outputs": [],
   "source": [
    "# •\tCalculate the number of matches (per base) and mismatches, when you align the strings. E.g., you can already see 3 matches at positions 5, 8, 9 (G<-->G, G<-->G, T<-->T), and 7 mismatches (-<-->-, C<-->-, A<-->C, G<-->A, etc) in the left area of the two strings: \n",
    "\n",
    "# -CAGGTGGT... (first string)\n",
    "# --CAGGTGT... (second string)\n",
    "\n",
    "# An example of the output should be like: A-A matches=10, G-G matches=20, T-T matches=15, C-C matches=5, mismatches=100.\n",
    "\n",
    "#START OF SOLUTION\n",
    "def align(seq1, seq2) -> tuple:\n",
    "    \"\"\"Returns a dictionary with matches and mismatches of two sequences\"\"\"\n",
    "    # Initializing variables\n",
    "    matches = {\"A\": 0, \"T\": 0, \"G\": 0, \"C\": 0, \"-\": 0, \"N\": 0}\n",
    "    # Iterating the first sequence\n",
    "    for index, nuc in enumerate(seq1):\n",
    "        # Checking match of positions with sequence 2 by indexing into the same position in the second sequence\n",
    "        if nuc == seq2[index]:\n",
    "            # Increasing matches\n",
    "            matches[nuc] += 1\n",
    "    # Everything left is a mismatch so we will calculate it once here instead of re adding 1 in an else statement\n",
    "    mismatches = len(seq1) - (matches[\"A\"] + matches[\"T\"] + matches[\"C\"] + matches[\"G\"])\n",
    "    return matches, mismatches"
   ]
  },
  {
   "cell_type": "markdown",
   "id": "2804998d-b967-4551-8533-f026b0b31ec2",
   "metadata": {},
   "source": [
    "## Explanation\n",
    "\n",
    "The approach utilizes ***functions*** for re-use later in the code.\n",
    "The ***function*** written is ***align***. (a more apt name could have been written)\n",
    "\n",
    "### Implementation of *align*\n",
    "\n",
    "*align* takes two *positional argument*, two sequences in string format (Other iterables work)\n",
    "\n",
    "*align* initializes a dictionary with keys for each nucleotide we expect to encounter (or non nucleotide) and values for the count of the matches\n",
    "\n",
    "The *align* ***function*** utilizes\n",
    "* An iteration over one of the input sequences with *enumerate*\n",
    "* A slicing into the other of the two input sequences at the same position as the index of the loop for the first sequence\n",
    "* A *control flow* check of equality of the nucleotide from the position of the index of the loop in the first and second sequecne\n",
    "* Once a commonality between the sequences is found, the dictionaries value for the key of the nucleotide (or other) in the position of the match is incrimented.\n",
    "* A calculation to calculate the number of msimatches based on the number of matches and the total sequence length is stored in a variable\n",
    "\n",
    "*align* ***returns*** the dictionary and the mismatch variable."
   ]
  },
  {
   "cell_type": "code",
   "execution_count": 4,
   "id": "236970e6-74bb-434d-a6c6-79cf27e5fc38",
   "metadata": {},
   "outputs": [
    {
     "name": "stdout",
     "output_type": "stream",
     "text": [
      "A-A matches = 89, G-G matches = 143, T-T matches = 70, C-C matches = 127, mismatches = 47.\n"
     ]
    }
   ],
   "source": [
    "output = align(seq1, seq2)\n",
    "print(f\"A-A matches = {output[0][\"A\"]}, G-G matches = {output[0][\"G\"]}, T-T matches = {output[0][\"T\"]}, C-C matches = {output[0][\"C\"]}, mismatches = {output[1]}.\")"
   ]
  },
  {
   "cell_type": "markdown",
   "id": "0c8579a1-0c7b-4735-8f4a-f6d794da8c64",
   "metadata": {},
   "source": [
    "### Output formatting\n",
    "\n",
    "Once the ***function: align*** has been written, it is stored in a variable so that the re use of the function does not nessessitate another <u>***function call***</u>.\n",
    "\n",
    "\n",
    "* Output is formatted in a *format string*.\n"
   ]
  },
  {
   "cell_type": "markdown",
   "id": "3db760cd-b4ee-4e1b-87a9-70f76a87e2a5",
   "metadata": {},
   "source": [
    "## Part 2"
   ]
  },
  {
   "cell_type": "code",
   "execution_count": 5,
   "id": "2a3cb5bf-724b-49fd-b11f-52c7585761b3",
   "metadata": {},
   "outputs": [],
   "source": [
    "# Here are some DNA segments that are experimentally verified sequences with high affinity to GATA3 transcription factor:\n",
    "\n",
    "# I have modified the sequences to be within a list\n",
    "sequences = [\n",
    "    'AGATAG',\n",
    "    'AGATAG',\n",
    "    'AGATAG',\n",
    "    'AGATAG',\n",
    "    'CGATAG',\n",
    "    'AGATAC',\n",
    "    'AGATAA',\n",
    "    'GGATAC',\n",
    "    'CGATTG',\n",
    "    'CGATTG',\n",
    "    'AGATAG',\n",
    "    'AGAGAG',\n",
    "    'CGATAC',\n",
    "    'AGATTG',\n",
    "    'CGATAG',\n",
    "    'AGATAC',\n",
    "    'AGATAA',\n",
    "    'GGATAC',\n",
    "    'CGATTG',\n",
    "    'CGATTG'\n",
    "]\n",
    "\n",
    "#  Write a Python script to process those strings in order to calculate the Position Frequency Matrix (PFM). The PFM is a matrix of the form:\n",
    "\n",
    "# Base/Position\t1\t2\t3\t4\t5\t6\n",
    "# A\t11\t0\t20\t0\t15\t2\n",
    "# T\t...\t...\t...\t...\t...\t...\n",
    "# G\t...\t...\t...\t...\t...\t...\n",
    "# C\t...\t...\t...\t...\t...\t...\n",
    "\n",
    "# The values in the cells are the frequencies of bases' occurence in strings' positions. E.g., 11 means that \"A\" appears 11 times in the 1st position of each string, 0 means that that \"A\" appears 0 times in the 2nd/4th position of each string, etc. An example of the output should be like:\n",
    "\n",
    "# A: 11, 0, 20, 0, 15, 2\n",
    "# T: .........\n",
    "# G: .........\n",
    "# C: .........\n",
    "\n",
    "# START OF SOLUTION\n",
    "def matrix(array) -> dict:\n",
    "    \"\"\"Returns a dictionary with the position frequency matrix of a list of sequences\"\"\"\n",
    "    # Creating a data structure to help formatting\n",
    "    # Getting the length of the sequences\n",
    "    positions = len(array[0])\n",
    "    # Making a list for each nucleotide that contains the amount in the positions that relates to the index of the list\n",
    "    indecies = {\"A\": [0]*positions, \"T\": [0]*positions, \"G\": [0]*positions, \"C\": [0]*positions}\n",
    "    # Iterating sequences (plural)\n",
    "    for seq in array:\n",
    "        # Iterating sequence (singular)\n",
    "        for position, nuc in enumerate(seq):\n",
    "            indecies[nuc][position] += 1\n",
    "    return indecies"
   ]
  },
  {
   "cell_type": "markdown",
   "id": "33d7ff5b-5143-41f6-87b9-c8ee87337194",
   "metadata": {},
   "source": [
    "## Explanation\n",
    "\n",
    "Before the start of the solution the input data was converted to a list that holds the different sequences\n",
    "\n",
    "The approach utilizes ***functions*** for re-use.\n",
    "The ***function*** written is ***matrix***.\n",
    "\n",
    "### Implementation of *matrix*\n",
    "\n",
    "*matix* takes one *positional argument*, a list with sequences\n",
    "\n",
    "*matrix* calculates the length of the individual sequences from the list and stores it in a variable (for not needing to re calulate the length each time the *len* ***function*** is called)\n",
    "\n",
    "*matrix* initializes a dictionary with keys for each nucleotide we expect to encounter (or non nucleotide) and values for each position in the sequences of the array argument.\n",
    "\n",
    "The *matrix* ***function*** utilizes\n",
    "* An iteration over the input sequences from the array\n",
    "* An iteration over the sequence from the outer loop with an enumeration\n",
    "* Uses the nucleotide in the position of the sequence, to index into the dictionary and in the list contained within the dictionary, goes to the index of the loop of the enumeration, to incriment the count for that position for that nucleotide by one\n",
    "\n",
    "\n",
    "*marix* ***returns*** the dictionary"
   ]
  },
  {
   "cell_type": "code",
   "execution_count": 6,
   "id": "a957c7fe-41e1-4c9b-9735-861079993458",
   "metadata": {},
   "outputs": [
    {
     "name": "stdout",
     "output_type": "stream",
     "text": [
      "A: 11, 0, 20, 0, 15, 2\n",
      "T: 0, 0, 0, 19, 5, 0\n",
      "G: 2, 20, 0, 1, 0, 13\n",
      "C: 7, 0, 0, 0, 0, 5\n",
      "\n"
     ]
    }
   ],
   "source": [
    "result = matrix(sequences)\n",
    "print(f\"\"\"A: {result[\"A\"]}\n",
    "T: {result[\"T\"]}\n",
    "G: {result[\"G\"]}\n",
    "C: {result[\"C\"]}\n",
    "\"\"\".replace(\"[\", \"\").replace(\"]\", \"\"))"
   ]
  },
  {
   "cell_type": "markdown",
   "id": "4108b20c-0565-4485-be9b-3e8e8ed6fb1d",
   "metadata": {},
   "source": [
    "### Output formatting\n",
    "\n",
    "Once the ***function: matrix*** has been written, it is stored in a variable so that the re use of the function does not nessessitate another <u>***function call***</u>.\n",
    "\n",
    "\n",
    "* Output is formatted in a *format string*."
   ]
  }
 ],
 "metadata": {
  "kernelspec": {
   "display_name": "Python 3 (ipykernel)",
   "language": "python",
   "name": "python3"
  },
  "language_info": {
   "codemirror_mode": {
    "name": "ipython",
    "version": 3
   },
   "file_extension": ".py",
   "mimetype": "text/x-python",
   "name": "python",
   "nbconvert_exporter": "python",
   "pygments_lexer": "ipython3",
   "version": "3.12.4"
  }
 },
 "nbformat": 4,
 "nbformat_minor": 5
}
