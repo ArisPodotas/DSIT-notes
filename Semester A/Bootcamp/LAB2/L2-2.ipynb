{
 "cells": [
  {
   "cell_type": "markdown",
   "metadata": {},
   "source": [
    "# Lesson 2: Data Structures - Part 2"
   ]
  },
  {
   "cell_type": "markdown",
   "metadata": {},
   "source": [
    "## Tuples"
   ]
  },
  {
   "cell_type": "markdown",
   "metadata": {},
   "source": [
    "A **tuple** is an ordered collection of elements, similar to a list, but unlike lists, tuples are **immutable**. This means that once a tuple is created, its elements cannot be modified, added, or removed.\n",
    "\n",
    "Tuples are also used when you want to **return multiple values** from a function!\n",
    "\n",
    "### Creating Tuples\n",
    "\n",
    "A **tuple** is an ordered, **non-changeable** collection of elements. Tuples can hold elements of different data types and are defined using parentheses:\n",
    "\n",
    "```python\n",
    "#create an empty tuple\n",
    "my_tuple = ()\n",
    "\n",
    "#create a tuple with initial values\n",
    "my_tuple = (1, 2, 3, 4, 5)\n",
    "\n",
    "#create a tuple with initial values of different data types\n",
    "my_tuple = (1, \"Hello\", 3.14, True)\n",
    "\n",
    "#create a tuple from other objects, e.g, lists, tuples, range of numbers using the constructor tuple()\n",
    "my_tuple = tuple([1,2,3]) # ...from a list\n",
    "my_tuple = tuple((1,2,3)) # ...from a tuple\n",
    "my_tuple = tuple(range(10)) # ...from a range of numbers\n",
    "```\n",
    "\n",
    "### Immutability of Tuples\n",
    "Since tuples cannot be changed, they are often used to store collections of items that should not be altered throughout the program.\n",
    "\n",
    "### Tuple Unpacking\n",
    "Tuples can be \"unpacked\" into variables:\n",
    "\n",
    "```python\n",
    "person = (\"Alice\", 30, \"Engineer\")\n",
    "name, age, profession = person\n",
    "print(name)  # Outputs: Alice\n",
    "```\n",
    "            "
   ]
  },
  {
   "cell_type": "code",
   "execution_count": 1,
   "metadata": {},
   "outputs": [
    {
     "name": "stdout",
     "output_type": "stream",
     "text": [
      "X: 10, Y: 20\n"
     ]
    }
   ],
   "source": [
    "# Creating and unpacking a tuple\n",
    "\n",
    "#### START\n",
    "\n",
    "coordinates = (10, 20)\n",
    "x, y = coordinates\n",
    "print(f\"X: {x}, Y: {y}\")"
   ]
  },
  {
   "cell_type": "code",
   "execution_count": 2,
   "metadata": {},
   "outputs": [
    {
     "name": "stdout",
     "output_type": "stream",
     "text": [
      "Error: 'tuple' object does not support item assignment\n"
     ]
    }
   ],
   "source": [
    "# Example of immutability\n",
    "\n",
    "#### START\n",
    "\n",
    "try:\n",
    "    coordinates[0] = 15  # This will raise an error\n",
    "except TypeError as e:\n",
    "    print(f\"Error: {e}\")"
   ]
  },
  {
   "cell_type": "markdown",
   "metadata": {},
   "source": [
    "### Tuples vs Lists performance**"
   ]
  },
  {
   "cell_type": "code",
   "execution_count": 1,
   "metadata": {},
   "outputs": [
    {
     "name": "stdout",
     "output_type": "stream",
     "text": [
      "List: \n",
      "0.012856915999999607\n"
     ]
    }
   ],
   "source": [
    "import time \n",
    "\n",
    "mylist = []\n",
    "x = range(100000)\n",
    "\n",
    "#### START\n",
    "\n",
    "#timer: start\n",
    "start = time.perf_counter()\n",
    "\n",
    "# fill a list with 100000 items: FOR LOOP\n",
    "for item in x: # x = 0, 1, 2, 3, 4...., 99999\n",
    "    mylist.append(item)\n",
    "print(\"List: \")\n",
    "\n",
    "#timer: end\n",
    "print(time.perf_counter()-start)"
   ]
  },
  {
   "cell_type": "code",
   "execution_count": 2,
   "metadata": {},
   "outputs": [
    {
     "name": "stdout",
     "output_type": "stream",
     "text": [
      "Tuple: \n",
      "12.972203958\n"
     ]
    }
   ],
   "source": [
    "mytuple = ()\n",
    "x = range(100000)\n",
    "start = time.perf_counter()\n",
    "for item in x:\n",
    "    \n",
    "    #### START\n",
    "    \n",
    "    # , is used to denote that item is a single tuple element and not a number\n",
    "    mytuple = mytuple + (item,)\n",
    "print(\"Tuple: \")\n",
    "print(time.perf_counter()-start)"
   ]
  },
  {
   "cell_type": "markdown",
   "metadata": {},
   "source": [
    "**Why iterations that involve tuples are slow?**\n",
    "* Since tuples are immutable (non-changeable), you are basically copying the contents of the tuple T to a new tuple object at EACH iteration! This is too slow!!!!\n",
    "* On the other hand, tuples may save you from hard debugging! Let's see what happens when two variables reference the same list object: you modify [1, 3, 5, 7], although you do not work directly with variable a!"
   ]
  },
  {
   "cell_type": "code",
   "execution_count": 3,
   "metadata": {},
   "outputs": [
    {
     "name": "stdout",
     "output_type": "stream",
     "text": [
      "[1, 3, 5, 7]\n",
      "[10, 3, 5, 7]\n"
     ]
    }
   ],
   "source": [
    "a = [1, 3, 5, 7]\n",
    "print(a)\n",
    "\n",
    "b = a\n",
    "b[0] = 10\n",
    "print(a)"
   ]
  },
  {
   "cell_type": "markdown",
   "metadata": {},
   "source": [
    "## Exercises: Tuples"
   ]
  },
  {
   "cell_type": "markdown",
   "metadata": {},
   "source": [
    "**Swap two variables using a tuple**"
   ]
  },
  {
   "cell_type": "code",
   "execution_count": 5,
   "metadata": {},
   "outputs": [
    {
     "name": "stdout",
     "output_type": "stream",
     "text": [
      "After swapping: a = 10, b = 5\n"
     ]
    }
   ],
   "source": [
    "a = 5\n",
    "b = 10\n",
    "# Swap using a tuple\n",
    "a, b = b, a\n",
    "print(f\"After swapping: a = {a}, b = {b}\")"
   ]
  },
  {
   "cell_type": "markdown",
   "metadata": {},
   "source": [
    "**Create a tuple that stores a person's name, age, and profession, then unpack it into individual variables**"
   ]
  },
  {
   "cell_type": "code",
   "execution_count": 6,
   "metadata": {},
   "outputs": [
    {
     "name": "stdout",
     "output_type": "stream",
     "text": [
      "Name: John, Age: 28, Profession: Doctor\n"
     ]
    }
   ],
   "source": [
    "person = (\"John\", 28, \"Doctor\")\n",
    "\n",
    "#### START\n",
    "\n",
    "name, age, profession = person\n",
    "print(f\"Name: {name}, Age: {age}, Profession: {profession}\")"
   ]
  },
  {
   "cell_type": "markdown",
   "metadata": {},
   "source": [
    "## Dictionaries"
   ]
  },
  {
   "cell_type": "markdown",
   "metadata": {},
   "source": [
    "A **dictionary** is a collection of key-value pairs. Each key is associated with a specific value, and dictionaries allow for fast lookups.\n",
    "\n",
    "### Creating Dictionaries\n",
    "Dictionaries are created using curly braces `{}`:\n",
    "\n",
    "```python\n",
    "student_grades = {\"Alice\": 85, \"Bob\": 92, \"Charlie\": 78}\n",
    "```\n",
    "\n",
    "### Dictionary Methods\n",
    "- **`get(key)`**: Returns the value for the specified key.\n",
    "- **`update()`**: Updates the dictionary with elements from another dictionary or an iterable of key-value pairs.\n",
    "- **`keys()`**: Returns a list of all keys in the dictionary.\n",
    "- **`values()`**: Returns a list of all values in the dictionary.\n",
    "- **`items()`**: Returns a list of key-value pairs.\n",
    "\n",
    "### Iterating Over Dictionaries\n",
    "You can loop through a dictionary's keys, values, or both:\n",
    "\n",
    "```python\n",
    "for name, grade in student_grades.items():\n",
    "   print(f\"{name}: {grade}\")\n",
    "```       "
   ]
  },
  {
   "cell_type": "code",
   "execution_count": 8,
   "metadata": {},
   "outputs": [
    {
     "name": "stdout",
     "output_type": "stream",
     "text": [
      "Bob's phone number: 555-5678\n"
     ]
    }
   ],
   "source": [
    "# Creating and using a dictionary\n",
    "phonebook = {\"Alice\": \"555-1234\", \"Bob\": \"555-5678\", \"Charlie\": \"555-8765\"}\n",
    "\n",
    "#### START\n",
    "\n",
    "# Accessing values\n",
    "print(\"Bob's phone number:\", phonebook.get(\"Bob\"))"
   ]
  },
  {
   "cell_type": "code",
   "execution_count": 9,
   "metadata": {},
   "outputs": [
    {
     "name": "stdout",
     "output_type": "stream",
     "text": [
      "Updated phonebook: {'Alice': '555-1234', 'Bob': '555-5678', 'Charlie': '555-8765', 'David': '555-4321'}\n"
     ]
    }
   ],
   "source": [
    "# Updating the dictionary\n",
    "\n",
    "#### START\n",
    "\n",
    "phonebook[\"David\"] = \"555-4321\"\n",
    "print(\"Updated phonebook:\", phonebook)"
   ]
  },
  {
   "cell_type": "code",
   "execution_count": 10,
   "metadata": {},
   "outputs": [
    {
     "name": "stdout",
     "output_type": "stream",
     "text": [
      "Alice: 555-1234\n",
      "Bob: 555-5678\n",
      "Charlie: 555-8765\n",
      "David: 555-4321\n"
     ]
    }
   ],
   "source": [
    "# Iterating over the dictionary\n",
    "\n",
    "#### START\n",
    "\n",
    "for name, number in phonebook.items():\n",
    "    print(f\"{name}: {number}\")"
   ]
  },
  {
   "cell_type": "markdown",
   "metadata": {},
   "source": [
    "## Exercises: Dictionaries"
   ]
  },
  {
   "cell_type": "markdown",
   "metadata": {},
   "source": [
    "**Create a dictionary to store student grades and write a program to calculate the class average**        "
   ]
  },
  {
   "cell_type": "code",
   "execution_count": 11,
   "metadata": {},
   "outputs": [
    {
     "name": "stdout",
     "output_type": "stream",
     "text": [
      "Class average: 86.0\n"
     ]
    }
   ],
   "source": [
    "student_grades = {\"Alice\": 88, \"Bob\": 92, \"Charlie\": 79, \"David\": 85}\n",
    "\n",
    "#### START\n",
    "\n",
    "my_sum = 0\n",
    "for i in student_grades.values():\n",
    "    my_sum = my_sum + i\n",
    "average = my_sum/len(student_grades)  #len: length of dictionary\n",
    "print(f\"Class average: {average}\")"
   ]
  },
  {
   "cell_type": "code",
   "execution_count": 7,
   "metadata": {},
   "outputs": [
    {
     "name": "stdout",
     "output_type": "stream",
     "text": [
      "Class average: 86.0\n"
     ]
    }
   ],
   "source": [
    "student_grades = {\"Alice\": 88, \"Bob\": 92, \"Charlie\": 79, \"David\": 85}\n",
    "\n",
    "#### START\n",
    "\n",
    "total = sum(student_grades.values())\n",
    "average = total / len(student_grades)\n",
    "print(f\"Class average: {average}\")"
   ]
  },
  {
   "cell_type": "markdown",
   "metadata": {},
   "source": [
    "**Create a simple phonebook program using a dictionary that allows adding, deleting, and looking up phone numbers**"
   ]
  },
  {
   "cell_type": "code",
   "execution_count": 13,
   "metadata": {},
   "outputs": [],
   "source": [
    "phonebook = {}\n",
    "\n",
    "def add_contact(name, number):\n",
    "   phonebook[name] = number\n",
    "\n",
    "def delete_contact(name):\n",
    "   if name in phonebook:\n",
    "      del phonebook[name]\n",
    "\n",
    "def lookup_contact(name):\n",
    "   return phonebook.get(name, \"Not found\")"
   ]
  },
  {
   "cell_type": "code",
   "execution_count": 14,
   "metadata": {},
   "outputs": [
    {
     "name": "stdout",
     "output_type": "stream",
     "text": [
      "Phonebook after adding contacts: {'Alice': '555-1234', 'Bob': '555-5678'}\n"
     ]
    }
   ],
   "source": [
    "# Adding contacts\n",
    "\n",
    "#### START\n",
    "\n",
    "add_contact(\"Alice\", \"555-1234\")\n",
    "add_contact(\"Bob\", \"555-5678\")\n",
    "print(\"Phonebook after adding contacts:\", phonebook)"
   ]
  },
  {
   "cell_type": "code",
   "execution_count": 15,
   "metadata": {},
   "outputs": [
    {
     "name": "stdout",
     "output_type": "stream",
     "text": [
      "Phonebook after deleting Alice: {'Bob': '555-5678'}\n"
     ]
    }
   ],
   "source": [
    "# Deleting a contact\n",
    "\n",
    "#### START\n",
    "\n",
    "delete_contact(\"Alice\")\n",
    "print(\"Phonebook after deleting Alice:\", phonebook)"
   ]
  },
  {
   "cell_type": "code",
   "execution_count": 16,
   "metadata": {},
   "outputs": [
    {
     "name": "stdout",
     "output_type": "stream",
     "text": [
      "Lookup Bob's number: 555-5678\n"
     ]
    }
   ],
   "source": [
    "# Looking up a contact\n",
    "\n",
    "#### START\n",
    "\n",
    "print(\"Lookup Bob's number:\", lookup_contact(\"Bob\"))"
   ]
  },
  {
   "cell_type": "markdown",
   "metadata": {},
   "source": [
    "**Count bases in a DNA string**"
   ]
  },
  {
   "cell_type": "code",
   "execution_count": 18,
   "metadata": {},
   "outputs": [
    {
     "name": "stdout",
     "output_type": "stream",
     "text": [
      "2\n"
     ]
    }
   ],
   "source": [
    "#### START\n",
    "\n",
    "def my_count(dna_string, base):\n",
    "    count_bases = 0 # counter\n",
    "    # it iterates on every single character of the dna variable (string)\n",
    "    for character in dna_string: \n",
    "        if character == base:\n",
    "            count_bases += 1 # i.e., count_bases = count_bases + 1\n",
    "    return count_bases\n",
    "\n",
    "my_dna_string = \"AAATT\"\n",
    "count_A = my_count(my_dna_string, 'T')  # the dna argument becomes \"AAATT\"\n",
    "print(count_A)"
   ]
  },
  {
   "cell_type": "code",
   "execution_count": null,
   "metadata": {},
   "outputs": [],
   "source": []
  }
 ],
 "metadata": {
  "kernelspec": {
   "display_name": "Python 3",
   "language": "python",
   "name": "python3"
  },
  "language_info": {
   "codemirror_mode": {
    "name": "ipython",
    "version": 3
   },
   "file_extension": ".py",
   "mimetype": "text/x-python",
   "name": "python",
   "nbconvert_exporter": "python",
   "pygments_lexer": "ipython3",
   "version": "3.8.5"
  }
 },
 "nbformat": 4,
 "nbformat_minor": 5
}
