{
 "cells": [
  {
   "cell_type": "markdown",
   "metadata": {},
   "source": [
    "# Lesson 2: Data Structures - Part 1"
   ]
  },
  {
   "cell_type": "markdown",
   "metadata": {},
   "source": [
    "## Introduction to Data Structures"
   ]
  },
  {
   "cell_type": "markdown",
   "metadata": {},
   "source": [
    "**Data Structures** are essential for organizing and manipulating data efficiently. They enable programmers to store, access, and modify data in a way that optimizes performance and maintains readability.\n",
    "\n",
    "Common data structures in Python include:\n",
    "- **Lists**: Ordered and mutable collections.\n",
    "- **Tuples**: Ordered and immutable collections.\n",
    "- **Dictionaries**: Key-value pairs for fast lookup.\n",
    "- **Sets**: Unordered collections of unique elements.\n",
    "\n",
    "Each data structure has its own use cases and benefits. Choosing the right data structure for the task can make your code more efficient and easier to maintain.            "
   ]
  },
  {
   "cell_type": "markdown",
   "metadata": {},
   "source": [
    "## Lists"
   ]
  },
  {
   "cell_type": "markdown",
   "metadata": {},
   "source": [
    "### Creating Lists\n",
    "A **list** is an ordered collection of elements. Lists can hold elements of different data types and are defined using square brackets:\n",
    "\n",
    "```python\n",
    "#create an empty list\n",
    "my_list = []\n",
    "\n",
    "#create a list with initial values\n",
    "my_list = [1, 2, 3, 4, 5]\n",
    "\n",
    "#create a list with initial values of difference data types\n",
    "my_list = [1, \"Hello\", 3.14, True]\n",
    "\n",
    "#create a list from other objects, e.g, lists, tuples, range of numbers using the constructor list()\n",
    "my_list = list([1,2,3]) # ...from a list\n",
    "my_list = list((1,2,3)) # ...from a tuple\n",
    "my_list = list(range(10)) # ...from a range of numbers\n",
    "```\n",
    "\n",
    "### List Methods\n",
    "- **`append()`**: Adds an element to the end of the list.\n",
    "- **`remove()`**: Removes the first occurrence of the specified element.\n",
    "- **`insert()`**: Inserts an element at a specified position.\n",
    "- **`pop()`**: Removes and returns the element at the specified position.\n",
    "- **`sort()`**: Sorts the list in ascending order.\n",
    "- **`reverse()`**: Reverses the order of elements in the list.\n",
    "\n",
    "### Slicing\n",
    "Access a range of elements using slicing:\n",
    "\n",
    "```python\n",
    "sublist = my_list[1:4]  # Returns elements from index 1 to 3\n",
    "```\n",
    "\n",
    "Slice syntax: [start:stop:steps]. Note that \"start\" and \"stop\" denote positions. **BE CAREFUL: 0 is the 1st position!!!** Examples:\n",
    "\n",
    "            "
   ]
  },
  {
   "cell_type": "code",
   "execution_count": 1,
   "metadata": {},
   "outputs": [
    {
     "name": "stdout",
     "output_type": "stream",
     "text": [
      "Modified list: ['Bob', 'Eve', 'Charlie', 'Alice', 'Diana']\n",
      "Sliced list: ['Bob', 'Eve', 'Charlie']\n",
      "Sliced list: ['Eve', 'Charlie']\n",
      "Sliced list: ['Bob', 'Eve', 'Charlie']\n",
      "Sliced list: ['Alice', 'Diana']\n",
      "Sliced list: ['Charlie', 'Alice', 'Diana']\n",
      "Sliced list: ['Charlie', 'Alice']\n"
     ]
    }
   ],
   "source": [
    "# Creating and modifying lists\n",
    "names = [\"Alice\", \"Bob\", \"Charlie\", \"Alice\"]\n",
    "names.append(\"Diana\")\n",
    "names.remove(\"Alice\")  # Removes the first occurrence of \"Alice\"\n",
    "names.insert(1, \"Eve\")  # Inserts \"Eve\" at index 1\n",
    "print(\"Modified list:\", names)\n",
    "\n",
    "#### START\n",
    "\n",
    "# the modified list is: ['Bob', 'Eve', 'Charlie', 'Alice', 'Diana']\n",
    "\n",
    "# Slicing\n",
    "# get all elements from 1st to 4th position, excuding the 4th!!!\n",
    "#REMEMBER: 0 means 1st position!!!\n",
    "sublist = names[0:3] \n",
    "print(\"Sliced list:\", sublist)\n",
    "\n",
    "# Slicing\n",
    "# get all elements from 2nd to 4th position, excuding the 4th!!!\n",
    "sublist = names[1:3] \n",
    "print(\"Sliced list:\", sublist)\n",
    "\n",
    "# Slicing\n",
    "# get all elements from beginning to 4th position, excuding the 4th!!!\n",
    "sublist = names[:3] \n",
    "print(\"Sliced list:\", sublist)\n",
    "\n",
    "# Slicing\n",
    "# get all elements from 4th position to the end\n",
    "sublist = names[3:] \n",
    "print(\"Sliced list:\", sublist)\n",
    "\n",
    "# Slicing\n",
    "# get all elements from 4th position(counting from the end - excluding the 4th) to the end\n",
    "sublist = names[-3:] \n",
    "print(\"Sliced list:\", sublist)\n",
    "\n",
    "# Slicing\n",
    "# get all elements from 4th position(counting from the end - excluding the 4th) to 4th position\n",
    "#(counting from the beginning - expluding the 4th)\n",
    "sublist = names[-3:4] \n",
    "print(\"Sliced list:\", sublist)\n"
   ]
  },
  {
   "cell_type": "code",
   "execution_count": 3,
   "metadata": {},
   "outputs": [
    {
     "name": "stdout",
     "output_type": "stream",
     "text": [
      "Sorted list: ['Alice', 'Bob', 'Charlie', 'Diana', 'Eve']\n",
      "Reversed list: ['Eve', 'Diana', 'Charlie', 'Bob', 'Alice']\n",
      "Sorted list: ['Alice', 'Bob', 'Charlie', 'Diana', 'Eve']\n"
     ]
    }
   ],
   "source": [
    "# Sorting and reversing\n",
    "\n",
    "#### START\n",
    "\n",
    "names.sort()\n",
    "print(\"Sorted list:\", names)\n",
    "names.reverse()\n",
    "print(\"Reversed list:\", names)\n",
    "\n",
    "names.sort()\n",
    "print(\"Sorted list:\", names)\n"
   ]
  },
  {
   "cell_type": "markdown",
   "metadata": {},
   "source": [
    "## Exercises: Lists"
   ]
  },
  {
   "cell_type": "markdown",
   "metadata": {},
   "source": [
    "**Create a list of names, sort them alphabetically, and remove duplicates**:          "
   ]
  },
  {
   "cell_type": "code",
   "execution_count": 4,
   "metadata": {},
   "outputs": [
    {
     "name": "stdout",
     "output_type": "stream",
     "text": [
      "Sorted list without duplicates: ['Anna', 'Bob', 'Charlie', 'David']\n"
     ]
    }
   ],
   "source": [
    "names = [\"Anna\", \"Bob\", \"Charlie\", \"Anna\", \"David\", \"Charlie\"]\n",
    "# Remove duplicates by converting to a set and back to a list\n",
    "\n",
    "#### START\n",
    "#unique_setnames = set(names)\n",
    "#unique_names = list(unique_setnames)\n",
    "unique_names = list(set(names))\n",
    "unique_names.sort()\n",
    "print(\"Sorted list without duplicates:\", unique_names)"
   ]
  },
  {
   "cell_type": "markdown",
   "metadata": {},
   "source": [
    "**Write a program that creates a list of the first 10 squares (i.e., 1, 4, 9, 16, …)**"
   ]
  },
  {
   "cell_type": "code",
   "execution_count": 52,
   "metadata": {},
   "outputs": [
    {
     "name": "stdout",
     "output_type": "stream",
     "text": [
      "First 10 squares: [1, 4, 9, 16, 25, 36, 49, 64, 81, 100]\n"
     ]
    }
   ],
   "source": [
    "#initialize a list variable with 10 elements (0s)\n",
    "\n",
    "#### START\n",
    "\n",
    "squares = [0]*10 # initialization\n",
    "for i in range(1, 11):\n",
    "   squares[i-1]=i ** 2\n",
    "print(\"First 10 squares:\", squares)"
   ]
  },
  {
   "cell_type": "code",
   "execution_count": 53,
   "metadata": {},
   "outputs": [
    {
     "name": "stdout",
     "output_type": "stream",
     "text": [
      "First 10 squares: [1, 4, 9, 16, 25, 36, 49, 64, 81, 100]\n"
     ]
    }
   ],
   "source": [
    "#initialize a list variable with 10 elements (0s), using the constructor list()\n",
    "squares = list([0]*10)\n",
    "for i in range(1, 11):\n",
    "   squares[i-1]=i ** 2\n",
    "print(\"First 10 squares:\", squares)"
   ]
  },
  {
   "cell_type": "code",
   "execution_count": 54,
   "metadata": {},
   "outputs": [
    {
     "name": "stdout",
     "output_type": "stream",
     "text": [
      "First 10 squares: [1, 4, 9, 16, 25, 36, 49, 64, 81, 100]\n"
     ]
    }
   ],
   "source": [
    "#initialize an empty list variable\n",
    "#Cannot use indexes, eg squares[0]!!! You should use append to fill the list\n",
    "squares = []\n",
    "for i in range(1, 11):\n",
    "   squares.append(i ** 2)\n",
    "print(\"First 10 squares:\", squares)"
   ]
  },
  {
   "cell_type": "code",
   "execution_count": 55,
   "metadata": {},
   "outputs": [
    {
     "name": "stdout",
     "output_type": "stream",
     "text": [
      "First 10 squares: [1, 4, 9, 16, 25, 36, 49, 64, 81, 100]\n"
     ]
    }
   ],
   "source": [
    "squares = [i ** 2 for i in range(1, 11)]\n",
    "print(\"First 10 squares:\", squares)"
   ]
  },
  {
   "cell_type": "code",
   "execution_count": 8,
   "metadata": {},
   "outputs": [
    {
     "name": "stdout",
     "output_type": "stream",
     "text": [
      "First 10 squares: 1 4 9 16 25 36 49 64 81 100 "
     ]
    }
   ],
   "source": [
    "#initialize a list variable with 10 elements, from 1 to 10, using the range method\n",
    "# Note: with the end=\" \" we ask Python not to add a new line at the end of the print commant\n",
    "squares = list(range(1,11))\n",
    "print(\"First 10 squares:\", end=\" \")\n",
    "for i in squares:\n",
    "   print(i**2, end=\" \")"
   ]
  },
  {
   "cell_type": "code",
   "execution_count": null,
   "metadata": {},
   "outputs": [],
   "source": []
  },
  {
   "cell_type": "code",
   "execution_count": null,
   "metadata": {},
   "outputs": [],
   "source": []
  }
 ],
 "metadata": {
  "kernelspec": {
   "display_name": "Python 3",
   "language": "python",
   "name": "python3"
  },
  "language_info": {
   "codemirror_mode": {
    "name": "ipython",
    "version": 3
   },
   "file_extension": ".py",
   "mimetype": "text/x-python",
   "name": "python",
   "nbconvert_exporter": "python",
   "pygments_lexer": "ipython3",
   "version": "3.8.5"
  }
 },
 "nbformat": 4,
 "nbformat_minor": 5
}
